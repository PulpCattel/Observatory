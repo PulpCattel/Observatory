{
 "cells": [
  {
   "cell_type": "markdown",
   "metadata": {},
   "source": [
    "# Quickstart"
   ]
  },
  {
   "cell_type": "markdown",
   "metadata": {},
   "source": [
    "Welcome to the Observatory quickstart.  \n",
    "This will guide you through the basic of how to interact with Jupyter Lab (ex Jupyter Notebook) to use the Observatory.\n",
    "\n",
    "The whole process should not take more than a couple of minutes and should be all you need to start looking at the Bitcoin blockhain. No programming nor technical skill is required.\n",
    "\n",
    "You'll need a running Bitcoin Knots (either daemon or QT) to complete the quickstart."
   ]
  },
  {
   "cell_type": "markdown",
   "metadata": {},
   "source": [
    "* [Markdown cells](#Markdown-cells)\n",
    "* [Code cells](#Code-cells)\n",
    "* [User input](#User-input)\n",
    "* [Conclusion](#Conclusion)"
   ]
  },
  {
   "cell_type": "markdown",
   "metadata": {},
   "source": [
    "---"
   ]
  },
  {
   "cell_type": "markdown",
   "metadata": {},
   "source": [
    "## Markdown cells"
   ]
  },
  {
   "cell_type": "markdown",
   "metadata": {},
   "source": [
    "I'm a **Markdown** cell, you can double click me to turn me into editable text.\n",
    "\n",
    "Try now!"
   ]
  },
  {
   "cell_type": "markdown",
   "metadata": {},
   "source": [
    "To turn it **back** into nicely formatted Markdown, select the cell (*left click*) and click on the ▶️ button right at the top of the file.  \n",
    "You can also run it with the combo `shift`+`enter` on your keyboard.\n",
    "\n",
    "Try now!"
   ]
  },
  {
   "cell_type": "markdown",
   "metadata": {},
   "source": [
    "---"
   ]
  },
  {
   "cell_type": "markdown",
   "metadata": {},
   "source": [
    "## Code cells"
   ]
  },
  {
   "cell_type": "code",
   "execution_count": null,
   "metadata": {},
   "outputs": [],
   "source": [
    "# I'm a code cell, I've to put a leading '#' when I want to speak (AKA comment) otherwise Python will be angry at me.\n",
    "# You can run me exactly like a Markdown cell, but instead of printing out nicely formatted Markdown, I'll run the code.\n",
    "# Since I'm a very simple cell, I'll just say 'Hello' to you.\n",
    "\n",
    "print('Hello')\n",
    "\n",
    "# Try now!"
   ]
  },
  {
   "cell_type": "markdown",
   "metadata": {},
   "source": [
    "As you can see, `Hello` appeared on screen right below the previous code cell when you ran it.\n",
    "\n",
    "If you want to get rid of the code output, you can **right click** on the code cell and select `Clear Outputs`.  \n",
    "If you want to get rid of every code outputs in the file, you can select `Clear All Outputs` instead.\n",
    "\n",
    "Try now!"
   ]
  },
  {
   "cell_type": "code",
   "execution_count": null,
   "metadata": {},
   "outputs": [],
   "source": [
    "# The above cell was very basic and useless, let's try something more interesting.\n",
    "# I'm a code cell that will return all the Wasabi like Bitcoin transactions in the last mined block.\n",
    "# You can run me as before.\n",
    "\n",
    "import observatory as obs\n",
    "from advanced.filters import WasabiTxFilter\n",
    "txs = await obs.create_dataframe(-1, 0, WasabiTxFilter())\n",
    "\n",
    "# Try now!"
   ]
  },
  {
   "cell_type": "markdown",
   "metadata": {},
   "source": [
    "As you can see, the above code cell returned to you the number of transanctions found, the time that it took and also stored the transanctions found into `txs`.\n",
    "\n",
    "It will also create for you two links, that you cannot use here since this is just the quickstart, that will be convenient later for the real analysis."
   ]
  },
  {
   "cell_type": "markdown",
   "metadata": {},
   "source": [
    "---"
   ]
  },
  {
   "cell_type": "markdown",
   "metadata": {},
   "source": [
    "## User input"
   ]
  },
  {
   "cell_type": "markdown",
   "metadata": {},
   "source": [
    "Now that you should be able to run the different type of cells, let's see how to tell the Observatory what you want to search."
   ]
  },
  {
   "cell_type": "code",
   "execution_count": null,
   "metadata": {},
   "outputs": [],
   "source": [
    "# I'm a code cell exactly like before, but I have an 'INSERT HERE' comment right below.\n",
    "# This is the signal that this is the place where to insert your inputs.\n",
    "# By default I will search for Wasabi like CoinJoin transactions in the last block, but you can tweak the 'start = -1' to whatever you like.\n",
    "# e.g., try searching in the last 10 blocks by changing it to 'start = -10'\n",
    "\n",
    "\n",
    "import observatory as obs\n",
    "from advanced.filters import WasabiTxFilter\n",
    "\n",
    "\n",
    "### INSERT HERE ###\n",
    "start = -1\n",
    "\n",
    "\n",
    "txs = await obs.create_dataframe(start, 0, WasabiTxFilter())\n",
    "\n",
    "# Try now!"
   ]
  },
  {
   "cell_type": "markdown",
   "metadata": {},
   "source": [
    "As you can see, changing the `start` will change the number of block scanned and thus also the time needed."
   ]
  },
  {
   "cell_type": "markdown",
   "metadata": {},
   "source": [
    "---"
   ]
  },
  {
   "cell_type": "markdown",
   "metadata": {},
   "source": [
    "## Conclusion"
   ]
  },
  {
   "cell_type": "markdown",
   "metadata": {},
   "source": [
    "This is the basic knowdledge required. If you want to learn more the Jupyter Lab documentation is the first go-to place.  \n",
    "There are many customizations possible and, if you want, you can extend the Observatory much much further than that."
   ]
  },
  {
   "cell_type": "markdown",
   "metadata": {},
   "source": [
    "If you want to start your own analysis, the recommended way is to `duplicate` the `Observatory_template.ipynb` by right clicking on it from the left `File Browser` menu."
   ]
  },
  {
   "cell_type": "markdown",
   "metadata": {},
   "source": [
    "Enjoy!"
   ]
  }
 ],
 "metadata": {
  "kernelspec": {
   "display_name": "Python 3",
   "language": "python",
   "name": "python3"
  },
  "language_info": {
   "codemirror_mode": {
    "name": "ipython",
    "version": 3
   },
   "file_extension": ".py",
   "mimetype": "text/x-python",
   "name": "python",
   "nbconvert_exporter": "python",
   "pygments_lexer": "ipython3",
   "version": "3.7.3"
  }
 },
 "nbformat": 4,
 "nbformat_minor": 4
}
