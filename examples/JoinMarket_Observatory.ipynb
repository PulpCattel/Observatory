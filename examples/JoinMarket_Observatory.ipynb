{
 "cells": [
  {
   "cell_type": "markdown",
   "metadata": {},
   "source": [
    "# Observatory"
   ]
  },
  {
   "cell_type": "markdown",
   "metadata": {},
   "source": [
    "## Menu"
   ]
  },
  {
   "cell_type": "markdown",
   "metadata": {},
   "source": [
    "**Setup**\n",
    "\n",
    "* [Create new dataframe](#Crate-new-dataframe)\n",
    "* [Save dataframe](#Save-dataframe)\n",
    "* [Load dataframe](#Load-existing-dataframe)\n",
    "\n",
    "**Analysis**\n",
    "\n",
    "* [Glimpse](#Glimpse)\n",
    "* [Stats](#Stats)\n",
    "* [Transaction explorer](#Transaction-explorer)\n",
    "* [Plot](#Plot)\n",
    "* [Volume](#Volume)\n",
    "* [Daily](#Daily)\n",
    "\n",
    "**Advanced**\n",
    "\n",
    "* [Advanced creation](#Advanced-creation)"
   ]
  },
  {
   "cell_type": "markdown",
   "metadata": {},
   "source": [
    "---"
   ]
  },
  {
   "cell_type": "markdown",
   "metadata": {},
   "source": [
    "## Create new dataframe"
   ]
  },
  {
   "cell_type": "markdown",
   "metadata": {},
   "source": [
    "Insert in the cell below the `start` block height and the `end` block height, select your desired filter and run it to create the dataframe.\n",
    "\n",
    "**Example:**\n",
    "  \n",
    "`start = 100`  \n",
    "`end = 200`  \n",
    "\n",
    "Will search for transactions between block 100 and block 200 included.\n",
    "\n",
    "You can also give **negative** values to `start` and this will scan the last chosen blocks **depending** on the `end` value.\n",
    "\n",
    "**Example:**\n",
    "\n",
    "`start = -10`  \n",
    "`end = 0`\n",
    "\n",
    "Will search for transactions in the last 10 blocks.\n",
    "\n",
    "**Example:**\n",
    "\n",
    "`start = -10`  \n",
    "`end = 5`\n",
    "\n",
    "Will search for transanction in 5 block starting from ten blocks ago."
   ]
  },
  {
   "cell_type": "code",
   "execution_count": 1,
   "metadata": {},
   "outputs": [
    {
     "name": "stderr",
     "output_type": "stream",
     "text": [
      "4531it [12:18,  6.14it/s]\n"
     ]
    },
    {
     "data": {
      "text/markdown": [
       "Created dataframe of **6373** transactions in 738.72s"
      ]
     },
     "metadata": {},
     "output_type": "display_data"
    },
    {
     "data": {
      "text/markdown": [
       "[Save dataframe](#Save-dataframe)"
      ]
     },
     "metadata": {},
     "output_type": "display_data"
    },
    {
     "data": {
      "text/markdown": [
       "[Start analysis](#Glimpse)"
      ]
     },
     "metadata": {},
     "output_type": "display_data"
    }
   ],
   "source": [
    "import observatory as obs\n",
    "import advanced.filters as filters\n",
    "\n",
    "\n",
    "### INSERT HERE ###\n",
    "start = 646201\n",
    "end = 650731\n",
    "txid = ''\n",
    "address = ''\n",
    "\n",
    "\n",
    "### CHOOSE ONE OF THE FILTERS BELOW BY REMOVING THE '#' IN FRONT OF IT ###\n",
    "#tx_filter = filters.TxFilter() # This will return every transaction\n",
    "#tx_filter = filters.CjTxFilter()\n",
    "#tx_filter = filters.WasabiTxFilter()\n",
    "tx_filter = filters.JoinmarketTxFilter()\n",
    "#tx_filter = filters.TxidTxFilter(txid) # If you pick me, don't forget to insert a 'txid' above.\n",
    "#tx_filter = filters.AddressTxFilter(address) # If you pick me, don't forget to insert an 'address' above.\n",
    "#tx_filter = filters.CoinbaseTxFilter()\n",
    "\n",
    "txs = await obs.create_dataframe(start, end, tx_filter)"
   ]
  },
  {
   "cell_type": "markdown",
   "metadata": {},
   "source": [
    "[Back to menu](#Menu)\n",
    "\n",
    "---"
   ]
  },
  {
   "cell_type": "markdown",
   "metadata": {},
   "source": [
    "The JoinMarket like CoinJoin transactions of September are poisoned by over 5000 false positive transactions, likely from the same individual.\n",
    "\n",
    "Those transactions share very similar patterns and fees and have all the exact same denomination of 0.099976 and 3 equally sized output.\n",
    "\n",
    "Some examples are:\n",
    "\n",
    "* 17fc6ffa8ce5cea9d74860ed032674eccea5d772cf7db1d1014c64c39e2ff45c\n",
    "* 95f0b082444dbc378d2486f77c87a93f4cff1bcee15884e773eef1a73282fa62\n",
    "\n",
    "The code cell below remove all those transactions from the dataframe.\n"
   ]
  },
  {
   "cell_type": "code",
   "execution_count": 7,
   "metadata": {},
   "outputs": [],
   "source": [
    "txs = txs[txs['den'] != 0.099976]"
   ]
  },
  {
   "cell_type": "markdown",
   "metadata": {},
   "source": [
    "## Save dataframe"
   ]
  },
  {
   "cell_type": "markdown",
   "metadata": {},
   "source": [
    "Insert the **filepath** where to save and run the cell.\n",
    "\n",
    "**Examples:**\n",
    "    \n",
    "`filepath = 'thisfilename'`  \n",
    "`filepath = '/home/thisfilename'`  \n",
    "`filepath = 'results/wasabi/thisfilename'`\n",
    "\n",
    "Will create a `thisfilename.ftr` file into the given filepath."
   ]
  },
  {
   "cell_type": "code",
   "execution_count": 8,
   "metadata": {},
   "outputs": [
    {
     "name": "stdout",
     "output_type": "stream",
     "text": [
      "Dataframe succesfully saved in 0.1s\n"
     ]
    }
   ],
   "source": [
    "### INSERT HERE ###\n",
    "filepath = 'results/JoinMarket_txs_September'\n",
    "\n",
    "\n",
    "obs.save(filepath, txs)"
   ]
  },
  {
   "cell_type": "markdown",
   "metadata": {},
   "source": [
    "[Back to menu](#Menu)\n",
    "\n",
    "---"
   ]
  },
  {
   "cell_type": "markdown",
   "metadata": {},
   "source": [
    "## Load existing dataframe"
   ]
  },
  {
   "cell_type": "markdown",
   "metadata": {},
   "source": [
    "Insert the **filepath** of the dataframe to load and run the cell.\n",
    "\n",
    "**Examples:**\n",
    "    \n",
    "`filepath = 'thisfilename'`  \n",
    "`filepath = '/home/thisfilename'`  \n",
    "`filepath = 'results/mytxs/thisfilename'`\n",
    "\n",
    "Will load the `thisfilename.ftr` file from the given filepath."
   ]
  },
  {
   "cell_type": "code",
   "execution_count": null,
   "metadata": {},
   "outputs": [],
   "source": [
    "import observatory as obs\n",
    "\n",
    "\n",
    "### INSERT HERE ###\n",
    "filepath = 'results/mydataframe'\n",
    "\n",
    "\n",
    "txs = obs.load(filepath)"
   ]
  },
  {
   "cell_type": "markdown",
   "metadata": {},
   "source": [
    "[Back to menu](#Menu)\n",
    "\n",
    "---"
   ]
  },
  {
   "cell_type": "markdown",
   "metadata": {},
   "source": [
    "## Glimpse"
   ]
  },
  {
   "cell_type": "markdown",
   "metadata": {},
   "source": [
    "Run the cell below for a glimpse of the dataframe. \n",
    "\n",
    "You can change the `n_txs` value to specify how many transactions to display.  \n",
    "You can also give `n_txs` a **negative** value to display the last n transactions.\n",
    "\n",
    "You can insert the `sort_by` value to specify which column should give the ordering. e.g. 'n_eq', 'date', etc... Default is 'date'."
   ]
  },
  {
   "cell_type": "code",
   "execution_count": 9,
   "metadata": {},
   "outputs": [
    {
     "data": {
      "text/markdown": [
       "**1137 total transactions**"
      ]
     },
     "metadata": {},
     "output_type": "display_data"
    },
    {
     "data": {
      "text/html": [
       "<div>\n",
       "<style scoped>\n",
       "    .dataframe tbody tr th:only-of-type {\n",
       "        vertical-align: middle;\n",
       "    }\n",
       "\n",
       "    .dataframe tbody tr th {\n",
       "        vertical-align: top;\n",
       "    }\n",
       "\n",
       "    .dataframe thead th {\n",
       "        text-align: right;\n",
       "    }\n",
       "</style>\n",
       "<table border=\"1\" class=\"dataframe\">\n",
       "  <thead>\n",
       "    <tr style=\"text-align: right;\">\n",
       "      <th></th>\n",
       "      <th>version</th>\n",
       "      <th>size</th>\n",
       "      <th>vsize</th>\n",
       "      <th>weight</th>\n",
       "      <th>locktime</th>\n",
       "      <th>n_in</th>\n",
       "      <th>n_out</th>\n",
       "      <th>n_eq</th>\n",
       "      <th>den</th>\n",
       "      <th>abs_fee</th>\n",
       "      <th>rel_fee</th>\n",
       "      <th>height</th>\n",
       "      <th>date</th>\n",
       "    </tr>\n",
       "    <tr>\n",
       "      <th>txid</th>\n",
       "      <th></th>\n",
       "      <th></th>\n",
       "      <th></th>\n",
       "      <th></th>\n",
       "      <th></th>\n",
       "      <th></th>\n",
       "      <th></th>\n",
       "      <th></th>\n",
       "      <th></th>\n",
       "      <th></th>\n",
       "      <th></th>\n",
       "      <th></th>\n",
       "      <th></th>\n",
       "    </tr>\n",
       "  </thead>\n",
       "  <tbody>\n",
       "    <tr>\n",
       "      <th>3dbc5d6a91498f62719aa582e851a2565f0973e5338c5b49d25c048a7ca652ea</th>\n",
       "      <td>1</td>\n",
       "      <td>1595</td>\n",
       "      <td>1030</td>\n",
       "      <td>4118</td>\n",
       "      <td>0</td>\n",
       "      <td>7</td>\n",
       "      <td>12</td>\n",
       "      <td>6</td>\n",
       "      <td>0.022003</td>\n",
       "      <td>0.000872</td>\n",
       "      <td>84.625000</td>\n",
       "      <td>646210</td>\n",
       "      <td>2020-09-01 02:19:00</td>\n",
       "    </tr>\n",
       "    <tr>\n",
       "      <th>27d391a75020f62d19b2b0d3b3e02ac5967d3ea5fb725e6b6395f98bdab8d021</th>\n",
       "      <td>1</td>\n",
       "      <td>1126</td>\n",
       "      <td>557</td>\n",
       "      <td>2227</td>\n",
       "      <td>646210</td>\n",
       "      <td>3</td>\n",
       "      <td>5</td>\n",
       "      <td>3</td>\n",
       "      <td>0.017197</td>\n",
       "      <td>0.000587</td>\n",
       "      <td>105.437500</td>\n",
       "      <td>646211</td>\n",
       "      <td>2020-09-01 02:26:00</td>\n",
       "    </tr>\n",
       "    <tr>\n",
       "      <th>15e886e68e416ed064563c74ba635203df6ac5c77c1c05ca954c0a9328017010</th>\n",
       "      <td>2</td>\n",
       "      <td>685</td>\n",
       "      <td>443</td>\n",
       "      <td>1771</td>\n",
       "      <td>646121</td>\n",
       "      <td>3</td>\n",
       "      <td>5</td>\n",
       "      <td>3</td>\n",
       "      <td>1.000000</td>\n",
       "      <td>0.000213</td>\n",
       "      <td>48.000000</td>\n",
       "      <td>646214</td>\n",
       "      <td>2020-09-01 02:43:00</td>\n",
       "    </tr>\n",
       "    <tr>\n",
       "      <th>3947cbcd7da29534917618dbe7bc8a24cd9fa13e011aa87abeb2bec823af37d1</th>\n",
       "      <td>1</td>\n",
       "      <td>1392</td>\n",
       "      <td>908</td>\n",
       "      <td>3630</td>\n",
       "      <td>0</td>\n",
       "      <td>6</td>\n",
       "      <td>11</td>\n",
       "      <td>6</td>\n",
       "      <td>0.014641</td>\n",
       "      <td>0.000312</td>\n",
       "      <td>34.312500</td>\n",
       "      <td>646222</td>\n",
       "      <td>2020-09-01 03:52:00</td>\n",
       "    </tr>\n",
       "    <tr>\n",
       "      <th>5082156d8ff170b28036558d0712f634211388c808a552eabd924df6f616676f</th>\n",
       "      <td>1</td>\n",
       "      <td>20495</td>\n",
       "      <td>12228</td>\n",
       "      <td>48911</td>\n",
       "      <td>0</td>\n",
       "      <td>103</td>\n",
       "      <td>169</td>\n",
       "      <td>85</td>\n",
       "      <td>0.098328</td>\n",
       "      <td>0.007671</td>\n",
       "      <td>62.718750</td>\n",
       "      <td>646227</td>\n",
       "      <td>2020-09-01 04:29:00</td>\n",
       "    </tr>\n",
       "    <tr>\n",
       "      <th>2830b7d75071cb4e4180d2b288968c0317a3635d7d826bfeddd4ab40746272c2</th>\n",
       "      <td>1</td>\n",
       "      <td>1425</td>\n",
       "      <td>940</td>\n",
       "      <td>3759</td>\n",
       "      <td>0</td>\n",
       "      <td>6</td>\n",
       "      <td>12</td>\n",
       "      <td>6</td>\n",
       "      <td>0.026093</td>\n",
       "      <td>0.000118</td>\n",
       "      <td>12.507812</td>\n",
       "      <td>646234</td>\n",
       "      <td>2020-09-01 05:37:00</td>\n",
       "    </tr>\n",
       "    <tr>\n",
       "      <th>eb5185403c544eebe9ba8e4f674dcbb14b67952493fc0bf4c86e44b9eb6c54c8</th>\n",
       "      <td>1</td>\n",
       "      <td>1628</td>\n",
       "      <td>1063</td>\n",
       "      <td>4250</td>\n",
       "      <td>0</td>\n",
       "      <td>7</td>\n",
       "      <td>13</td>\n",
       "      <td>7</td>\n",
       "      <td>0.001057</td>\n",
       "      <td>0.000098</td>\n",
       "      <td>9.210938</td>\n",
       "      <td>646237</td>\n",
       "      <td>2020-09-01 05:58:00</td>\n",
       "    </tr>\n",
       "    <tr>\n",
       "      <th>1e9b2b8d4c9b926b651ff0f7da1af268496472899e4773ae3da678d6e01dca09</th>\n",
       "      <td>2</td>\n",
       "      <td>685</td>\n",
       "      <td>443</td>\n",
       "      <td>1771</td>\n",
       "      <td>646237</td>\n",
       "      <td>3</td>\n",
       "      <td>5</td>\n",
       "      <td>3</td>\n",
       "      <td>1.000000</td>\n",
       "      <td>0.000386</td>\n",
       "      <td>87.000000</td>\n",
       "      <td>646239</td>\n",
       "      <td>2020-09-01 06:21:00</td>\n",
       "    </tr>\n",
       "    <tr>\n",
       "      <th>72129bb9915c76660dd34bc591bed3670b20157d2e88462e8d87e62ed44661fc</th>\n",
       "      <td>1</td>\n",
       "      <td>1662</td>\n",
       "      <td>1095</td>\n",
       "      <td>4380</td>\n",
       "      <td>0</td>\n",
       "      <td>7</td>\n",
       "      <td>14</td>\n",
       "      <td>7</td>\n",
       "      <td>0.034332</td>\n",
       "      <td>0.000151</td>\n",
       "      <td>13.789062</td>\n",
       "      <td>646242</td>\n",
       "      <td>2020-09-01 06:37:00</td>\n",
       "    </tr>\n",
       "    <tr>\n",
       "      <th>119e70e00438853ddc1ea569ccf3dadbed7ac61c0da5ed34954e2fe172ad51f4</th>\n",
       "      <td>1</td>\n",
       "      <td>5069</td>\n",
       "      <td>2981</td>\n",
       "      <td>11924</td>\n",
       "      <td>0</td>\n",
       "      <td>26</td>\n",
       "      <td>39</td>\n",
       "      <td>20</td>\n",
       "      <td>0.098389</td>\n",
       "      <td>0.000067</td>\n",
       "      <td>2.250000</td>\n",
       "      <td>646242</td>\n",
       "      <td>2020-09-01 06:37:00</td>\n",
       "    </tr>\n",
       "  </tbody>\n",
       "</table>\n",
       "</div>"
      ],
      "text/plain": [
       "                                                    version   size  vsize  \\\n",
       "txid                                                                        \n",
       "3dbc5d6a91498f62719aa582e851a2565f0973e5338c5b4...        1   1595   1030   \n",
       "27d391a75020f62d19b2b0d3b3e02ac5967d3ea5fb725e6...        1   1126    557   \n",
       "15e886e68e416ed064563c74ba635203df6ac5c77c1c05c...        2    685    443   \n",
       "3947cbcd7da29534917618dbe7bc8a24cd9fa13e011aa87...        1   1392    908   \n",
       "5082156d8ff170b28036558d0712f634211388c808a552e...        1  20495  12228   \n",
       "2830b7d75071cb4e4180d2b288968c0317a3635d7d826bf...        1   1425    940   \n",
       "eb5185403c544eebe9ba8e4f674dcbb14b67952493fc0bf...        1   1628   1063   \n",
       "1e9b2b8d4c9b926b651ff0f7da1af268496472899e4773a...        2    685    443   \n",
       "72129bb9915c76660dd34bc591bed3670b20157d2e88462...        1   1662   1095   \n",
       "119e70e00438853ddc1ea569ccf3dadbed7ac61c0da5ed3...        1   5069   2981   \n",
       "\n",
       "                                                    weight  locktime  n_in  \\\n",
       "txid                                                                         \n",
       "3dbc5d6a91498f62719aa582e851a2565f0973e5338c5b4...    4118         0     7   \n",
       "27d391a75020f62d19b2b0d3b3e02ac5967d3ea5fb725e6...    2227    646210     3   \n",
       "15e886e68e416ed064563c74ba635203df6ac5c77c1c05c...    1771    646121     3   \n",
       "3947cbcd7da29534917618dbe7bc8a24cd9fa13e011aa87...    3630         0     6   \n",
       "5082156d8ff170b28036558d0712f634211388c808a552e...   48911         0   103   \n",
       "2830b7d75071cb4e4180d2b288968c0317a3635d7d826bf...    3759         0     6   \n",
       "eb5185403c544eebe9ba8e4f674dcbb14b67952493fc0bf...    4250         0     7   \n",
       "1e9b2b8d4c9b926b651ff0f7da1af268496472899e4773a...    1771    646237     3   \n",
       "72129bb9915c76660dd34bc591bed3670b20157d2e88462...    4380         0     7   \n",
       "119e70e00438853ddc1ea569ccf3dadbed7ac61c0da5ed3...   11924         0    26   \n",
       "\n",
       "                                                    n_out  n_eq       den  \\\n",
       "txid                                                                        \n",
       "3dbc5d6a91498f62719aa582e851a2565f0973e5338c5b4...     12     6  0.022003   \n",
       "27d391a75020f62d19b2b0d3b3e02ac5967d3ea5fb725e6...      5     3  0.017197   \n",
       "15e886e68e416ed064563c74ba635203df6ac5c77c1c05c...      5     3  1.000000   \n",
       "3947cbcd7da29534917618dbe7bc8a24cd9fa13e011aa87...     11     6  0.014641   \n",
       "5082156d8ff170b28036558d0712f634211388c808a552e...    169    85  0.098328   \n",
       "2830b7d75071cb4e4180d2b288968c0317a3635d7d826bf...     12     6  0.026093   \n",
       "eb5185403c544eebe9ba8e4f674dcbb14b67952493fc0bf...     13     7  0.001057   \n",
       "1e9b2b8d4c9b926b651ff0f7da1af268496472899e4773a...      5     3  1.000000   \n",
       "72129bb9915c76660dd34bc591bed3670b20157d2e88462...     14     7  0.034332   \n",
       "119e70e00438853ddc1ea569ccf3dadbed7ac61c0da5ed3...     39    20  0.098389   \n",
       "\n",
       "                                                     abs_fee     rel_fee  \\\n",
       "txid                                                                       \n",
       "3dbc5d6a91498f62719aa582e851a2565f0973e5338c5b4...  0.000872   84.625000   \n",
       "27d391a75020f62d19b2b0d3b3e02ac5967d3ea5fb725e6...  0.000587  105.437500   \n",
       "15e886e68e416ed064563c74ba635203df6ac5c77c1c05c...  0.000213   48.000000   \n",
       "3947cbcd7da29534917618dbe7bc8a24cd9fa13e011aa87...  0.000312   34.312500   \n",
       "5082156d8ff170b28036558d0712f634211388c808a552e...  0.007671   62.718750   \n",
       "2830b7d75071cb4e4180d2b288968c0317a3635d7d826bf...  0.000118   12.507812   \n",
       "eb5185403c544eebe9ba8e4f674dcbb14b67952493fc0bf...  0.000098    9.210938   \n",
       "1e9b2b8d4c9b926b651ff0f7da1af268496472899e4773a...  0.000386   87.000000   \n",
       "72129bb9915c76660dd34bc591bed3670b20157d2e88462...  0.000151   13.789062   \n",
       "119e70e00438853ddc1ea569ccf3dadbed7ac61c0da5ed3...  0.000067    2.250000   \n",
       "\n",
       "                                                    height                date  \n",
       "txid                                                                            \n",
       "3dbc5d6a91498f62719aa582e851a2565f0973e5338c5b4...  646210 2020-09-01 02:19:00  \n",
       "27d391a75020f62d19b2b0d3b3e02ac5967d3ea5fb725e6...  646211 2020-09-01 02:26:00  \n",
       "15e886e68e416ed064563c74ba635203df6ac5c77c1c05c...  646214 2020-09-01 02:43:00  \n",
       "3947cbcd7da29534917618dbe7bc8a24cd9fa13e011aa87...  646222 2020-09-01 03:52:00  \n",
       "5082156d8ff170b28036558d0712f634211388c808a552e...  646227 2020-09-01 04:29:00  \n",
       "2830b7d75071cb4e4180d2b288968c0317a3635d7d826bf...  646234 2020-09-01 05:37:00  \n",
       "eb5185403c544eebe9ba8e4f674dcbb14b67952493fc0bf...  646237 2020-09-01 05:58:00  \n",
       "1e9b2b8d4c9b926b651ff0f7da1af268496472899e4773a...  646239 2020-09-01 06:21:00  \n",
       "72129bb9915c76660dd34bc591bed3670b20157d2e88462...  646242 2020-09-01 06:37:00  \n",
       "119e70e00438853ddc1ea569ccf3dadbed7ac61c0da5ed3...  646242 2020-09-01 06:37:00  "
      ]
     },
     "metadata": {},
     "output_type": "display_data"
    }
   ],
   "source": [
    "### INSERT HERE ###\n",
    "n_txs = 10\n",
    "sort_by = ''\n",
    "\n",
    "\n",
    "obs.show_intro(txs, n_txs, sort_by)"
   ]
  },
  {
   "cell_type": "markdown",
   "metadata": {},
   "source": [
    "[Back to menu](#Menu)\n",
    "\n",
    "---"
   ]
  },
  {
   "cell_type": "markdown",
   "metadata": {},
   "source": [
    "## Stats"
   ]
  },
  {
   "cell_type": "markdown",
   "metadata": {},
   "source": [
    "Run the cell below for a list of statistics about the dataframe."
   ]
  },
  {
   "cell_type": "code",
   "execution_count": 10,
   "metadata": {},
   "outputs": [
    {
     "data": {
      "text/html": [
       "<div>\n",
       "<style scoped>\n",
       "    .dataframe tbody tr th:only-of-type {\n",
       "        vertical-align: middle;\n",
       "    }\n",
       "\n",
       "    .dataframe tbody tr th {\n",
       "        vertical-align: top;\n",
       "    }\n",
       "\n",
       "    .dataframe thead th {\n",
       "        text-align: right;\n",
       "    }\n",
       "</style>\n",
       "<table border=\"1\" class=\"dataframe\">\n",
       "  <thead>\n",
       "    <tr style=\"text-align: right;\">\n",
       "      <th></th>\n",
       "      <th>version</th>\n",
       "      <th>size</th>\n",
       "      <th>vsize</th>\n",
       "      <th>weight</th>\n",
       "      <th>locktime</th>\n",
       "      <th>n_in</th>\n",
       "      <th>n_out</th>\n",
       "      <th>n_eq</th>\n",
       "      <th>den</th>\n",
       "      <th>abs_fee</th>\n",
       "      <th>rel_fee</th>\n",
       "      <th>height</th>\n",
       "    </tr>\n",
       "  </thead>\n",
       "  <tbody>\n",
       "    <tr>\n",
       "      <th>count</th>\n",
       "      <td>1137.000000</td>\n",
       "      <td>1137.000000</td>\n",
       "      <td>1137.000000</td>\n",
       "      <td>1137.000000</td>\n",
       "      <td>1137.000000</td>\n",
       "      <td>1137.000000</td>\n",
       "      <td>1137.000000</td>\n",
       "      <td>1137.000000</td>\n",
       "      <td>1137.000000</td>\n",
       "      <td>1137.000000</td>\n",
       "      <td>1137.000000</td>\n",
       "      <td>1137.000000</td>\n",
       "    </tr>\n",
       "    <tr>\n",
       "      <th>mean</th>\n",
       "      <td>1.079156</td>\n",
       "      <td>3021.573439</td>\n",
       "      <td>1855.151275</td>\n",
       "      <td>7419.161829</td>\n",
       "      <td>38275.830255</td>\n",
       "      <td>14.817942</td>\n",
       "      <td>15.713281</td>\n",
       "      <td>8.110818</td>\n",
       "      <td>3.283203</td>\n",
       "      <td>0.001190</td>\n",
       "      <td>inf</td>\n",
       "      <td>648717.328936</td>\n",
       "    </tr>\n",
       "    <tr>\n",
       "      <th>std</th>\n",
       "      <td>0.270100</td>\n",
       "      <td>3128.663809</td>\n",
       "      <td>1821.466807</td>\n",
       "      <td>7285.871490</td>\n",
       "      <td>152683.283712</td>\n",
       "      <td>16.809499</td>\n",
       "      <td>20.671912</td>\n",
       "      <td>10.336590</td>\n",
       "      <td>inf</td>\n",
       "      <td>0.001827</td>\n",
       "      <td>inf</td>\n",
       "      <td>1234.865374</td>\n",
       "    </tr>\n",
       "    <tr>\n",
       "      <th>min</th>\n",
       "      <td>1.000000</td>\n",
       "      <td>611.000000</td>\n",
       "      <td>369.000000</td>\n",
       "      <td>1475.000000</td>\n",
       "      <td>0.000000</td>\n",
       "      <td>3.000000</td>\n",
       "      <td>5.000000</td>\n",
       "      <td>3.000000</td>\n",
       "      <td>0.000294</td>\n",
       "      <td>0.000005</td>\n",
       "      <td>1.019531</td>\n",
       "      <td>646210.000000</td>\n",
       "    </tr>\n",
       "    <tr>\n",
       "      <th>25%</th>\n",
       "      <td>1.000000</td>\n",
       "      <td>1426.000000</td>\n",
       "      <td>934.000000</td>\n",
       "      <td>3736.000000</td>\n",
       "      <td>0.000000</td>\n",
       "      <td>6.000000</td>\n",
       "      <td>8.000000</td>\n",
       "      <td>4.000000</td>\n",
       "      <td>0.056244</td>\n",
       "      <td>0.000157</td>\n",
       "      <td>10.062500</td>\n",
       "      <td>647735.000000</td>\n",
       "    </tr>\n",
       "    <tr>\n",
       "      <th>50%</th>\n",
       "      <td>1.000000</td>\n",
       "      <td>2250.000000</td>\n",
       "      <td>1400.000000</td>\n",
       "      <td>5597.000000</td>\n",
       "      <td>0.000000</td>\n",
       "      <td>10.000000</td>\n",
       "      <td>12.000000</td>\n",
       "      <td>6.000000</td>\n",
       "      <td>0.525879</td>\n",
       "      <td>0.000670</td>\n",
       "      <td>61.250000</td>\n",
       "      <td>648873.000000</td>\n",
       "    </tr>\n",
       "    <tr>\n",
       "      <th>75%</th>\n",
       "      <td>1.000000</td>\n",
       "      <td>3365.000000</td>\n",
       "      <td>2104.000000</td>\n",
       "      <td>8414.000000</td>\n",
       "      <td>0.000000</td>\n",
       "      <td>16.000000</td>\n",
       "      <td>16.000000</td>\n",
       "      <td>8.000000</td>\n",
       "      <td>1.790039</td>\n",
       "      <td>0.001564</td>\n",
       "      <td>89.750000</td>\n",
       "      <td>649707.000000</td>\n",
       "    </tr>\n",
       "    <tr>\n",
       "      <th>max</th>\n",
       "      <td>2.000000</td>\n",
       "      <td>31328.000000</td>\n",
       "      <td>16723.000000</td>\n",
       "      <td>66890.000000</td>\n",
       "      <td>650684.000000</td>\n",
       "      <td>182.000000</td>\n",
       "      <td>186.000000</td>\n",
       "      <td>93.000000</td>\n",
       "      <td>1000.000000</td>\n",
       "      <td>0.022644</td>\n",
       "      <td>783.500000</td>\n",
       "      <td>650723.000000</td>\n",
       "    </tr>\n",
       "  </tbody>\n",
       "</table>\n",
       "</div>"
      ],
      "text/plain": [
       "           version          size         vsize        weight       locktime  \\\n",
       "count  1137.000000   1137.000000   1137.000000   1137.000000    1137.000000   \n",
       "mean      1.079156   3021.573439   1855.151275   7419.161829   38275.830255   \n",
       "std       0.270100   3128.663809   1821.466807   7285.871490  152683.283712   \n",
       "min       1.000000    611.000000    369.000000   1475.000000       0.000000   \n",
       "25%       1.000000   1426.000000    934.000000   3736.000000       0.000000   \n",
       "50%       1.000000   2250.000000   1400.000000   5597.000000       0.000000   \n",
       "75%       1.000000   3365.000000   2104.000000   8414.000000       0.000000   \n",
       "max       2.000000  31328.000000  16723.000000  66890.000000  650684.000000   \n",
       "\n",
       "              n_in        n_out         n_eq          den      abs_fee  \\\n",
       "count  1137.000000  1137.000000  1137.000000  1137.000000  1137.000000   \n",
       "mean     14.817942    15.713281     8.110818     3.283203     0.001190   \n",
       "std      16.809499    20.671912    10.336590          inf     0.001827   \n",
       "min       3.000000     5.000000     3.000000     0.000294     0.000005   \n",
       "25%       6.000000     8.000000     4.000000     0.056244     0.000157   \n",
       "50%      10.000000    12.000000     6.000000     0.525879     0.000670   \n",
       "75%      16.000000    16.000000     8.000000     1.790039     0.001564   \n",
       "max     182.000000   186.000000    93.000000  1000.000000     0.022644   \n",
       "\n",
       "           rel_fee         height  \n",
       "count  1137.000000    1137.000000  \n",
       "mean           inf  648717.328936  \n",
       "std            inf    1234.865374  \n",
       "min       1.019531  646210.000000  \n",
       "25%      10.062500  647735.000000  \n",
       "50%      61.250000  648873.000000  \n",
       "75%      89.750000  649707.000000  \n",
       "max     783.500000  650723.000000  "
      ]
     },
     "execution_count": 10,
     "metadata": {},
     "output_type": "execute_result"
    }
   ],
   "source": [
    "obs.show_stats(txs)"
   ]
  },
  {
   "cell_type": "markdown",
   "metadata": {},
   "source": [
    "[Back to menu](#Menu)\n",
    "\n",
    "---"
   ]
  },
  {
   "cell_type": "markdown",
   "metadata": {},
   "source": [
    "## Transaction explorer"
   ]
  },
  {
   "cell_type": "markdown",
   "metadata": {},
   "source": [
    "Run the cell below to display information about single transactions.\n",
    "\n",
    "If you set `display_all = True` the result will include every input and every output.  \n",
    "If the transaction is huge, or you are looking at more than one transanction. this could be slow or even freeze your browser."
   ]
  },
  {
   "cell_type": "code",
   "execution_count": 20,
   "metadata": {},
   "outputs": [
    {
     "data": {
      "text/html": [
       "<div>\n",
       "<style scoped>\n",
       "    .dataframe tbody tr th:only-of-type {\n",
       "        vertical-align: middle;\n",
       "    }\n",
       "\n",
       "    .dataframe tbody tr th {\n",
       "        vertical-align: top;\n",
       "    }\n",
       "\n",
       "    .dataframe thead th {\n",
       "        text-align: right;\n",
       "    }\n",
       "</style>\n",
       "<table border=\"1\" class=\"dataframe\">\n",
       "  <thead>\n",
       "    <tr style=\"text-align: right;\">\n",
       "      <th></th>\n",
       "      <th>version</th>\n",
       "      <th>size</th>\n",
       "      <th>vsize</th>\n",
       "      <th>weight</th>\n",
       "      <th>locktime</th>\n",
       "      <th>n_in</th>\n",
       "      <th>n_out</th>\n",
       "      <th>n_eq</th>\n",
       "      <th>den</th>\n",
       "      <th>abs_fee</th>\n",
       "      <th>rel_fee</th>\n",
       "      <th>height</th>\n",
       "      <th>date</th>\n",
       "    </tr>\n",
       "    <tr>\n",
       "      <th>txid</th>\n",
       "      <th></th>\n",
       "      <th></th>\n",
       "      <th></th>\n",
       "      <th></th>\n",
       "      <th></th>\n",
       "      <th></th>\n",
       "      <th></th>\n",
       "      <th></th>\n",
       "      <th></th>\n",
       "      <th></th>\n",
       "      <th></th>\n",
       "      <th></th>\n",
       "      <th></th>\n",
       "    </tr>\n",
       "  </thead>\n",
       "  <tbody>\n",
       "    <tr>\n",
       "      <th>72129bb9915c76660dd34bc591bed3670b20157d2e88462e8d87e62ed44661fc</th>\n",
       "      <td>1</td>\n",
       "      <td>1662</td>\n",
       "      <td>1095</td>\n",
       "      <td>4380</td>\n",
       "      <td>0</td>\n",
       "      <td>7</td>\n",
       "      <td>14</td>\n",
       "      <td>7</td>\n",
       "      <td>0.034332</td>\n",
       "      <td>0.000151</td>\n",
       "      <td>13.789062</td>\n",
       "      <td>646242</td>\n",
       "      <td>2020-09-01 06:37:00</td>\n",
       "    </tr>\n",
       "  </tbody>\n",
       "</table>\n",
       "</div>"
      ],
      "text/plain": [
       "                                                                  version  \\\n",
       "txid                                                                        \n",
       "72129bb9915c76660dd34bc591bed3670b20157d2e88462e8d87e62ed44661fc        1   \n",
       "\n",
       "                                                                  size  vsize  \\\n",
       "txid                                                                            \n",
       "72129bb9915c76660dd34bc591bed3670b20157d2e88462e8d87e62ed44661fc  1662   1095   \n",
       "\n",
       "                                                                  weight  \\\n",
       "txid                                                                       \n",
       "72129bb9915c76660dd34bc591bed3670b20157d2e88462e8d87e62ed44661fc    4380   \n",
       "\n",
       "                                                                  locktime  \\\n",
       "txid                                                                         \n",
       "72129bb9915c76660dd34bc591bed3670b20157d2e88462e8d87e62ed44661fc         0   \n",
       "\n",
       "                                                                  n_in  n_out  \\\n",
       "txid                                                                            \n",
       "72129bb9915c76660dd34bc591bed3670b20157d2e88462e8d87e62ed44661fc     7     14   \n",
       "\n",
       "                                                                  n_eq  \\\n",
       "txid                                                                     \n",
       "72129bb9915c76660dd34bc591bed3670b20157d2e88462e8d87e62ed44661fc     7   \n",
       "\n",
       "                                                                       den  \\\n",
       "txid                                                                         \n",
       "72129bb9915c76660dd34bc591bed3670b20157d2e88462e8d87e62ed44661fc  0.034332   \n",
       "\n",
       "                                                                   abs_fee  \\\n",
       "txid                                                                         \n",
       "72129bb9915c76660dd34bc591bed3670b20157d2e88462e8d87e62ed44661fc  0.000151   \n",
       "\n",
       "                                                                    rel_fee  \\\n",
       "txid                                                                          \n",
       "72129bb9915c76660dd34bc591bed3670b20157d2e88462e8d87e62ed44661fc  13.789062   \n",
       "\n",
       "                                                                  height  \\\n",
       "txid                                                                       \n",
       "72129bb9915c76660dd34bc591bed3670b20157d2e88462e8d87e62ed44661fc  646242   \n",
       "\n",
       "                                                                                date  \n",
       "txid                                                                                  \n",
       "72129bb9915c76660dd34bc591bed3670b20157d2e88462e8d87e62ed44661fc 2020-09-01 06:37:00  "
      ]
     },
     "metadata": {},
     "output_type": "display_data"
    },
    {
     "data": {
      "text/markdown": [
       "### Inputs"
      ]
     },
     "metadata": {},
     "output_type": "display_data"
    },
    {
     "data": {
      "text/html": [
       "<div>\n",
       "<style scoped>\n",
       "    .dataframe tbody tr th:only-of-type {\n",
       "        vertical-align: middle;\n",
       "    }\n",
       "\n",
       "    .dataframe tbody tr th {\n",
       "        vertical-align: top;\n",
       "    }\n",
       "\n",
       "    .dataframe thead th {\n",
       "        text-align: right;\n",
       "    }\n",
       "</style>\n",
       "<table border=\"1\" class=\"dataframe\">\n",
       "  <thead>\n",
       "    <tr style=\"text-align: right;\">\n",
       "      <th></th>\n",
       "      <th>txid</th>\n",
       "      <th>height</th>\n",
       "      <th>value</th>\n",
       "      <th>vout</th>\n",
       "      <th>addresses</th>\n",
       "      <th>type</th>\n",
       "    </tr>\n",
       "  </thead>\n",
       "  <tbody>\n",
       "    <tr>\n",
       "      <th>0</th>\n",
       "      <td>9a32caaf6568755c5e37551ac274bdd9dd21e914327d3258e43c426a733e91bf</td>\n",
       "      <td>645967</td>\n",
       "      <td>0.036842</td>\n",
       "      <td>10</td>\n",
       "      <td>[3NN2yFQ76BsG1QALeD221UktxQWBjvZYyH]</td>\n",
       "      <td>scripthash</td>\n",
       "    </tr>\n",
       "    <tr>\n",
       "      <th>1</th>\n",
       "      <td>279eac85ff93b06f6368ae8557a911b7047cf92cfbdc304e9f5ca01d0fc69917</td>\n",
       "      <td>645650</td>\n",
       "      <td>0.040659</td>\n",
       "      <td>8</td>\n",
       "      <td>[35dFSCnEoceGCxT9xg5CfmwfmuBdV9VjFk]</td>\n",
       "      <td>scripthash</td>\n",
       "    </tr>\n",
       "    <tr>\n",
       "      <th>2</th>\n",
       "      <td>4d772ea08f2952278ff6dc3875af895a3c93e12eca98552b990922bf076b7139</td>\n",
       "      <td>646126</td>\n",
       "      <td>0.056990</td>\n",
       "      <td>13</td>\n",
       "      <td>[32vXWbo3CAdAb3eSrsrAbjGmRbjrB2R33x]</td>\n",
       "      <td>scripthash</td>\n",
       "    </tr>\n",
       "    <tr>\n",
       "      <th>3</th>\n",
       "      <td>2830b7d75071cb4e4180d2b288968c0317a3635d7d826bfeddd4ab40746272c2</td>\n",
       "      <td>646234</td>\n",
       "      <td>0.055947</td>\n",
       "      <td>1</td>\n",
       "      <td>[34N6iNmBV4t32avCXNnutvVNKNvwepPYF5]</td>\n",
       "      <td>scripthash</td>\n",
       "    </tr>\n",
       "    <tr>\n",
       "      <th>4</th>\n",
       "      <td>3dbc5d6a91498f62719aa582e851a2565f0973e5338c5b49d25c048a7ca652ea</td>\n",
       "      <td>646210</td>\n",
       "      <td>0.034938</td>\n",
       "      <td>6</td>\n",
       "      <td>[33vhMXgqBnzcWUC5yfphsXjUVjYNZ7vyK2]</td>\n",
       "      <td>scripthash</td>\n",
       "    </tr>\n",
       "    <tr>\n",
       "      <th>5</th>\n",
       "      <td>8d876bd78dd56e1d865782831b00b6646e9b27aa6f3b9c011b47173991041409</td>\n",
       "      <td>645847</td>\n",
       "      <td>0.068900</td>\n",
       "      <td>2</td>\n",
       "      <td>[3P2qKSAsZwyTRES1vZzexwWihqYZoFDney]</td>\n",
       "      <td>scripthash</td>\n",
       "    </tr>\n",
       "    <tr>\n",
       "      <th>6</th>\n",
       "      <td>286921caee8937561017848e648d394d9e62da39b1fd553415f37808d3bef853</td>\n",
       "      <td>646071</td>\n",
       "      <td>0.164965</td>\n",
       "      <td>4</td>\n",
       "      <td>[33mUxmCEABwr2QYxYV1YHjV4zWthADuo4s]</td>\n",
       "      <td>scripthash</td>\n",
       "    </tr>\n",
       "  </tbody>\n",
       "</table>\n",
       "</div>"
      ],
      "text/plain": [
       "                                                               txid  height  \\\n",
       "0  9a32caaf6568755c5e37551ac274bdd9dd21e914327d3258e43c426a733e91bf  645967   \n",
       "1  279eac85ff93b06f6368ae8557a911b7047cf92cfbdc304e9f5ca01d0fc69917  645650   \n",
       "2  4d772ea08f2952278ff6dc3875af895a3c93e12eca98552b990922bf076b7139  646126   \n",
       "3  2830b7d75071cb4e4180d2b288968c0317a3635d7d826bfeddd4ab40746272c2  646234   \n",
       "4  3dbc5d6a91498f62719aa582e851a2565f0973e5338c5b49d25c048a7ca652ea  646210   \n",
       "5  8d876bd78dd56e1d865782831b00b6646e9b27aa6f3b9c011b47173991041409  645847   \n",
       "6  286921caee8937561017848e648d394d9e62da39b1fd553415f37808d3bef853  646071   \n",
       "\n",
       "      value  vout                             addresses        type  \n",
       "0  0.036842    10  [3NN2yFQ76BsG1QALeD221UktxQWBjvZYyH]  scripthash  \n",
       "1  0.040659     8  [35dFSCnEoceGCxT9xg5CfmwfmuBdV9VjFk]  scripthash  \n",
       "2  0.056990    13  [32vXWbo3CAdAb3eSrsrAbjGmRbjrB2R33x]  scripthash  \n",
       "3  0.055947     1  [34N6iNmBV4t32avCXNnutvVNKNvwepPYF5]  scripthash  \n",
       "4  0.034938     6  [33vhMXgqBnzcWUC5yfphsXjUVjYNZ7vyK2]  scripthash  \n",
       "5  0.068900     2  [3P2qKSAsZwyTRES1vZzexwWihqYZoFDney]  scripthash  \n",
       "6  0.164965     4  [33mUxmCEABwr2QYxYV1YHjV4zWthADuo4s]  scripthash  "
      ]
     },
     "metadata": {},
     "output_type": "display_data"
    },
    {
     "data": {
      "text/markdown": [
       "### Outputs"
      ]
     },
     "metadata": {},
     "output_type": "display_data"
    },
    {
     "data": {
      "text/html": [
       "<div>\n",
       "<style scoped>\n",
       "    .dataframe tbody tr th:only-of-type {\n",
       "        vertical-align: middle;\n",
       "    }\n",
       "\n",
       "    .dataframe tbody tr th {\n",
       "        vertical-align: top;\n",
       "    }\n",
       "\n",
       "    .dataframe thead th {\n",
       "        text-align: right;\n",
       "    }\n",
       "</style>\n",
       "<table border=\"1\" class=\"dataframe\">\n",
       "  <thead>\n",
       "    <tr style=\"text-align: right;\">\n",
       "      <th></th>\n",
       "      <th>value</th>\n",
       "      <th>addresses</th>\n",
       "      <th>type</th>\n",
       "    </tr>\n",
       "    <tr>\n",
       "      <th>vout</th>\n",
       "      <th></th>\n",
       "      <th></th>\n",
       "      <th></th>\n",
       "    </tr>\n",
       "  </thead>\n",
       "  <tbody>\n",
       "    <tr>\n",
       "      <th>0</th>\n",
       "      <td>0.034345</td>\n",
       "      <td>[34xZktX6ufMNL3h8yucQkwb1k1NsmofAXK]</td>\n",
       "      <td>scripthash</td>\n",
       "    </tr>\n",
       "    <tr>\n",
       "      <th>1</th>\n",
       "      <td>0.034345</td>\n",
       "      <td>[3P8biKzsvKmNUVKgWfRhzost6purN5Ji2W]</td>\n",
       "      <td>scripthash</td>\n",
       "    </tr>\n",
       "    <tr>\n",
       "      <th>2</th>\n",
       "      <td>0.034555</td>\n",
       "      <td>[3Nrq2FKe5D8i3gxBH95LdNSyzMiXHiSVaE]</td>\n",
       "      <td>scripthash</td>\n",
       "    </tr>\n",
       "    <tr>\n",
       "      <th>3</th>\n",
       "      <td>0.034345</td>\n",
       "      <td>[3LZiMs26vdivPG1DqAu8TKotAcnrwsHz4s]</td>\n",
       "      <td>scripthash</td>\n",
       "    </tr>\n",
       "    <tr>\n",
       "      <th>4</th>\n",
       "      <td>0.022645</td>\n",
       "      <td>[3J5T71LdX8fPQLabrMqewTxCbqXLQDbKkb]</td>\n",
       "      <td>scripthash</td>\n",
       "    </tr>\n",
       "    <tr>\n",
       "      <th>5</th>\n",
       "      <td>0.000593</td>\n",
       "      <td>[3DkfrEyBf6yPtPZmmtZBm14SwMFCuMnBj3]</td>\n",
       "      <td>scripthash</td>\n",
       "    </tr>\n",
       "    <tr>\n",
       "      <th>6</th>\n",
       "      <td>0.034345</td>\n",
       "      <td>[3LGjYAo2bNeKTFHoUjo9GU1bqNBPf525HF]</td>\n",
       "      <td>scripthash</td>\n",
       "    </tr>\n",
       "    <tr>\n",
       "      <th>7</th>\n",
       "      <td>0.002498</td>\n",
       "      <td>[3K5Km5t81B3GZZENp1RKAJsQ7SdSCKFu47]</td>\n",
       "      <td>scripthash</td>\n",
       "    </tr>\n",
       "    <tr>\n",
       "      <th>8</th>\n",
       "      <td>0.021449</td>\n",
       "      <td>[3Aik98xdmS4NAkzxShTSsiRySdzoYosaDK]</td>\n",
       "      <td>scripthash</td>\n",
       "    </tr>\n",
       "    <tr>\n",
       "      <th>9</th>\n",
       "      <td>0.034345</td>\n",
       "      <td>[34uHZV3jk3671KUmASgxwdmX7Yk2rLyyni]</td>\n",
       "      <td>scripthash</td>\n",
       "    </tr>\n",
       "    <tr>\n",
       "      <th>10</th>\n",
       "      <td>0.034345</td>\n",
       "      <td>[3CDeEim67ixELWr3xW1wdEMHqwgGerScnc]</td>\n",
       "      <td>scripthash</td>\n",
       "    </tr>\n",
       "    <tr>\n",
       "      <th>11</th>\n",
       "      <td>0.034345</td>\n",
       "      <td>[3B71s6eE5obSTdtFCcMW3jyqChWtvQqcX1]</td>\n",
       "      <td>scripthash</td>\n",
       "    </tr>\n",
       "    <tr>\n",
       "      <th>12</th>\n",
       "      <td>0.006315</td>\n",
       "      <td>[32kghu1kBZtdKiFJVKxvgPd2ZCdcqDDFkq]</td>\n",
       "      <td>scripthash</td>\n",
       "    </tr>\n",
       "    <tr>\n",
       "      <th>13</th>\n",
       "      <td>0.130620</td>\n",
       "      <td>[3FD2YxHb8DbR62XhpBGTqfNsY2kpMm21xY]</td>\n",
       "      <td>scripthash</td>\n",
       "    </tr>\n",
       "  </tbody>\n",
       "</table>\n",
       "</div>"
      ],
      "text/plain": [
       "         value                             addresses        type\n",
       "vout                                                            \n",
       "0     0.034345  [34xZktX6ufMNL3h8yucQkwb1k1NsmofAXK]  scripthash\n",
       "1     0.034345  [3P8biKzsvKmNUVKgWfRhzost6purN5Ji2W]  scripthash\n",
       "2     0.034555  [3Nrq2FKe5D8i3gxBH95LdNSyzMiXHiSVaE]  scripthash\n",
       "3     0.034345  [3LZiMs26vdivPG1DqAu8TKotAcnrwsHz4s]  scripthash\n",
       "4     0.022645  [3J5T71LdX8fPQLabrMqewTxCbqXLQDbKkb]  scripthash\n",
       "5     0.000593  [3DkfrEyBf6yPtPZmmtZBm14SwMFCuMnBj3]  scripthash\n",
       "6     0.034345  [3LGjYAo2bNeKTFHoUjo9GU1bqNBPf525HF]  scripthash\n",
       "7     0.002498  [3K5Km5t81B3GZZENp1RKAJsQ7SdSCKFu47]  scripthash\n",
       "8     0.021449  [3Aik98xdmS4NAkzxShTSsiRySdzoYosaDK]  scripthash\n",
       "9     0.034345  [34uHZV3jk3671KUmASgxwdmX7Yk2rLyyni]  scripthash\n",
       "10    0.034345  [3CDeEim67ixELWr3xW1wdEMHqwgGerScnc]  scripthash\n",
       "11    0.034345  [3B71s6eE5obSTdtFCcMW3jyqChWtvQqcX1]  scripthash\n",
       "12    0.006315  [32kghu1kBZtdKiFJVKxvgPd2ZCdcqDDFkq]  scripthash\n",
       "13    0.130620  [3FD2YxHb8DbR62XhpBGTqfNsY2kpMm21xY]  scripthash"
      ]
     },
     "metadata": {},
     "output_type": "display_data"
    }
   ],
   "source": [
    "### INSERT HERE ###\n",
    "txid = '72129bb9915c76660dd34bc591bed3670b20157d2e88462e8d87e62ed44661fc'\n",
    "display_all = False\n",
    "\n",
    "obs.show_tx(txs, txid, display_all)"
   ]
  },
  {
   "cell_type": "markdown",
   "metadata": {},
   "source": [
    "[Back to menu](#Menu)\n",
    "\n",
    "---"
   ]
  },
  {
   "cell_type": "markdown",
   "metadata": {},
   "source": [
    "## Plot"
   ]
  },
  {
   "cell_type": "markdown",
   "metadata": {},
   "source": [
    "Run the cell below to plot the desired `column`.\n",
    "\n",
    "If you give it a `filepath`, the result graph will be saved."
   ]
  },
  {
   "cell_type": "code",
   "execution_count": 21,
   "metadata": {},
   "outputs": [
    {
     "data": {
      "image/png": "[encoded data removed]",
      "text/plain": [
       "<Figure size 1440x720 with 1 Axes>"
      ]
     },
     "metadata": {},
     "output_type": "display_data"
    }
   ],
   "source": [
    "### INSERT HERE ###\n",
    "column = 'n_eq'\n",
    "filepath = ''\n",
    "\n",
    "obs.show_graph(txs, column, filepath)"
   ]
  },
  {
   "cell_type": "markdown",
   "metadata": {},
   "source": [
    "[Back to menu](#Menu)\n",
    "\n",
    "---"
   ]
  },
  {
   "cell_type": "markdown",
   "metadata": {},
   "source": [
    "## Volume"
   ]
  },
  {
   "cell_type": "markdown",
   "metadata": {},
   "source": [
    "Run the cell below to show the volume graph.\n",
    "\n",
    "If you give it a filepath, the result graph will be saved."
   ]
  },
  {
   "cell_type": "code",
   "execution_count": 22,
   "metadata": {},
   "outputs": [
    {
     "data": {
      "text/markdown": [
       "**Input** volume: 38474.14740567"
      ]
     },
     "metadata": {},
     "output_type": "display_data"
    },
    {
     "data": {
      "text/markdown": [
       "**Equal output** volume: 20020.7613667"
      ]
     },
     "metadata": {},
     "output_type": "display_data"
    },
    {
     "data": {
      "image/png": "[encoded data removed]",
      "text/plain": [
       "<Figure size 1440x720 with 1 Axes>"
      ]
     },
     "metadata": {},
     "output_type": "display_data"
    }
   ],
   "source": [
    "filepath = ''\n",
    "\n",
    "obs.show_volume(txs, filepath)"
   ]
  },
  {
   "cell_type": "markdown",
   "metadata": {},
   "source": [
    "[Back to menu](#Menu)\n",
    "\n",
    "---"
   ]
  },
  {
   "cell_type": "markdown",
   "metadata": {},
   "source": [
    "## Daily"
   ]
  },
  {
   "cell_type": "markdown",
   "metadata": {},
   "source": [
    "Run the cell below to show the transanctions per day graph.\n",
    "\n",
    "If you give it a filepath, the result graph will be saved."
   ]
  },
  {
   "cell_type": "code",
   "execution_count": 23,
   "metadata": {},
   "outputs": [
    {
     "data": {
      "text/markdown": [
       "**Average daily**: 37.9"
      ]
     },
     "metadata": {},
     "output_type": "display_data"
    },
    {
     "data": {
      "image/png": "[encoded data removed]",
      "text/plain": [
       "<Figure size 1440x720 with 1 Axes>"
      ]
     },
     "metadata": {},
     "output_type": "display_data"
    }
   ],
   "source": [
    "filepath = ''\n",
    "\n",
    "obs.show_daily(txs, filepath)"
   ]
  },
  {
   "cell_type": "markdown",
   "metadata": {},
   "source": [
    "[Back to menu](#Menu)\n",
    "\n",
    "---"
   ]
  },
  {
   "cell_type": "markdown",
   "metadata": {},
   "source": [
    "## Advanced creation"
   ]
  },
  {
   "cell_type": "markdown",
   "metadata": {},
   "source": [
    "Here you can create a dataframe using your own filters.  \n",
    "You can also pass more than one filter and every transaction that matches at least one of them will be included in the dataframe.\n",
    "**Each and every** criteria has to be satisfied in order for a transaction to match a filter.\n",
    "\n",
    "Valid criteria are:\n",
    "* **txid**\n",
    "    * e.g., `txid='mytxid'` will scan for transactions that include 'mytxid' in the txid.\n",
    "* **address**\n",
    "    * e.g., `addresses=['myaddress']` will scan for transactions that include 'myaddress' in at least one of the addresses. Accept multiple addresses (each and every of them has to be part in a transaction for the transaction to match the filter).\n",
    "* **in_type**\n",
    "    * e.g., `in_type='scripthash'` will scan for transactions that have all the inputs of type 'scripthash'.\n",
    "* **out_type**\n",
    "    * e.g., `out_type='scripthash'` will scan for transactions that have all the outputs of type 'scripthash'.\n",
    "* **version**\n",
    "    * e.g., `version=(minversion, maxversion)` will scan for transactions that have a version number between minversion and maxversion included.\n",
    "* **size**\n",
    "    * e.g., `size=(minsize, maxsize)` will scan for transactions that have a size between minsize and maxsize included.\n",
    "* **vsize**\n",
    "    * e.g., `vsize=(minvsize, maxvsize)` will scan for transactions that have a virtual size between minvsize and maxvsize included.\n",
    "* **weight**\n",
    "    * e.g., `weight=(minweight, maxweight)` will scan for transactions that have a weight between minweight and maxweight included.\n",
    "* **locktime**\n",
    "    * e.g., `locktime=(minlocktime, maxlocktime)` will scan for transactions that have a locktime between minlocktime and maxlocktime included.\n",
    "* **n_in**\n",
    "    * e.g., `n_in=(minn_in, maxn_in)` will scan for transactions that have a number of inputs between minn_in and maxn_in included.\n",
    "* **n_out**\n",
    "    * e.g., `n_out=(minn_out, maxn_out)` will scan for transactions that have a number of outputs between minn_out and maxn_out included.\n",
    "* **n_eq**\n",
    "    * e.g., `n_eq=(minn_eq, maxn_out)` will scan for transactions that have a number of equally sized outputs between minn_eq and maxn_out included.\n",
    "* **den**\n",
    "    * e.g., `den=(minden, maxden)` will scan for transactions that have a denomination between minden and maxden included.\n",
    "* **abs_fee**\n",
    "    * e.g., `abs_fee=(minabs_fee, maxabs_fee)` will scan for transactions that have an absolute fee between minabs_fee and maxabs_fee included.\n",
    "* **rel_fee**\n",
    "    * e.g., `rel_fee=(minrel_fee, maxrel_fee)` will scan for transactions that have a relative fee between minrel_fee and maxrel_fee included.\n",
    "* **height**\n",
    "    * e.g., `height=(minheight, maxheight)` will scan for transactions that have a height between minheight and maxheight included.\n",
    "* **date**\n",
    "    * e.g., `date=('2020-09-18', '2020-09-19 19:00')` will scan for transactions that have a date between mindate and maxdate included.      \n",
    "    \n",
    "You can also pass arbitrary callables as long as they accept a Tx object as parameter and return True or False.  \n",
    "e.g., `callables=[mycallable]`\n",
    "\n",
    "Here's how a filter that searches for transactions that pay more than 100 sat/vbyte and have just 1 input and 1 output would look like.\n",
    "\n",
    "`tx_filter = filters.TxFilter(n_in=(1, 1), n_out=(1, 1), rel_fee=(100, 100000))`"
   ]
  },
  {
   "cell_type": "code",
   "execution_count": null,
   "metadata": {},
   "outputs": [],
   "source": [
    "import observatory as obs\n",
    "import advanced.filters as filters\n",
    "\n",
    "\n",
    "### INSERT HERE ###\n",
    "start = -10\n",
    "end = 0\n",
    "tx_filter = filters.TxFilter(n_in=(1, 1), n_out=(1, 1), rel_fee=(100, 100000))\n",
    "\n",
    "\n",
    "txs = await obs.create_dataframe(start, end, tx_filter)"
   ]
  },
  {
   "cell_type": "markdown",
   "metadata": {},
   "source": [
    "[Back to menu](#Menu)\n",
    "\n",
    "---"
   ]
  }
 ],
 "metadata": {
  "kernelspec": {
   "display_name": "Python 3",
   "language": "python",
   "name": "python3"
  },
  "language_info": {
   "codemirror_mode": {
    "name": "ipython",
    "version": 3
   },
   "file_extension": ".py",
   "mimetype": "text/x-python",
   "name": "python",
   "nbconvert_exporter": "python",
   "pygments_lexer": "ipython3",
   "version": "3.7.3"
  }
 },
 "nbformat": 4,
 "nbformat_minor": 4
}
