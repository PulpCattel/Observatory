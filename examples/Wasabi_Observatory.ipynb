{
 "cells": [
  {
   "cell_type": "markdown",
   "metadata": {},
   "source": [
    "# Observatory"
   ]
  },
  {
   "cell_type": "markdown",
   "metadata": {},
   "source": [
    "## Menu"
   ]
  },
  {
   "cell_type": "markdown",
   "metadata": {},
   "source": [
    "**Setup**\n",
    "\n",
    "* [Create new dataframe](#Crate-new-dataframe)\n",
    "* [Save dataframe](#Save-dataframe)\n",
    "* [Load dataframe](#Load-existing-dataframe)\n",
    "\n",
    "**Analysis**\n",
    "\n",
    "* [Glimpse](#Glimpse)\n",
    "* [Stats](#Stats)\n",
    "* [Transaction explorer](#Transaction-explorer)\n",
    "* [Plot](#Plot)\n",
    "* [Volume](#Volume)\n",
    "* [Daily](#Daily)\n",
    "\n",
    "**Advanced**\n",
    "\n",
    "* [Advanced creation](#Advanced-creation)"
   ]
  },
  {
   "cell_type": "markdown",
   "metadata": {},
   "source": [
    "---"
   ]
  },
  {
   "cell_type": "markdown",
   "metadata": {},
   "source": [
    "## Create new dataframe"
   ]
  },
  {
   "cell_type": "markdown",
   "metadata": {},
   "source": [
    "Insert in the cell below the `start` block height and the `end` block height, select your desired filter and run it to create the dataframe.\n",
    "\n",
    "**Example:**\n",
    "  \n",
    "`start = 100`  \n",
    "`end = 200`  \n",
    "\n",
    "Will search for transactions between block 100 and block 200 included.\n",
    "\n",
    "You can also give **negative** values to `start` and this will scan the last chosen blocks **depending** on the `end` value.\n",
    "\n",
    "**Example:**\n",
    "\n",
    "`start = -10`  \n",
    "`end = 0`\n",
    "\n",
    "Will search for transactions in the last 10 blocks.\n",
    "\n",
    "**Example:**\n",
    "\n",
    "`start = -10`  \n",
    "`end = 5`\n",
    "\n",
    "Will search for transanction in 5 block starting from ten blocks ago."
   ]
  },
  {
   "cell_type": "code",
   "execution_count": 1,
   "metadata": {},
   "outputs": [
    {
     "name": "stderr",
     "output_type": "stream",
     "text": [
      "4531it [13:39,  5.53it/s]\n"
     ]
    },
    {
     "data": {
      "text/markdown": [
       "Created dataframe of **972** transactions in 820.38s"
      ]
     },
     "metadata": {},
     "output_type": "display_data"
    },
    {
     "data": {
      "text/markdown": [
       "[Save dataframe](#Save-dataframe)"
      ]
     },
     "metadata": {},
     "output_type": "display_data"
    },
    {
     "data": {
      "text/markdown": [
       "[Start analysis](#Glimpse)"
      ]
     },
     "metadata": {},
     "output_type": "display_data"
    }
   ],
   "source": [
    "import observatory as obs\n",
    "import advanced.filters as filters\n",
    "\n",
    "\n",
    "### INSERT HERE ###\n",
    "start = 646201\n",
    "end = 650731\n",
    "txid = ''\n",
    "address = ''\n",
    "\n",
    "\n",
    "### CHOOSE ONE OF THE FILTERS BELOW BY REMOVING THE '#' IN FRONT OF IT ###\n",
    "#tx_filter = filters.TxFilter() # This will return every transaction\n",
    "#tx_filter = filters.CjTxFilter()\n",
    "tx_filter = filters.WasabiTxFilter()\n",
    "#tx_filter = filters.JoinmarketTxFilter()\n",
    "#tx_filter = filters.TxidTxFilter(txid) # If you pick me, don't forget to insert a 'txid' above.\n",
    "#tx_filter = filters.AddressTxFilter(address) # If you pick me, don't forget to insert an 'address' above.\n",
    "#tx_filter = filters.CoinbaseTxFilter()\n",
    "\n",
    "txs = await obs.create_dataframe(start, end, tx_filter)"
   ]
  },
  {
   "cell_type": "markdown",
   "metadata": {},
   "source": [
    "[Back to menu](#Menu)\n",
    "\n",
    "---"
   ]
  },
  {
   "cell_type": "markdown",
   "metadata": {},
   "source": [
    "## Save dataframe"
   ]
  },
  {
   "cell_type": "markdown",
   "metadata": {},
   "source": [
    "Insert the **filepath** where to save and run the cell.\n",
    "\n",
    "**Examples:**\n",
    "    \n",
    "`filepath = 'thisfilename'`  \n",
    "`filepath = '/home/thisfilename'`  \n",
    "`filepath = 'results/wasabi/thisfilename'`\n",
    "\n",
    "Will create a `thisfilename.ftr` file into the given filepath."
   ]
  },
  {
   "cell_type": "code",
   "execution_count": 2,
   "metadata": {},
   "outputs": [
    {
     "name": "stdout",
     "output_type": "stream",
     "text": [
      "Dataframe succesfully saved in 0.42s\n"
     ]
    }
   ],
   "source": [
    "### INSERT HERE ###\n",
    "filepath = 'results/Wasabi_txs_September'\n",
    "\n",
    "\n",
    "obs.save(filepath, txs)"
   ]
  },
  {
   "cell_type": "markdown",
   "metadata": {},
   "source": [
    "[Back to menu](#Menu)\n",
    "\n",
    "---"
   ]
  },
  {
   "cell_type": "markdown",
   "metadata": {},
   "source": [
    "## Load existing dataframe"
   ]
  },
  {
   "cell_type": "markdown",
   "metadata": {},
   "source": [
    "Insert the **filepath** of the dataframe to load and run the cell.\n",
    "\n",
    "**Examples:**\n",
    "    \n",
    "`filepath = 'thisfilename'`  \n",
    "`filepath = '/home/thisfilename'`  \n",
    "`filepath = 'results/mytxs/thisfilename'`\n",
    "\n",
    "Will load the `thisfilename.ftr` file from the given filepath."
   ]
  },
  {
   "cell_type": "code",
   "execution_count": null,
   "metadata": {},
   "outputs": [],
   "source": [
    "import observatory as obs\n",
    "\n",
    "\n",
    "### INSERT HERE ###\n",
    "filepath = 'results/mydataframe'\n",
    "\n",
    "\n",
    "txs = obs.load(filepath)"
   ]
  },
  {
   "cell_type": "markdown",
   "metadata": {},
   "source": [
    "[Back to menu](#Menu)\n",
    "\n",
    "---"
   ]
  },
  {
   "cell_type": "markdown",
   "metadata": {},
   "source": [
    "## Glimpse"
   ]
  },
  {
   "cell_type": "markdown",
   "metadata": {},
   "source": [
    "Run the cell below for a glimpse of the dataframe. \n",
    "\n",
    "You can change the `n_txs` value to specify how many transactions to display.  \n",
    "You can also give `n_txs` a **negative** value to display the last n transactions.\n",
    "\n",
    "You can insert the `sort_by` value to specify which column should give the ordering. e.g. 'n_eq', 'date', etc... Default is 'date'."
   ]
  },
  {
   "cell_type": "code",
   "execution_count": 3,
   "metadata": {},
   "outputs": [
    {
     "data": {
      "text/markdown": [
       "**972 total transactions**"
      ]
     },
     "metadata": {},
     "output_type": "display_data"
    },
    {
     "data": {
      "text/html": [
       "<div>\n",
       "<style scoped>\n",
       "    .dataframe tbody tr th:only-of-type {\n",
       "        vertical-align: middle;\n",
       "    }\n",
       "\n",
       "    .dataframe tbody tr th {\n",
       "        vertical-align: top;\n",
       "    }\n",
       "\n",
       "    .dataframe thead th {\n",
       "        text-align: right;\n",
       "    }\n",
       "</style>\n",
       "<table border=\"1\" class=\"dataframe\">\n",
       "  <thead>\n",
       "    <tr style=\"text-align: right;\">\n",
       "      <th></th>\n",
       "      <th>version</th>\n",
       "      <th>size</th>\n",
       "      <th>vsize</th>\n",
       "      <th>weight</th>\n",
       "      <th>locktime</th>\n",
       "      <th>n_in</th>\n",
       "      <th>n_out</th>\n",
       "      <th>n_eq</th>\n",
       "      <th>den</th>\n",
       "      <th>abs_fee</th>\n",
       "      <th>rel_fee</th>\n",
       "      <th>height</th>\n",
       "      <th>date</th>\n",
       "    </tr>\n",
       "    <tr>\n",
       "      <th>txid</th>\n",
       "      <th></th>\n",
       "      <th></th>\n",
       "      <th></th>\n",
       "      <th></th>\n",
       "      <th></th>\n",
       "      <th></th>\n",
       "      <th></th>\n",
       "      <th></th>\n",
       "      <th></th>\n",
       "      <th></th>\n",
       "      <th></th>\n",
       "      <th></th>\n",
       "      <th></th>\n",
       "    </tr>\n",
       "  </thead>\n",
       "  <tbody>\n",
       "    <tr>\n",
       "      <th>a3247f50f94ad5a2399430adb67be4d385547b52318d89fbd20f799ad2911124</th>\n",
       "      <td>1</td>\n",
       "      <td>13629</td>\n",
       "      <td>8413</td>\n",
       "      <td>33651</td>\n",
       "      <td>0</td>\n",
       "      <td>65</td>\n",
       "      <td>129</td>\n",
       "      <td>52</td>\n",
       "      <td>0.098999</td>\n",
       "      <td>0.000187</td>\n",
       "      <td>2.220703</td>\n",
       "      <td>646212</td>\n",
       "      <td>2020-09-01 02:31:00</td>\n",
       "    </tr>\n",
       "    <tr>\n",
       "      <th>ecc85c6d1fe83747af321f414baf3022ca646a439950b4942f1353b652a1d0e8</th>\n",
       "      <td>1</td>\n",
       "      <td>16247</td>\n",
       "      <td>9746</td>\n",
       "      <td>38981</td>\n",
       "      <td>0</td>\n",
       "      <td>81</td>\n",
       "      <td>137</td>\n",
       "      <td>61</td>\n",
       "      <td>0.098938</td>\n",
       "      <td>0.000218</td>\n",
       "      <td>2.240234</td>\n",
       "      <td>646212</td>\n",
       "      <td>2020-09-01 02:31:00</td>\n",
       "    </tr>\n",
       "    <tr>\n",
       "      <th>b13aa92099675ad35b54a6f919df1e7a1bb7720e2141dc699d75e1390d1d1d8b</th>\n",
       "      <td>1</td>\n",
       "      <td>4780</td>\n",
       "      <td>2933</td>\n",
       "      <td>11731</td>\n",
       "      <td>0</td>\n",
       "      <td>23</td>\n",
       "      <td>44</td>\n",
       "      <td>18</td>\n",
       "      <td>0.098999</td>\n",
       "      <td>0.000065</td>\n",
       "      <td>2.230469</td>\n",
       "      <td>646212</td>\n",
       "      <td>2020-09-01 02:31:00</td>\n",
       "    </tr>\n",
       "    <tr>\n",
       "      <th>4317773f9b78d9523507414d3da3333635a161ad0eeb112306b7531fe014f78e</th>\n",
       "      <td>1</td>\n",
       "      <td>7978</td>\n",
       "      <td>4767</td>\n",
       "      <td>19066</td>\n",
       "      <td>0</td>\n",
       "      <td>40</td>\n",
       "      <td>66</td>\n",
       "      <td>30</td>\n",
       "      <td>0.098999</td>\n",
       "      <td>0.000160</td>\n",
       "      <td>3.359375</td>\n",
       "      <td>646212</td>\n",
       "      <td>2020-09-01 02:31:00</td>\n",
       "    </tr>\n",
       "    <tr>\n",
       "      <th>5e3379cc4715bbc4d5629eda0c29b8c257ffe3d81cf6d8750ab49aaf7bbf90c7</th>\n",
       "      <td>1</td>\n",
       "      <td>12824</td>\n",
       "      <td>7607</td>\n",
       "      <td>30428</td>\n",
       "      <td>0</td>\n",
       "      <td>65</td>\n",
       "      <td>103</td>\n",
       "      <td>49</td>\n",
       "      <td>0.098938</td>\n",
       "      <td>0.001621</td>\n",
       "      <td>21.312500</td>\n",
       "      <td>646212</td>\n",
       "      <td>2020-09-01 02:31:00</td>\n",
       "    </tr>\n",
       "    <tr>\n",
       "      <th>c694ce2386c9733749a6c0183268eca10842aa9c0e2b6a18b73aa1b2f55b97e4</th>\n",
       "      <td>1</td>\n",
       "      <td>17548</td>\n",
       "      <td>10324</td>\n",
       "      <td>41296</td>\n",
       "      <td>0</td>\n",
       "      <td>90</td>\n",
       "      <td>136</td>\n",
       "      <td>61</td>\n",
       "      <td>0.098938</td>\n",
       "      <td>0.007889</td>\n",
       "      <td>76.437500</td>\n",
       "      <td>646212</td>\n",
       "      <td>2020-09-01 02:31:00</td>\n",
       "    </tr>\n",
       "    <tr>\n",
       "      <th>05f774197b2561ad80afa93e03a510ed77f0f706d244bd855e2a663ba17408a8</th>\n",
       "      <td>1</td>\n",
       "      <td>12684</td>\n",
       "      <td>7627</td>\n",
       "      <td>30507</td>\n",
       "      <td>0</td>\n",
       "      <td>63</td>\n",
       "      <td>108</td>\n",
       "      <td>50</td>\n",
       "      <td>0.098816</td>\n",
       "      <td>0.005798</td>\n",
       "      <td>76.000000</td>\n",
       "      <td>646212</td>\n",
       "      <td>2020-09-01 02:31:00</td>\n",
       "    </tr>\n",
       "    <tr>\n",
       "      <th>8d5d9ccebed71d1a485cfee11d0bbbdc3745a02df950a48ec0847390497e533b</th>\n",
       "      <td>1</td>\n",
       "      <td>12842</td>\n",
       "      <td>7464</td>\n",
       "      <td>29855</td>\n",
       "      <td>0</td>\n",
       "      <td>67</td>\n",
       "      <td>94</td>\n",
       "      <td>43</td>\n",
       "      <td>0.098877</td>\n",
       "      <td>0.006905</td>\n",
       "      <td>92.500000</td>\n",
       "      <td>646212</td>\n",
       "      <td>2020-09-01 02:31:00</td>\n",
       "    </tr>\n",
       "    <tr>\n",
       "      <th>587db2fc1a406acaad0ea13ddb9e4ac497ec034a6437b7677f7e79a10df44ecc</th>\n",
       "      <td>1</td>\n",
       "      <td>7699</td>\n",
       "      <td>4488</td>\n",
       "      <td>17950</td>\n",
       "      <td>0</td>\n",
       "      <td>40</td>\n",
       "      <td>57</td>\n",
       "      <td>34</td>\n",
       "      <td>0.098755</td>\n",
       "      <td>0.004147</td>\n",
       "      <td>92.375000</td>\n",
       "      <td>646212</td>\n",
       "      <td>2020-09-01 02:31:00</td>\n",
       "    </tr>\n",
       "    <tr>\n",
       "      <th>284b3717f622dec183e73f96165127153cb07d3ea4aa84f5c2895d6cc3e06c23</th>\n",
       "      <td>1</td>\n",
       "      <td>9651</td>\n",
       "      <td>5718</td>\n",
       "      <td>22869</td>\n",
       "      <td>0</td>\n",
       "      <td>49</td>\n",
       "      <td>77</td>\n",
       "      <td>40</td>\n",
       "      <td>0.098511</td>\n",
       "      <td>0.006065</td>\n",
       "      <td>106.062500</td>\n",
       "      <td>646212</td>\n",
       "      <td>2020-09-01 02:31:00</td>\n",
       "    </tr>\n",
       "  </tbody>\n",
       "</table>\n",
       "</div>"
      ],
      "text/plain": [
       "                                                    version   size  vsize  \\\n",
       "txid                                                                        \n",
       "a3247f50f94ad5a2399430adb67be4d385547b52318d89f...        1  13629   8413   \n",
       "ecc85c6d1fe83747af321f414baf3022ca646a439950b49...        1  16247   9746   \n",
       "b13aa92099675ad35b54a6f919df1e7a1bb7720e2141dc6...        1   4780   2933   \n",
       "4317773f9b78d9523507414d3da3333635a161ad0eeb112...        1   7978   4767   \n",
       "5e3379cc4715bbc4d5629eda0c29b8c257ffe3d81cf6d87...        1  12824   7607   \n",
       "c694ce2386c9733749a6c0183268eca10842aa9c0e2b6a1...        1  17548  10324   \n",
       "05f774197b2561ad80afa93e03a510ed77f0f706d244bd8...        1  12684   7627   \n",
       "8d5d9ccebed71d1a485cfee11d0bbbdc3745a02df950a48...        1  12842   7464   \n",
       "587db2fc1a406acaad0ea13ddb9e4ac497ec034a6437b76...        1   7699   4488   \n",
       "284b3717f622dec183e73f96165127153cb07d3ea4aa84f...        1   9651   5718   \n",
       "\n",
       "                                                    weight  locktime  n_in  \\\n",
       "txid                                                                         \n",
       "a3247f50f94ad5a2399430adb67be4d385547b52318d89f...   33651         0    65   \n",
       "ecc85c6d1fe83747af321f414baf3022ca646a439950b49...   38981         0    81   \n",
       "b13aa92099675ad35b54a6f919df1e7a1bb7720e2141dc6...   11731         0    23   \n",
       "4317773f9b78d9523507414d3da3333635a161ad0eeb112...   19066         0    40   \n",
       "5e3379cc4715bbc4d5629eda0c29b8c257ffe3d81cf6d87...   30428         0    65   \n",
       "c694ce2386c9733749a6c0183268eca10842aa9c0e2b6a1...   41296         0    90   \n",
       "05f774197b2561ad80afa93e03a510ed77f0f706d244bd8...   30507         0    63   \n",
       "8d5d9ccebed71d1a485cfee11d0bbbdc3745a02df950a48...   29855         0    67   \n",
       "587db2fc1a406acaad0ea13ddb9e4ac497ec034a6437b76...   17950         0    40   \n",
       "284b3717f622dec183e73f96165127153cb07d3ea4aa84f...   22869         0    49   \n",
       "\n",
       "                                                    n_out  n_eq       den  \\\n",
       "txid                                                                        \n",
       "a3247f50f94ad5a2399430adb67be4d385547b52318d89f...    129    52  0.098999   \n",
       "ecc85c6d1fe83747af321f414baf3022ca646a439950b49...    137    61  0.098938   \n",
       "b13aa92099675ad35b54a6f919df1e7a1bb7720e2141dc6...     44    18  0.098999   \n",
       "4317773f9b78d9523507414d3da3333635a161ad0eeb112...     66    30  0.098999   \n",
       "5e3379cc4715bbc4d5629eda0c29b8c257ffe3d81cf6d87...    103    49  0.098938   \n",
       "c694ce2386c9733749a6c0183268eca10842aa9c0e2b6a1...    136    61  0.098938   \n",
       "05f774197b2561ad80afa93e03a510ed77f0f706d244bd8...    108    50  0.098816   \n",
       "8d5d9ccebed71d1a485cfee11d0bbbdc3745a02df950a48...     94    43  0.098877   \n",
       "587db2fc1a406acaad0ea13ddb9e4ac497ec034a6437b76...     57    34  0.098755   \n",
       "284b3717f622dec183e73f96165127153cb07d3ea4aa84f...     77    40  0.098511   \n",
       "\n",
       "                                                     abs_fee     rel_fee  \\\n",
       "txid                                                                       \n",
       "a3247f50f94ad5a2399430adb67be4d385547b52318d89f...  0.000187    2.220703   \n",
       "ecc85c6d1fe83747af321f414baf3022ca646a439950b49...  0.000218    2.240234   \n",
       "b13aa92099675ad35b54a6f919df1e7a1bb7720e2141dc6...  0.000065    2.230469   \n",
       "4317773f9b78d9523507414d3da3333635a161ad0eeb112...  0.000160    3.359375   \n",
       "5e3379cc4715bbc4d5629eda0c29b8c257ffe3d81cf6d87...  0.001621   21.312500   \n",
       "c694ce2386c9733749a6c0183268eca10842aa9c0e2b6a1...  0.007889   76.437500   \n",
       "05f774197b2561ad80afa93e03a510ed77f0f706d244bd8...  0.005798   76.000000   \n",
       "8d5d9ccebed71d1a485cfee11d0bbbdc3745a02df950a48...  0.006905   92.500000   \n",
       "587db2fc1a406acaad0ea13ddb9e4ac497ec034a6437b76...  0.004147   92.375000   \n",
       "284b3717f622dec183e73f96165127153cb07d3ea4aa84f...  0.006065  106.062500   \n",
       "\n",
       "                                                    height                date  \n",
       "txid                                                                            \n",
       "a3247f50f94ad5a2399430adb67be4d385547b52318d89f...  646212 2020-09-01 02:31:00  \n",
       "ecc85c6d1fe83747af321f414baf3022ca646a439950b49...  646212 2020-09-01 02:31:00  \n",
       "b13aa92099675ad35b54a6f919df1e7a1bb7720e2141dc6...  646212 2020-09-01 02:31:00  \n",
       "4317773f9b78d9523507414d3da3333635a161ad0eeb112...  646212 2020-09-01 02:31:00  \n",
       "5e3379cc4715bbc4d5629eda0c29b8c257ffe3d81cf6d87...  646212 2020-09-01 02:31:00  \n",
       "c694ce2386c9733749a6c0183268eca10842aa9c0e2b6a1...  646212 2020-09-01 02:31:00  \n",
       "05f774197b2561ad80afa93e03a510ed77f0f706d244bd8...  646212 2020-09-01 02:31:00  \n",
       "8d5d9ccebed71d1a485cfee11d0bbbdc3745a02df950a48...  646212 2020-09-01 02:31:00  \n",
       "587db2fc1a406acaad0ea13ddb9e4ac497ec034a6437b76...  646212 2020-09-01 02:31:00  \n",
       "284b3717f622dec183e73f96165127153cb07d3ea4aa84f...  646212 2020-09-01 02:31:00  "
      ]
     },
     "metadata": {},
     "output_type": "display_data"
    }
   ],
   "source": [
    "### INSERT HERE ###\n",
    "n_txs = 10\n",
    "sort_by = ''\n",
    "\n",
    "\n",
    "obs.show_intro(txs, n_txs, sort_by)"
   ]
  },
  {
   "cell_type": "markdown",
   "metadata": {},
   "source": [
    "[Back to menu](#Menu)\n",
    "\n",
    "---"
   ]
  },
  {
   "cell_type": "markdown",
   "metadata": {},
   "source": [
    "## Stats"
   ]
  },
  {
   "cell_type": "markdown",
   "metadata": {},
   "source": [
    "Run the cell below for a list of statistics about the dataframe."
   ]
  },
  {
   "cell_type": "code",
   "execution_count": 4,
   "metadata": {},
   "outputs": [
    {
     "data": {
      "text/html": [
       "<div>\n",
       "<style scoped>\n",
       "    .dataframe tbody tr th:only-of-type {\n",
       "        vertical-align: middle;\n",
       "    }\n",
       "\n",
       "    .dataframe tbody tr th {\n",
       "        vertical-align: top;\n",
       "    }\n",
       "\n",
       "    .dataframe thead th {\n",
       "        text-align: right;\n",
       "    }\n",
       "</style>\n",
       "<table border=\"1\" class=\"dataframe\">\n",
       "  <thead>\n",
       "    <tr style=\"text-align: right;\">\n",
       "      <th></th>\n",
       "      <th>version</th>\n",
       "      <th>size</th>\n",
       "      <th>vsize</th>\n",
       "      <th>weight</th>\n",
       "      <th>locktime</th>\n",
       "      <th>n_in</th>\n",
       "      <th>n_out</th>\n",
       "      <th>n_eq</th>\n",
       "      <th>den</th>\n",
       "      <th>abs_fee</th>\n",
       "      <th>rel_fee</th>\n",
       "      <th>height</th>\n",
       "    </tr>\n",
       "  </thead>\n",
       "  <tbody>\n",
       "    <tr>\n",
       "      <th>count</th>\n",
       "      <td>972.0</td>\n",
       "      <td>972.000000</td>\n",
       "      <td>972.000000</td>\n",
       "      <td>972.000000</td>\n",
       "      <td>972.0</td>\n",
       "      <td>972.000000</td>\n",
       "      <td>972.000000</td>\n",
       "      <td>972.000000</td>\n",
       "      <td>972.000000</td>\n",
       "      <td>972.000000</td>\n",
       "      <td>972.000000</td>\n",
       "      <td>972.000000</td>\n",
       "    </tr>\n",
       "    <tr>\n",
       "      <th>mean</th>\n",
       "      <td>1.0</td>\n",
       "      <td>16423.180041</td>\n",
       "      <td>9802.118313</td>\n",
       "      <td>39206.902263</td>\n",
       "      <td>0.0</td>\n",
       "      <td>82.497942</td>\n",
       "      <td>135.553498</td>\n",
       "      <td>61.566872</td>\n",
       "      <td>0.097900</td>\n",
       "      <td>0.001040</td>\n",
       "      <td>11.023438</td>\n",
       "      <td>648489.647119</td>\n",
       "    </tr>\n",
       "    <tr>\n",
       "      <th>std</th>\n",
       "      <td>0.0</td>\n",
       "      <td>5629.221083</td>\n",
       "      <td>3293.135855</td>\n",
       "      <td>13172.579167</td>\n",
       "      <td>0.0</td>\n",
       "      <td>29.297350</td>\n",
       "      <td>43.911368</td>\n",
       "      <td>19.415948</td>\n",
       "      <td>0.006313</td>\n",
       "      <td>0.002316</td>\n",
       "      <td>23.890625</td>\n",
       "      <td>1334.760402</td>\n",
       "    </tr>\n",
       "    <tr>\n",
       "      <th>min</th>\n",
       "      <td>1.0</td>\n",
       "      <td>1358.000000</td>\n",
       "      <td>795.000000</td>\n",
       "      <td>3179.000000</td>\n",
       "      <td>0.0</td>\n",
       "      <td>6.000000</td>\n",
       "      <td>10.000000</td>\n",
       "      <td>6.000000</td>\n",
       "      <td>0.092346</td>\n",
       "      <td>0.000021</td>\n",
       "      <td>2.199219</td>\n",
       "      <td>646212.000000</td>\n",
       "    </tr>\n",
       "    <tr>\n",
       "      <th>25%</th>\n",
       "      <td>1.0</td>\n",
       "      <td>12792.500000</td>\n",
       "      <td>7634.250000</td>\n",
       "      <td>30535.250000</td>\n",
       "      <td>0.0</td>\n",
       "      <td>64.000000</td>\n",
       "      <td>106.000000</td>\n",
       "      <td>49.000000</td>\n",
       "      <td>0.093506</td>\n",
       "      <td>0.000195</td>\n",
       "      <td>2.240234</td>\n",
       "      <td>647282.250000</td>\n",
       "    </tr>\n",
       "    <tr>\n",
       "      <th>50%</th>\n",
       "      <td>1.0</td>\n",
       "      <td>16243.000000</td>\n",
       "      <td>9726.500000</td>\n",
       "      <td>38905.000000</td>\n",
       "      <td>0.0</td>\n",
       "      <td>81.000000</td>\n",
       "      <td>135.000000</td>\n",
       "      <td>62.000000</td>\n",
       "      <td>0.095093</td>\n",
       "      <td>0.000263</td>\n",
       "      <td>2.259766</td>\n",
       "      <td>648542.500000</td>\n",
       "    </tr>\n",
       "    <tr>\n",
       "      <th>75%</th>\n",
       "      <td>1.0</td>\n",
       "      <td>20351.500000</td>\n",
       "      <td>12045.250000</td>\n",
       "      <td>48179.250000</td>\n",
       "      <td>0.0</td>\n",
       "      <td>103.000000</td>\n",
       "      <td>164.000000</td>\n",
       "      <td>76.000000</td>\n",
       "      <td>0.098267</td>\n",
       "      <td>0.000378</td>\n",
       "      <td>3.359375</td>\n",
       "      <td>649712.000000</td>\n",
       "    </tr>\n",
       "    <tr>\n",
       "      <th>max</th>\n",
       "      <td>1.0</td>\n",
       "      <td>32527.000000</td>\n",
       "      <td>18644.000000</td>\n",
       "      <td>74575.000000</td>\n",
       "      <td>0.0</td>\n",
       "      <td>173.000000</td>\n",
       "      <td>240.000000</td>\n",
       "      <td>100.000000</td>\n",
       "      <td>0.109985</td>\n",
       "      <td>0.019791</td>\n",
       "      <td>141.500000</td>\n",
       "      <td>650672.000000</td>\n",
       "    </tr>\n",
       "  </tbody>\n",
       "</table>\n",
       "</div>"
      ],
      "text/plain": [
       "       version          size         vsize        weight  locktime  \\\n",
       "count    972.0    972.000000    972.000000    972.000000     972.0   \n",
       "mean       1.0  16423.180041   9802.118313  39206.902263       0.0   \n",
       "std        0.0   5629.221083   3293.135855  13172.579167       0.0   \n",
       "min        1.0   1358.000000    795.000000   3179.000000       0.0   \n",
       "25%        1.0  12792.500000   7634.250000  30535.250000       0.0   \n",
       "50%        1.0  16243.000000   9726.500000  38905.000000       0.0   \n",
       "75%        1.0  20351.500000  12045.250000  48179.250000       0.0   \n",
       "max        1.0  32527.000000  18644.000000  74575.000000       0.0   \n",
       "\n",
       "             n_in       n_out        n_eq         den     abs_fee     rel_fee  \\\n",
       "count  972.000000  972.000000  972.000000  972.000000  972.000000  972.000000   \n",
       "mean    82.497942  135.553498   61.566872    0.097900    0.001040   11.023438   \n",
       "std     29.297350   43.911368   19.415948    0.006313    0.002316   23.890625   \n",
       "min      6.000000   10.000000    6.000000    0.092346    0.000021    2.199219   \n",
       "25%     64.000000  106.000000   49.000000    0.093506    0.000195    2.240234   \n",
       "50%     81.000000  135.000000   62.000000    0.095093    0.000263    2.259766   \n",
       "75%    103.000000  164.000000   76.000000    0.098267    0.000378    3.359375   \n",
       "max    173.000000  240.000000  100.000000    0.109985    0.019791  141.500000   \n",
       "\n",
       "              height  \n",
       "count     972.000000  \n",
       "mean   648489.647119  \n",
       "std      1334.760402  \n",
       "min    646212.000000  \n",
       "25%    647282.250000  \n",
       "50%    648542.500000  \n",
       "75%    649712.000000  \n",
       "max    650672.000000  "
      ]
     },
     "execution_count": 4,
     "metadata": {},
     "output_type": "execute_result"
    }
   ],
   "source": [
    "obs.show_stats(txs)"
   ]
  },
  {
   "cell_type": "markdown",
   "metadata": {},
   "source": [
    "[Back to menu](#Menu)\n",
    "\n",
    "---"
   ]
  },
  {
   "cell_type": "markdown",
   "metadata": {},
   "source": [
    "## Transaction explorer"
   ]
  },
  {
   "cell_type": "markdown",
   "metadata": {},
   "source": [
    "Run the cell below to display information about single transactions.\n",
    "\n",
    "If you set `display_all = True` the result will include every input and every output.  \n",
    "If the transaction is huge, or you are looking at more than one transanction. this could be slow or even freeze your browser."
   ]
  },
  {
   "cell_type": "code",
   "execution_count": 5,
   "metadata": {},
   "outputs": [
    {
     "data": {
      "text/html": [
       "<div>\n",
       "<style scoped>\n",
       "    .dataframe tbody tr th:only-of-type {\n",
       "        vertical-align: middle;\n",
       "    }\n",
       "\n",
       "    .dataframe tbody tr th {\n",
       "        vertical-align: top;\n",
       "    }\n",
       "\n",
       "    .dataframe thead th {\n",
       "        text-align: right;\n",
       "    }\n",
       "</style>\n",
       "<table border=\"1\" class=\"dataframe\">\n",
       "  <thead>\n",
       "    <tr style=\"text-align: right;\">\n",
       "      <th></th>\n",
       "      <th>version</th>\n",
       "      <th>size</th>\n",
       "      <th>vsize</th>\n",
       "      <th>weight</th>\n",
       "      <th>locktime</th>\n",
       "      <th>n_in</th>\n",
       "      <th>n_out</th>\n",
       "      <th>n_eq</th>\n",
       "      <th>den</th>\n",
       "      <th>abs_fee</th>\n",
       "      <th>rel_fee</th>\n",
       "      <th>height</th>\n",
       "      <th>date</th>\n",
       "    </tr>\n",
       "    <tr>\n",
       "      <th>txid</th>\n",
       "      <th></th>\n",
       "      <th></th>\n",
       "      <th></th>\n",
       "      <th></th>\n",
       "      <th></th>\n",
       "      <th></th>\n",
       "      <th></th>\n",
       "      <th></th>\n",
       "      <th></th>\n",
       "      <th></th>\n",
       "      <th></th>\n",
       "      <th></th>\n",
       "      <th></th>\n",
       "    </tr>\n",
       "  </thead>\n",
       "  <tbody>\n",
       "    <tr>\n",
       "      <th>a3247f50f94ad5a2399430adb67be4d385547b52318d89fbd20f799ad2911124</th>\n",
       "      <td>1</td>\n",
       "      <td>13629</td>\n",
       "      <td>8413</td>\n",
       "      <td>33651</td>\n",
       "      <td>0</td>\n",
       "      <td>65</td>\n",
       "      <td>129</td>\n",
       "      <td>52</td>\n",
       "      <td>0.098999</td>\n",
       "      <td>0.000187</td>\n",
       "      <td>2.220703</td>\n",
       "      <td>646212</td>\n",
       "      <td>2020-09-01 02:31:00</td>\n",
       "    </tr>\n",
       "  </tbody>\n",
       "</table>\n",
       "</div>"
      ],
      "text/plain": [
       "                                                                  version  \\\n",
       "txid                                                                        \n",
       "a3247f50f94ad5a2399430adb67be4d385547b52318d89fbd20f799ad2911124        1   \n",
       "\n",
       "                                                                   size  \\\n",
       "txid                                                                      \n",
       "a3247f50f94ad5a2399430adb67be4d385547b52318d89fbd20f799ad2911124  13629   \n",
       "\n",
       "                                                                  vsize  \\\n",
       "txid                                                                      \n",
       "a3247f50f94ad5a2399430adb67be4d385547b52318d89fbd20f799ad2911124   8413   \n",
       "\n",
       "                                                                  weight  \\\n",
       "txid                                                                       \n",
       "a3247f50f94ad5a2399430adb67be4d385547b52318d89fbd20f799ad2911124   33651   \n",
       "\n",
       "                                                                  locktime  \\\n",
       "txid                                                                         \n",
       "a3247f50f94ad5a2399430adb67be4d385547b52318d89fbd20f799ad2911124         0   \n",
       "\n",
       "                                                                  n_in  n_out  \\\n",
       "txid                                                                            \n",
       "a3247f50f94ad5a2399430adb67be4d385547b52318d89fbd20f799ad2911124    65    129   \n",
       "\n",
       "                                                                  n_eq  \\\n",
       "txid                                                                     \n",
       "a3247f50f94ad5a2399430adb67be4d385547b52318d89fbd20f799ad2911124    52   \n",
       "\n",
       "                                                                       den  \\\n",
       "txid                                                                         \n",
       "a3247f50f94ad5a2399430adb67be4d385547b52318d89fbd20f799ad2911124  0.098999   \n",
       "\n",
       "                                                                   abs_fee  \\\n",
       "txid                                                                         \n",
       "a3247f50f94ad5a2399430adb67be4d385547b52318d89fbd20f799ad2911124  0.000187   \n",
       "\n",
       "                                                                   rel_fee  \\\n",
       "txid                                                                         \n",
       "a3247f50f94ad5a2399430adb67be4d385547b52318d89fbd20f799ad2911124  2.220703   \n",
       "\n",
       "                                                                  height  \\\n",
       "txid                                                                       \n",
       "a3247f50f94ad5a2399430adb67be4d385547b52318d89fbd20f799ad2911124  646212   \n",
       "\n",
       "                                                                                date  \n",
       "txid                                                                                  \n",
       "a3247f50f94ad5a2399430adb67be4d385547b52318d89fbd20f799ad2911124 2020-09-01 02:31:00  "
      ]
     },
     "metadata": {},
     "output_type": "display_data"
    },
    {
     "data": {
      "text/markdown": [
       "### Inputs"
      ]
     },
     "metadata": {},
     "output_type": "display_data"
    },
    {
     "data": {
      "text/html": [
       "<div>\n",
       "<style scoped>\n",
       "    .dataframe tbody tr th:only-of-type {\n",
       "        vertical-align: middle;\n",
       "    }\n",
       "\n",
       "    .dataframe tbody tr th {\n",
       "        vertical-align: top;\n",
       "    }\n",
       "\n",
       "    .dataframe thead th {\n",
       "        text-align: right;\n",
       "    }\n",
       "</style>\n",
       "<table border=\"1\" class=\"dataframe\">\n",
       "  <thead>\n",
       "    <tr style=\"text-align: right;\">\n",
       "      <th></th>\n",
       "      <th>txid</th>\n",
       "      <th>height</th>\n",
       "      <th>value</th>\n",
       "      <th>vout</th>\n",
       "      <th>addresses</th>\n",
       "      <th>type</th>\n",
       "    </tr>\n",
       "  </thead>\n",
       "  <tbody>\n",
       "    <tr>\n",
       "      <th>0</th>\n",
       "      <td>a9d5f96b87a8971562009f1c7b1f49a51a55a30e0abd3403bbaa3af9d6237767</td>\n",
       "      <td>645823</td>\n",
       "      <td>0.000100</td>\n",
       "      <td>0</td>\n",
       "      <td>[bc1qa2ygxawelum9nt55cgtkw7xwgnd7zg02xtcsun]</td>\n",
       "      <td>witness_v0_keyhash</td>\n",
       "    </tr>\n",
       "    <tr>\n",
       "      <th>1</th>\n",
       "      <td>4ef2543dbea8f4ee2800d2f888f340862dc4cc0a98c75ce7bf9ef05b4d625b7a</td>\n",
       "      <td>645787</td>\n",
       "      <td>0.001232</td>\n",
       "      <td>6</td>\n",
       "      <td>[bc1qdtuad8tm353m00dmy8ghcjgrwnd6e5y0mnh4en]</td>\n",
       "      <td>witness_v0_keyhash</td>\n",
       "    </tr>\n",
       "    <tr>\n",
       "      <th>2</th>\n",
       "      <td>a8968755cf810b386851b12c8a46ad7045ce120df72ca8977659d28537479e96</td>\n",
       "      <td>646101</td>\n",
       "      <td>0.003075</td>\n",
       "      <td>1</td>\n",
       "      <td>[bc1q80zdfe2dnh3mg97mhk2sw2veednr2wwgwht9xw]</td>\n",
       "      <td>witness_v0_keyhash</td>\n",
       "    </tr>\n",
       "    <tr>\n",
       "      <th>3</th>\n",
       "      <td>e20d6a4e030d2af1a4bf7221209efd501e501fa50dd4a33eb6713eac20e5da2f</td>\n",
       "      <td>641671</td>\n",
       "      <td>0.003374</td>\n",
       "      <td>13</td>\n",
       "      <td>[bc1qcpa8wnyxlrax9qrmmpke0lpzrlu3mg7mmjr6e0]</td>\n",
       "      <td>witness_v0_keyhash</td>\n",
       "    </tr>\n",
       "    <tr>\n",
       "      <th>4</th>\n",
       "      <td>207d19ae2316b6638b4fc0398f5a0d2e61ef8251671717834e30a997c60ed922</td>\n",
       "      <td>645900</td>\n",
       "      <td>0.003496</td>\n",
       "      <td>8</td>\n",
       "      <td>[bc1qnex0zha94ut5fh9cdj5cfjh7zgslg4vdhy7ley]</td>\n",
       "      <td>witness_v0_keyhash</td>\n",
       "    </tr>\n",
       "    <tr>\n",
       "      <th>...</th>\n",
       "      <td>...</td>\n",
       "      <td>...</td>\n",
       "      <td>...</td>\n",
       "      <td>...</td>\n",
       "      <td>...</td>\n",
       "      <td>...</td>\n",
       "    </tr>\n",
       "    <tr>\n",
       "      <th>60</th>\n",
       "      <td>93327b57bc6773fb4d78b85f6ef73a7efb1aabc77b018499f96f4c18f455d433</td>\n",
       "      <td>646066</td>\n",
       "      <td>0.940547</td>\n",
       "      <td>143</td>\n",
       "      <td>[bc1qlwvp2h4wzeyhjhyt6sdjx3mk59f8eygmdw8lkc]</td>\n",
       "      <td>witness_v0_keyhash</td>\n",
       "    </tr>\n",
       "    <tr>\n",
       "      <th>61</th>\n",
       "      <td>44286f407ea29d405d1ba91b93205830d318fac73c98fa44ddd3eacb1cafae1f</td>\n",
       "      <td>646151</td>\n",
       "      <td>1.426786</td>\n",
       "      <td>0</td>\n",
       "      <td>[bc1q8lhsetq8k4gxu5nvpwdq80gea37eqld2jzn896]</td>\n",
       "      <td>witness_v0_keyhash</td>\n",
       "    </tr>\n",
       "    <tr>\n",
       "      <th>62</th>\n",
       "      <td>44c199735671ef7b30db1dbcd7b22290c700d2e194204f1aec2820b959397e22</td>\n",
       "      <td>646126</td>\n",
       "      <td>1.583202</td>\n",
       "      <td>118</td>\n",
       "      <td>[bc1qhjw2s6a459agk2vxahpa2vkvp5m8weewfqcwl8]</td>\n",
       "      <td>witness_v0_keyhash</td>\n",
       "    </tr>\n",
       "    <tr>\n",
       "      <th>63</th>\n",
       "      <td>2161c9b08eb7bbfef254199fb20193b196efb6d42f8d376ecc1bf656be9d934a</td>\n",
       "      <td>646142</td>\n",
       "      <td>1.877712</td>\n",
       "      <td>0</td>\n",
       "      <td>[bc1q46smhs8hmdlj35kq8qnnluqxkdymg7u4mvg7p3]</td>\n",
       "      <td>witness_v0_keyhash</td>\n",
       "    </tr>\n",
       "    <tr>\n",
       "      <th>64</th>\n",
       "      <td>f5c2dd5f69496f06f5cfe1ddc2552fc2c97c70b9bf8a532ca6d2f40d61408fac</td>\n",
       "      <td>646142</td>\n",
       "      <td>1.889785</td>\n",
       "      <td>0</td>\n",
       "      <td>[bc1qsxw2gq2kv9xjuk5j3sultm67k54hawwdavhuma]</td>\n",
       "      <td>witness_v0_keyhash</td>\n",
       "    </tr>\n",
       "  </tbody>\n",
       "</table>\n",
       "<p>65 rows × 6 columns</p>\n",
       "</div>"
      ],
      "text/plain": [
       "                                                                txid  height  \\\n",
       "0   a9d5f96b87a8971562009f1c7b1f49a51a55a30e0abd3403bbaa3af9d6237767  645823   \n",
       "1   4ef2543dbea8f4ee2800d2f888f340862dc4cc0a98c75ce7bf9ef05b4d625b7a  645787   \n",
       "2   a8968755cf810b386851b12c8a46ad7045ce120df72ca8977659d28537479e96  646101   \n",
       "3   e20d6a4e030d2af1a4bf7221209efd501e501fa50dd4a33eb6713eac20e5da2f  641671   \n",
       "4   207d19ae2316b6638b4fc0398f5a0d2e61ef8251671717834e30a997c60ed922  645900   \n",
       "..                                                               ...     ...   \n",
       "60  93327b57bc6773fb4d78b85f6ef73a7efb1aabc77b018499f96f4c18f455d433  646066   \n",
       "61  44286f407ea29d405d1ba91b93205830d318fac73c98fa44ddd3eacb1cafae1f  646151   \n",
       "62  44c199735671ef7b30db1dbcd7b22290c700d2e194204f1aec2820b959397e22  646126   \n",
       "63  2161c9b08eb7bbfef254199fb20193b196efb6d42f8d376ecc1bf656be9d934a  646142   \n",
       "64  f5c2dd5f69496f06f5cfe1ddc2552fc2c97c70b9bf8a532ca6d2f40d61408fac  646142   \n",
       "\n",
       "       value  vout                                     addresses  \\\n",
       "0   0.000100     0  [bc1qa2ygxawelum9nt55cgtkw7xwgnd7zg02xtcsun]   \n",
       "1   0.001232     6  [bc1qdtuad8tm353m00dmy8ghcjgrwnd6e5y0mnh4en]   \n",
       "2   0.003075     1  [bc1q80zdfe2dnh3mg97mhk2sw2veednr2wwgwht9xw]   \n",
       "3   0.003374    13  [bc1qcpa8wnyxlrax9qrmmpke0lpzrlu3mg7mmjr6e0]   \n",
       "4   0.003496     8  [bc1qnex0zha94ut5fh9cdj5cfjh7zgslg4vdhy7ley]   \n",
       "..       ...   ...                                           ...   \n",
       "60  0.940547   143  [bc1qlwvp2h4wzeyhjhyt6sdjx3mk59f8eygmdw8lkc]   \n",
       "61  1.426786     0  [bc1q8lhsetq8k4gxu5nvpwdq80gea37eqld2jzn896]   \n",
       "62  1.583202   118  [bc1qhjw2s6a459agk2vxahpa2vkvp5m8weewfqcwl8]   \n",
       "63  1.877712     0  [bc1q46smhs8hmdlj35kq8qnnluqxkdymg7u4mvg7p3]   \n",
       "64  1.889785     0  [bc1qsxw2gq2kv9xjuk5j3sultm67k54hawwdavhuma]   \n",
       "\n",
       "                  type  \n",
       "0   witness_v0_keyhash  \n",
       "1   witness_v0_keyhash  \n",
       "2   witness_v0_keyhash  \n",
       "3   witness_v0_keyhash  \n",
       "4   witness_v0_keyhash  \n",
       "..                 ...  \n",
       "60  witness_v0_keyhash  \n",
       "61  witness_v0_keyhash  \n",
       "62  witness_v0_keyhash  \n",
       "63  witness_v0_keyhash  \n",
       "64  witness_v0_keyhash  \n",
       "\n",
       "[65 rows x 6 columns]"
      ]
     },
     "metadata": {},
     "output_type": "display_data"
    },
    {
     "data": {
      "text/markdown": [
       "### Outputs"
      ]
     },
     "metadata": {},
     "output_type": "display_data"
    },
    {
     "data": {
      "text/html": [
       "<div>\n",
       "<style scoped>\n",
       "    .dataframe tbody tr th:only-of-type {\n",
       "        vertical-align: middle;\n",
       "    }\n",
       "\n",
       "    .dataframe tbody tr th {\n",
       "        vertical-align: top;\n",
       "    }\n",
       "\n",
       "    .dataframe thead th {\n",
       "        text-align: right;\n",
       "    }\n",
       "</style>\n",
       "<table border=\"1\" class=\"dataframe\">\n",
       "  <thead>\n",
       "    <tr style=\"text-align: right;\">\n",
       "      <th></th>\n",
       "      <th>value</th>\n",
       "      <th>addresses</th>\n",
       "      <th>type</th>\n",
       "    </tr>\n",
       "    <tr>\n",
       "      <th>vout</th>\n",
       "      <th></th>\n",
       "      <th></th>\n",
       "      <th></th>\n",
       "    </tr>\n",
       "  </thead>\n",
       "  <tbody>\n",
       "    <tr>\n",
       "      <th>0</th>\n",
       "      <td>0.000924</td>\n",
       "      <td>[bc1q0v7c4pwk6u36xwu7040jr39ew2fvq0m2sn6dm0]</td>\n",
       "      <td>witness_v0_keyhash</td>\n",
       "    </tr>\n",
       "    <tr>\n",
       "      <th>1</th>\n",
       "      <td>0.002165</td>\n",
       "      <td>[bc1q4a6pkcvs3h3s93c555t93am7lsajggqz94mcur]</td>\n",
       "      <td>witness_v0_keyhash</td>\n",
       "    </tr>\n",
       "    <tr>\n",
       "      <th>2</th>\n",
       "      <td>0.006739</td>\n",
       "      <td>[bc1qnmftapu9u08sd3wsdr394g566xj7xzntmrgjef]</td>\n",
       "      <td>witness_v0_keyhash</td>\n",
       "    </tr>\n",
       "    <tr>\n",
       "      <th>3</th>\n",
       "      <td>0.007766</td>\n",
       "      <td>[bc1qqmmlp67qrtam6rxsh2y6hn7yf6fexrpkn3c06y]</td>\n",
       "      <td>witness_v0_keyhash</td>\n",
       "    </tr>\n",
       "    <tr>\n",
       "      <th>4</th>\n",
       "      <td>0.007951</td>\n",
       "      <td>[bc1qjpyaqnedx3ge3df4pe635rhhlzskqfqspf6gzx]</td>\n",
       "      <td>witness_v0_keyhash</td>\n",
       "    </tr>\n",
       "    <tr>\n",
       "      <th>...</th>\n",
       "      <td>...</td>\n",
       "      <td>...</td>\n",
       "      <td>...</td>\n",
       "    </tr>\n",
       "    <tr>\n",
       "      <th>124</th>\n",
       "      <td>0.405958</td>\n",
       "      <td>[bc1q2zy8s5flnn2zayh9khhu4q9c9wjsykg9guyhuc]</td>\n",
       "      <td>witness_v0_keyhash</td>\n",
       "    </tr>\n",
       "    <tr>\n",
       "      <th>125</th>\n",
       "      <td>0.734129</td>\n",
       "      <td>[bc1qt5r0r4pmnk0ef8var2k2sfe0vfxy5jvdtm7k3f]</td>\n",
       "      <td>witness_v0_keyhash</td>\n",
       "    </tr>\n",
       "    <tr>\n",
       "      <th>126</th>\n",
       "      <td>0.791080</td>\n",
       "      <td>[bc1qsgrr5u6qhmra0jt3t6gsj8zjptwgruuxjvw56e]</td>\n",
       "      <td>witness_v0_keyhash</td>\n",
       "    </tr>\n",
       "    <tr>\n",
       "      <th>127</th>\n",
       "      <td>0.791080</td>\n",
       "      <td>[bc1qxptggkneu9hz3qd0gzdd729mdmuyvyg54en0dk]</td>\n",
       "      <td>witness_v0_keyhash</td>\n",
       "    </tr>\n",
       "    <tr>\n",
       "      <th>128</th>\n",
       "      <td>0.791080</td>\n",
       "      <td>[bc1qx5pg957kyyrwns5fzhwdfjj6plt7vcyr7mr73x]</td>\n",
       "      <td>witness_v0_keyhash</td>\n",
       "    </tr>\n",
       "  </tbody>\n",
       "</table>\n",
       "<p>129 rows × 3 columns</p>\n",
       "</div>"
      ],
      "text/plain": [
       "         value                                     addresses  \\\n",
       "vout                                                           \n",
       "0     0.000924  [bc1q0v7c4pwk6u36xwu7040jr39ew2fvq0m2sn6dm0]   \n",
       "1     0.002165  [bc1q4a6pkcvs3h3s93c555t93am7lsajggqz94mcur]   \n",
       "2     0.006739  [bc1qnmftapu9u08sd3wsdr394g566xj7xzntmrgjef]   \n",
       "3     0.007766  [bc1qqmmlp67qrtam6rxsh2y6hn7yf6fexrpkn3c06y]   \n",
       "4     0.007951  [bc1qjpyaqnedx3ge3df4pe635rhhlzskqfqspf6gzx]   \n",
       "...        ...                                           ...   \n",
       "124   0.405958  [bc1q2zy8s5flnn2zayh9khhu4q9c9wjsykg9guyhuc]   \n",
       "125   0.734129  [bc1qt5r0r4pmnk0ef8var2k2sfe0vfxy5jvdtm7k3f]   \n",
       "126   0.791080  [bc1qsgrr5u6qhmra0jt3t6gsj8zjptwgruuxjvw56e]   \n",
       "127   0.791080  [bc1qxptggkneu9hz3qd0gzdd729mdmuyvyg54en0dk]   \n",
       "128   0.791080  [bc1qx5pg957kyyrwns5fzhwdfjj6plt7vcyr7mr73x]   \n",
       "\n",
       "                    type  \n",
       "vout                      \n",
       "0     witness_v0_keyhash  \n",
       "1     witness_v0_keyhash  \n",
       "2     witness_v0_keyhash  \n",
       "3     witness_v0_keyhash  \n",
       "4     witness_v0_keyhash  \n",
       "...                  ...  \n",
       "124   witness_v0_keyhash  \n",
       "125   witness_v0_keyhash  \n",
       "126   witness_v0_keyhash  \n",
       "127   witness_v0_keyhash  \n",
       "128   witness_v0_keyhash  \n",
       "\n",
       "[129 rows x 3 columns]"
      ]
     },
     "metadata": {},
     "output_type": "display_data"
    }
   ],
   "source": [
    "### INSERT HERE ###\n",
    "txid = 'a3247f50f94ad5a2399430adb67be4d385547b52318d89fbd20f799ad2911124'\n",
    "display_all = False\n",
    "\n",
    "obs.show_tx(txs, txid, display_all)"
   ]
  },
  {
   "cell_type": "markdown",
   "metadata": {},
   "source": [
    "[Back to menu](#Menu)\n",
    "\n",
    "---"
   ]
  },
  {
   "cell_type": "markdown",
   "metadata": {},
   "source": [
    "## Plot"
   ]
  },
  {
   "cell_type": "markdown",
   "metadata": {},
   "source": [
    "Run the cell below to plot the desired `column`.\n",
    "\n",
    "If you give it a `filepath`, the result graph will be saved."
   ]
  },
  {
   "cell_type": "code",
   "execution_count": 6,
   "metadata": {},
   "outputs": [
    {
     "data": {
      "image/png": "[encoded data removed]",
      "text/plain": [
       "<Figure size 1440x720 with 1 Axes>"
      ]
     },
     "metadata": {},
     "output_type": "display_data"
    }
   ],
   "source": [
    "### INSERT HERE ###\n",
    "column = 'n_eq'\n",
    "filepath = ''\n",
    "\n",
    "obs.show_graph(txs, column, filepath)"
   ]
  },
  {
   "cell_type": "markdown",
   "metadata": {},
   "source": [
    "[Back to menu](#Menu)\n",
    "\n",
    "---"
   ]
  },
  {
   "cell_type": "markdown",
   "metadata": {},
   "source": [
    "## Volume"
   ]
  },
  {
   "cell_type": "markdown",
   "metadata": {},
   "source": [
    "Run the cell below to show the volume graph.\n",
    "\n",
    "If you give it a filepath, the result graph will be saved."
   ]
  },
  {
   "cell_type": "code",
   "execution_count": 7,
   "metadata": {},
   "outputs": [
    {
     "data": {
      "text/markdown": [
       "**Input** volume: 27752.2109206"
      ]
     },
     "metadata": {},
     "output_type": "display_data"
    },
    {
     "data": {
      "text/markdown": [
       "**Equal output** volume: 16209.50697161"
      ]
     },
     "metadata": {},
     "output_type": "display_data"
    },
    {
     "data": {
      "image/png": "[encoded data removed]",
      "text/plain": [
       "<Figure size 1440x720 with 1 Axes>"
      ]
     },
     "metadata": {},
     "output_type": "display_data"
    }
   ],
   "source": [
    "filepath = ''\n",
    "\n",
    "obs.show_volume(txs, filepath)"
   ]
  },
  {
   "cell_type": "markdown",
   "metadata": {},
   "source": [
    "[Back to menu](#Menu)\n",
    "\n",
    "---"
   ]
  },
  {
   "cell_type": "markdown",
   "metadata": {},
   "source": [
    "## Daily"
   ]
  },
  {
   "cell_type": "markdown",
   "metadata": {},
   "source": [
    "Run the cell below to show the transanctions per day graph.\n",
    "\n",
    "If you give it a filepath, the result graph will be saved."
   ]
  },
  {
   "cell_type": "code",
   "execution_count": 8,
   "metadata": {},
   "outputs": [
    {
     "data": {
      "text/markdown": [
       "**Average daily**: 32.4"
      ]
     },
     "metadata": {},
     "output_type": "display_data"
    },
    {
     "data": {
      "image/png": "[encoded data removed]",
      "text/plain": [
       "<Figure size 1440x720 with 1 Axes>"
      ]
     },
     "metadata": {},
     "output_type": "display_data"
    }
   ],
   "source": [
    "filepath = ''\n",
    "\n",
    "obs.show_daily(txs, filepath)"
   ]
  },
  {
   "cell_type": "markdown",
   "metadata": {},
   "source": [
    "[Back to menu](#Menu)\n",
    "\n",
    "---"
   ]
  },
  {
   "cell_type": "markdown",
   "metadata": {},
   "source": [
    "## Advanced creation"
   ]
  },
  {
   "cell_type": "markdown",
   "metadata": {},
   "source": [
    "Here you can create a dataframe using your own filters.  \n",
    "You can also pass more than one filter and every transaction that matches at least one of them will be included in the dataframe.\n",
    "**Each and every** criteria has to be satisfied in order for a transaction to match a filter.\n",
    "\n",
    "Valid criteria are:\n",
    "* **txid**\n",
    "    * e.g., `txid='mytxid'` will scan for transactions that include 'mytxid' in the txid.\n",
    "* **address**\n",
    "    * e.g., `addresses=['myaddress']` will scan for transactions that include 'myaddress' in at least one of the addresses. Accept multiple addresses (each and every of them has to be part in a transaction for the transaction to match the filter).\n",
    "* **in_type**\n",
    "    * e.g., `in_type='scripthash'` will scan for transactions that have all the inputs of type 'scripthash'.\n",
    "* **out_type**\n",
    "    * e.g., `out_type='scripthash'` will scan for transactions that have all the outputs of type 'scripthash'.\n",
    "* **version**\n",
    "    * e.g., `version=(minversion, maxversion)` will scan for transactions that have a version number between minversion and maxversion included.\n",
    "* **size**\n",
    "    * e.g., `size=(minsize, maxsize)` will scan for transactions that have a size between minsize and maxsize included.\n",
    "* **vsize**\n",
    "    * e.g., `vsize=(minvsize, maxvsize)` will scan for transactions that have a virtual size between minvsize and maxvsize included.\n",
    "* **weight**\n",
    "    * e.g., `weight=(minweight, maxweight)` will scan for transactions that have a weight between minweight and maxweight included.\n",
    "* **locktime**\n",
    "    * e.g., `locktime=(minlocktime, maxlocktime)` will scan for transactions that have a locktime between minlocktime and maxlocktime included.\n",
    "* **n_in**\n",
    "    * e.g., `n_in=(minn_in, maxn_in)` will scan for transactions that have a number of inputs between minn_in and maxn_in included.\n",
    "* **n_out**\n",
    "    * e.g., `n_out=(minn_out, maxn_out)` will scan for transactions that have a number of outputs between minn_out and maxn_out included.\n",
    "* **n_eq**\n",
    "    * e.g., `n_eq=(minn_eq, maxn_out)` will scan for transactions that have a number of equally sized outputs between minn_eq and maxn_out included.\n",
    "* **den**\n",
    "    * e.g., `den=(minden, maxden)` will scan for transactions that have a denomination between minden and maxden included.\n",
    "* **abs_fee**\n",
    "    * e.g., `abs_fee=(minabs_fee, maxabs_fee)` will scan for transactions that have an absolute fee between minabs_fee and maxabs_fee included.\n",
    "* **rel_fee**\n",
    "    * e.g., `rel_fee=(minrel_fee, maxrel_fee)` will scan for transactions that have a relative fee between minrel_fee and maxrel_fee included.\n",
    "* **height**\n",
    "    * e.g., `height=(minheight, maxheight)` will scan for transactions that have a height between minheight and maxheight included.\n",
    "* **date**\n",
    "    * e.g., `date=('2020-09-18', '2020-09-19 19:00')` will scan for transactions that have a date between mindate and maxdate included.      \n",
    "    \n",
    "You can also pass arbitrary callables as long as they accept a Tx object as parameter and return True or False.  \n",
    "e.g., `callables=[mycallable]`\n",
    "\n",
    "Here's how a filter that searches for transactions that pay more than 100 sat/vbyte and have just 1 input and 1 output would look like.\n",
    "\n",
    "`tx_filter = filters.TxFilter(n_in=(1, 1), n_out=(1, 1), rel_fee=(100, 100000))`"
   ]
  },
  {
   "cell_type": "code",
   "execution_count": null,
   "metadata": {},
   "outputs": [],
   "source": [
    "import observatory as obs\n",
    "import advanced.filters as filters\n",
    "\n",
    "\n",
    "### INSERT HERE ###\n",
    "start = -10\n",
    "end = 0\n",
    "tx_filter = filters.TxFilter(n_in=(1, 1), n_out=(1, 1), rel_fee=(100, 100000))\n",
    "\n",
    "\n",
    "txs = await obs.create_dataframe(start, end, tx_filter)"
   ]
  },
  {
   "cell_type": "markdown",
   "metadata": {},
   "source": [
    "[Back to menu](#Menu)\n",
    "\n",
    "---"
   ]
  }
 ],
 "metadata": {
  "kernelspec": {
   "display_name": "Python 3",
   "language": "python",
   "name": "python3"
  },
  "language_info": {
   "codemirror_mode": {
    "name": "ipython",
    "version": 3
   },
   "file_extension": ".py",
   "mimetype": "text/x-python",
   "name": "python",
   "nbconvert_exporter": "python",
   "pygments_lexer": "ipython3",
   "version": "3.7.3"
  }
 },
 "nbformat": 4,
 "nbformat_minor": 4
}
