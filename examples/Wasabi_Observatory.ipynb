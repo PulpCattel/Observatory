{
 "cells": [
  {
   "cell_type": "markdown",
   "metadata": {},
   "source": [
    "# Observatory"
   ]
  },
  {
   "cell_type": "markdown",
   "metadata": {},
   "source": [
    "## Menu"
   ]
  },
  {
   "cell_type": "markdown",
   "metadata": {},
   "source": [
    "**Setup**\n",
    "\n",
    "* [Create new dataframe](#Crate-new-dataframe)\n",
    "* [Save dataframe](#Save-dataframe)\n",
    "* [Load dataframe](#Load-existing-dataframe)\n",
    "\n",
    "**Analysis**\n",
    "\n",
    "* [Glimpse](#Glimpse)\n",
    "* [Stats](#Stats)\n",
    "* [Transaction explorer](#Transaction-explorer)\n",
    "* [Plot](#Plot)\n",
    "* [Volume](#Volume)\n",
    "* [Daily](#Daily)\n",
    "\n",
    "**Advanced**\n",
    "\n",
    "* [Advanced creation](#Advanced-creation)"
   ]
  },
  {
   "cell_type": "markdown",
   "metadata": {},
   "source": [
    "---"
   ]
  },
  {
   "cell_type": "markdown",
   "metadata": {},
   "source": [
    "## Create new dataframe"
   ]
  },
  {
   "cell_type": "markdown",
   "metadata": {},
   "source": [
    "Insert in the cell below the `start` block height and the `end` block height, select your desired filter and run it to create the dataframe.\n",
    "\n",
    "**Example:**\n",
    "  \n",
    "`start = 100`  \n",
    "`end = 200`  \n",
    "\n",
    "Will search for transactions between block 100 and block 200 included.\n",
    "\n",
    "You can also give **negative** values to `start` and this will scan the last chosen blocks **depending** on the `end` value.\n",
    "\n",
    "**Example:**\n",
    "\n",
    "`start = -10`  \n",
    "`end = 0`\n",
    "\n",
    "Will search for transactions in the last 10 blocks.\n",
    "\n",
    "**Example:**\n",
    "\n",
    "`start = -10`  \n",
    "`end = 5`\n",
    "\n",
    "Will search for transanction in 5 block starting from ten blocks ago."
   ]
  },
  {
   "cell_type": "code",
   "execution_count": 1,
   "metadata": {},
   "outputs": [
    {
     "name": "stderr",
     "output_type": "stream",
     "text": [
      "4201it [14:17,  4.90it/s]\n"
     ]
    },
    {
     "data": {
      "text/markdown": [
       "Created dataframe of **1010** transactions in 857.73s"
      ]
     },
     "metadata": {},
     "output_type": "display_data"
    },
    {
     "data": {
      "text/markdown": [
       "[Save dataframe](#Save-dataframe)"
      ]
     },
     "metadata": {},
     "output_type": "display_data"
    },
    {
     "data": {
      "text/markdown": [
       "[Start analysis](#Glimpse)"
      ]
     },
     "metadata": {},
     "output_type": "display_data"
    }
   ],
   "source": [
    "import observatory as obs\n",
    "import advanced.filters as filters\n",
    "\n",
    "\n",
    "### INSERT HERE ###\n",
    "start = 650732\n",
    "end = 654932\n",
    "txid = ''\n",
    "address = ''\n",
    "\n",
    "\n",
    "### CHOOSE ONE OF THE FILTERS BELOW BY REMOVING THE '#' IN FRONT OF IT ###\n",
    "#tx_filter = filters.TxFilter() # This will return every transaction\n",
    "#tx_filter = filters.CjTxFilter()\n",
    "tx_filter = filters.WasabiTxFilter()\n",
    "#tx_filter = filters.JoinmarketTxFilter()\n",
    "#tx_filter = filters.TxidTxFilter(txid) # If you pick me, don't forget to insert a 'txid' above.\n",
    "#tx_filter = filters.AddressTxFilter(address) # If you pick me, don't forget to insert an 'address' above.\n",
    "#tx_filter = filters.CoinbaseTxFilter()\n",
    "\n",
    "txs = await obs.create_dataframe(start, end, tx_filter)"
   ]
  },
  {
   "cell_type": "markdown",
   "metadata": {},
   "source": [
    "[Back to menu](#Menu)\n",
    "\n",
    "---"
   ]
  },
  {
   "cell_type": "markdown",
   "metadata": {},
   "source": [
    "## Save dataframe"
   ]
  },
  {
   "cell_type": "markdown",
   "metadata": {},
   "source": [
    "Insert the **filepath** where to save and run the cell.\n",
    "\n",
    "**Examples:**\n",
    "    \n",
    "`filepath = 'thisfilename'`  \n",
    "`filepath = '/home/thisfilename'`  \n",
    "`filepath = 'results/wasabi/thisfilename'`\n",
    "\n",
    "Will create a `thisfilename.ftr` file into the given filepath."
   ]
  },
  {
   "cell_type": "code",
   "execution_count": 2,
   "metadata": {},
   "outputs": [
    {
     "name": "stdout",
     "output_type": "stream",
     "text": [
      "Dataframe succesfully saved in 0.42s\n"
     ]
    }
   ],
   "source": [
    "### INSERT HERE ###\n",
    "filepath = 'results/Wasabi_txs_october'\n",
    "\n",
    "\n",
    "obs.save(filepath, txs)"
   ]
  },
  {
   "cell_type": "markdown",
   "metadata": {},
   "source": [
    "[Back to menu](#Menu)\n",
    "\n",
    "---"
   ]
  },
  {
   "cell_type": "markdown",
   "metadata": {},
   "source": [
    "## Load existing dataframe"
   ]
  },
  {
   "cell_type": "markdown",
   "metadata": {},
   "source": [
    "Insert the **filepath** of the dataframe to load and run the cell.\n",
    "\n",
    "**Examples:**\n",
    "    \n",
    "`filepath = 'thisfilename'`  \n",
    "`filepath = '/home/thisfilename'`  \n",
    "`filepath = 'results/mytxs/thisfilename'`\n",
    "\n",
    "Will load the `thisfilename.ftr` file from the given filepath."
   ]
  },
  {
   "cell_type": "code",
   "execution_count": null,
   "metadata": {},
   "outputs": [],
   "source": [
    "import observatory as obs\n",
    "\n",
    "\n",
    "### INSERT HERE ###\n",
    "filepath = 'results/mydataframe'\n",
    "\n",
    "\n",
    "txs = obs.load(filepath)"
   ]
  },
  {
   "cell_type": "markdown",
   "metadata": {},
   "source": [
    "[Back to menu](#Menu)\n",
    "\n",
    "---"
   ]
  },
  {
   "cell_type": "markdown",
   "metadata": {},
   "source": [
    "## Glimpse"
   ]
  },
  {
   "cell_type": "markdown",
   "metadata": {},
   "source": [
    "Run the cell below for a glimpse of the dataframe. \n",
    "\n",
    "You can change the `n_txs` value to specify how many transactions to display.  \n",
    "You can also give `n_txs` a **negative** value to display the last n transactions.\n",
    "\n",
    "You can insert the `sort_by` value to specify which column should give the ordering. e.g. 'n_eq', 'date', etc... Default is 'date'."
   ]
  },
  {
   "cell_type": "code",
   "execution_count": 3,
   "metadata": {},
   "outputs": [
    {
     "data": {
      "text/markdown": [
       "**1010 total transactions**"
      ]
     },
     "metadata": {},
     "output_type": "display_data"
    },
    {
     "data": {
      "text/html": [
       "<div>\n",
       "<style scoped>\n",
       "    .dataframe tbody tr th:only-of-type {\n",
       "        vertical-align: middle;\n",
       "    }\n",
       "\n",
       "    .dataframe tbody tr th {\n",
       "        vertical-align: top;\n",
       "    }\n",
       "\n",
       "    .dataframe thead th {\n",
       "        text-align: right;\n",
       "    }\n",
       "</style>\n",
       "<table border=\"1\" class=\"dataframe\">\n",
       "  <thead>\n",
       "    <tr style=\"text-align: right;\">\n",
       "      <th></th>\n",
       "      <th>version</th>\n",
       "      <th>size</th>\n",
       "      <th>vsize</th>\n",
       "      <th>weight</th>\n",
       "      <th>locktime</th>\n",
       "      <th>n_in</th>\n",
       "      <th>n_out</th>\n",
       "      <th>n_eq</th>\n",
       "      <th>den</th>\n",
       "      <th>abs_fee</th>\n",
       "      <th>rel_fee</th>\n",
       "      <th>height</th>\n",
       "      <th>date</th>\n",
       "    </tr>\n",
       "    <tr>\n",
       "      <th>txid</th>\n",
       "      <th></th>\n",
       "      <th></th>\n",
       "      <th></th>\n",
       "      <th></th>\n",
       "      <th></th>\n",
       "      <th></th>\n",
       "      <th></th>\n",
       "      <th></th>\n",
       "      <th></th>\n",
       "      <th></th>\n",
       "      <th></th>\n",
       "      <th></th>\n",
       "      <th></th>\n",
       "    </tr>\n",
       "  </thead>\n",
       "  <tbody>\n",
       "    <tr>\n",
       "      <th>2cc64ab45021f5ae96e310867f629a95c540bb8abecb714ac3688ae4d54b615a</th>\n",
       "      <td>1</td>\n",
       "      <td>22149</td>\n",
       "      <td>12599</td>\n",
       "      <td>50394</td>\n",
       "      <td>0</td>\n",
       "      <td>119</td>\n",
       "      <td>146</td>\n",
       "      <td>79</td>\n",
       "      <td>0.108684</td>\n",
       "      <td>0.000429</td>\n",
       "      <td>3.4</td>\n",
       "      <td>650734</td>\n",
       "      <td>2020-10-01 00:11:00</td>\n",
       "    </tr>\n",
       "    <tr>\n",
       "      <th>2e4f7543463ae99eb493a26df9a7417d13294610c5b1fa4af96b155513d07460</th>\n",
       "      <td>1</td>\n",
       "      <td>14040</td>\n",
       "      <td>8181</td>\n",
       "      <td>32721</td>\n",
       "      <td>0</td>\n",
       "      <td>73</td>\n",
       "      <td>104</td>\n",
       "      <td>50</td>\n",
       "      <td>0.108714</td>\n",
       "      <td>0.005862</td>\n",
       "      <td>71.6</td>\n",
       "      <td>650734</td>\n",
       "      <td>2020-10-01 00:11:00</td>\n",
       "    </tr>\n",
       "    <tr>\n",
       "      <th>dabe570668e8ae8f972d66161c5fa17d64030b172d51502587d8bd59a45e77dd</th>\n",
       "      <td>1</td>\n",
       "      <td>26467</td>\n",
       "      <td>15231</td>\n",
       "      <td>60922</td>\n",
       "      <td>0</td>\n",
       "      <td>140</td>\n",
       "      <td>185</td>\n",
       "      <td>100</td>\n",
       "      <td>0.108640</td>\n",
       "      <td>0.011196</td>\n",
       "      <td>73.5</td>\n",
       "      <td>650734</td>\n",
       "      <td>2020-10-01 00:11:00</td>\n",
       "    </tr>\n",
       "    <tr>\n",
       "      <th>82481d5bfc973049589ab399c8bd9234f1b4193d1e5c0bde387c573617c1d9ae</th>\n",
       "      <td>1</td>\n",
       "      <td>21398</td>\n",
       "      <td>12491</td>\n",
       "      <td>49961</td>\n",
       "      <td>0</td>\n",
       "      <td>111</td>\n",
       "      <td>160</td>\n",
       "      <td>81</td>\n",
       "      <td>0.108676</td>\n",
       "      <td>0.000423</td>\n",
       "      <td>3.4</td>\n",
       "      <td>650734</td>\n",
       "      <td>2020-10-01 00:11:00</td>\n",
       "    </tr>\n",
       "    <tr>\n",
       "      <th>e4a39731561f0779b31b75d793a247ac42db7dc5194b4cfa91372a5a319a2743</th>\n",
       "      <td>1</td>\n",
       "      <td>18707</td>\n",
       "      <td>10922</td>\n",
       "      <td>43688</td>\n",
       "      <td>0</td>\n",
       "      <td>97</td>\n",
       "      <td>140</td>\n",
       "      <td>68</td>\n",
       "      <td>0.108580</td>\n",
       "      <td>0.009033</td>\n",
       "      <td>82.7</td>\n",
       "      <td>650734</td>\n",
       "      <td>2020-10-01 00:11:00</td>\n",
       "    </tr>\n",
       "    <tr>\n",
       "      <th>7940f6b5f059064746ba90b5f923c53d53c3986a98e6401fb381fab22c660665</th>\n",
       "      <td>1</td>\n",
       "      <td>16751</td>\n",
       "      <td>10010</td>\n",
       "      <td>40040</td>\n",
       "      <td>0</td>\n",
       "      <td>84</td>\n",
       "      <td>139</td>\n",
       "      <td>64</td>\n",
       "      <td>0.108626</td>\n",
       "      <td>0.008405</td>\n",
       "      <td>84.0</td>\n",
       "      <td>650734</td>\n",
       "      <td>2020-10-01 00:11:00</td>\n",
       "    </tr>\n",
       "    <tr>\n",
       "      <th>fa1ad2aa779a1f2cd834ad59a7731089ffef3965f817682994021d6e473324e1</th>\n",
       "      <td>1</td>\n",
       "      <td>11379</td>\n",
       "      <td>6643</td>\n",
       "      <td>26571</td>\n",
       "      <td>0</td>\n",
       "      <td>59</td>\n",
       "      <td>85</td>\n",
       "      <td>44</td>\n",
       "      <td>0.108756</td>\n",
       "      <td>0.000150</td>\n",
       "      <td>2.3</td>\n",
       "      <td>650734</td>\n",
       "      <td>2020-10-01 00:11:00</td>\n",
       "    </tr>\n",
       "    <tr>\n",
       "      <th>aab5dfc508520a31f37e61d0085afc12696ee76d1b0e43a65cb2bc30ed53cab5</th>\n",
       "      <td>1</td>\n",
       "      <td>14639</td>\n",
       "      <td>8539</td>\n",
       "      <td>34154</td>\n",
       "      <td>0</td>\n",
       "      <td>76</td>\n",
       "      <td>109</td>\n",
       "      <td>57</td>\n",
       "      <td>0.108730</td>\n",
       "      <td>0.000193</td>\n",
       "      <td>2.3</td>\n",
       "      <td>650734</td>\n",
       "      <td>2020-10-01 00:11:00</td>\n",
       "    </tr>\n",
       "    <tr>\n",
       "      <th>49e05ae89327021a5f75ede93ccc7ab5d37661834a5694fb1ff5515ced9560b3</th>\n",
       "      <td>1</td>\n",
       "      <td>10102</td>\n",
       "      <td>6008</td>\n",
       "      <td>24031</td>\n",
       "      <td>0</td>\n",
       "      <td>51</td>\n",
       "      <td>82</td>\n",
       "      <td>36</td>\n",
       "      <td>0.108920</td>\n",
       "      <td>0.000135</td>\n",
       "      <td>2.2</td>\n",
       "      <td>650734</td>\n",
       "      <td>2020-10-01 00:11:00</td>\n",
       "    </tr>\n",
       "    <tr>\n",
       "      <th>d8e160c3a6b290d9a3b8a3239322e4c71293c88ffe4d1e44cbdd122e557e54e1</th>\n",
       "      <td>1</td>\n",
       "      <td>13415</td>\n",
       "      <td>7878</td>\n",
       "      <td>31511</td>\n",
       "      <td>0</td>\n",
       "      <td>69</td>\n",
       "      <td>103</td>\n",
       "      <td>46</td>\n",
       "      <td>0.108857</td>\n",
       "      <td>0.000178</td>\n",
       "      <td>2.3</td>\n",
       "      <td>650734</td>\n",
       "      <td>2020-10-01 00:11:00</td>\n",
       "    </tr>\n",
       "  </tbody>\n",
       "</table>\n",
       "</div>"
      ],
      "text/plain": [
       "                                                    version   size  vsize  \\\n",
       "txid                                                                        \n",
       "2cc64ab45021f5ae96e310867f629a95c540bb8abecb714...        1  22149  12599   \n",
       "2e4f7543463ae99eb493a26df9a7417d13294610c5b1fa4...        1  14040   8181   \n",
       "dabe570668e8ae8f972d66161c5fa17d64030b172d51502...        1  26467  15231   \n",
       "82481d5bfc973049589ab399c8bd9234f1b4193d1e5c0bd...        1  21398  12491   \n",
       "e4a39731561f0779b31b75d793a247ac42db7dc5194b4cf...        1  18707  10922   \n",
       "7940f6b5f059064746ba90b5f923c53d53c3986a98e6401...        1  16751  10010   \n",
       "fa1ad2aa779a1f2cd834ad59a7731089ffef3965f817682...        1  11379   6643   \n",
       "aab5dfc508520a31f37e61d0085afc12696ee76d1b0e43a...        1  14639   8539   \n",
       "49e05ae89327021a5f75ede93ccc7ab5d37661834a5694f...        1  10102   6008   \n",
       "d8e160c3a6b290d9a3b8a3239322e4c71293c88ffe4d1e4...        1  13415   7878   \n",
       "\n",
       "                                                    weight  locktime  n_in  \\\n",
       "txid                                                                         \n",
       "2cc64ab45021f5ae96e310867f629a95c540bb8abecb714...   50394         0   119   \n",
       "2e4f7543463ae99eb493a26df9a7417d13294610c5b1fa4...   32721         0    73   \n",
       "dabe570668e8ae8f972d66161c5fa17d64030b172d51502...   60922         0   140   \n",
       "82481d5bfc973049589ab399c8bd9234f1b4193d1e5c0bd...   49961         0   111   \n",
       "e4a39731561f0779b31b75d793a247ac42db7dc5194b4cf...   43688         0    97   \n",
       "7940f6b5f059064746ba90b5f923c53d53c3986a98e6401...   40040         0    84   \n",
       "fa1ad2aa779a1f2cd834ad59a7731089ffef3965f817682...   26571         0    59   \n",
       "aab5dfc508520a31f37e61d0085afc12696ee76d1b0e43a...   34154         0    76   \n",
       "49e05ae89327021a5f75ede93ccc7ab5d37661834a5694f...   24031         0    51   \n",
       "d8e160c3a6b290d9a3b8a3239322e4c71293c88ffe4d1e4...   31511         0    69   \n",
       "\n",
       "                                                    n_out  n_eq       den  \\\n",
       "txid                                                                        \n",
       "2cc64ab45021f5ae96e310867f629a95c540bb8abecb714...    146    79  0.108684   \n",
       "2e4f7543463ae99eb493a26df9a7417d13294610c5b1fa4...    104    50  0.108714   \n",
       "dabe570668e8ae8f972d66161c5fa17d64030b172d51502...    185   100  0.108640   \n",
       "82481d5bfc973049589ab399c8bd9234f1b4193d1e5c0bd...    160    81  0.108676   \n",
       "e4a39731561f0779b31b75d793a247ac42db7dc5194b4cf...    140    68  0.108580   \n",
       "7940f6b5f059064746ba90b5f923c53d53c3986a98e6401...    139    64  0.108626   \n",
       "fa1ad2aa779a1f2cd834ad59a7731089ffef3965f817682...     85    44  0.108756   \n",
       "aab5dfc508520a31f37e61d0085afc12696ee76d1b0e43a...    109    57  0.108730   \n",
       "49e05ae89327021a5f75ede93ccc7ab5d37661834a5694f...     82    36  0.108920   \n",
       "d8e160c3a6b290d9a3b8a3239322e4c71293c88ffe4d1e4...    103    46  0.108857   \n",
       "\n",
       "                                                     abs_fee  rel_fee  height  \\\n",
       "txid                                                                            \n",
       "2cc64ab45021f5ae96e310867f629a95c540bb8abecb714...  0.000429      3.4  650734   \n",
       "2e4f7543463ae99eb493a26df9a7417d13294610c5b1fa4...  0.005862     71.6  650734   \n",
       "dabe570668e8ae8f972d66161c5fa17d64030b172d51502...  0.011196     73.5  650734   \n",
       "82481d5bfc973049589ab399c8bd9234f1b4193d1e5c0bd...  0.000423      3.4  650734   \n",
       "e4a39731561f0779b31b75d793a247ac42db7dc5194b4cf...  0.009033     82.7  650734   \n",
       "7940f6b5f059064746ba90b5f923c53d53c3986a98e6401...  0.008405     84.0  650734   \n",
       "fa1ad2aa779a1f2cd834ad59a7731089ffef3965f817682...  0.000150      2.3  650734   \n",
       "aab5dfc508520a31f37e61d0085afc12696ee76d1b0e43a...  0.000193      2.3  650734   \n",
       "49e05ae89327021a5f75ede93ccc7ab5d37661834a5694f...  0.000135      2.2  650734   \n",
       "d8e160c3a6b290d9a3b8a3239322e4c71293c88ffe4d1e4...  0.000178      2.3  650734   \n",
       "\n",
       "                                                                  date  \n",
       "txid                                                                    \n",
       "2cc64ab45021f5ae96e310867f629a95c540bb8abecb714... 2020-10-01 00:11:00  \n",
       "2e4f7543463ae99eb493a26df9a7417d13294610c5b1fa4... 2020-10-01 00:11:00  \n",
       "dabe570668e8ae8f972d66161c5fa17d64030b172d51502... 2020-10-01 00:11:00  \n",
       "82481d5bfc973049589ab399c8bd9234f1b4193d1e5c0bd... 2020-10-01 00:11:00  \n",
       "e4a39731561f0779b31b75d793a247ac42db7dc5194b4cf... 2020-10-01 00:11:00  \n",
       "7940f6b5f059064746ba90b5f923c53d53c3986a98e6401... 2020-10-01 00:11:00  \n",
       "fa1ad2aa779a1f2cd834ad59a7731089ffef3965f817682... 2020-10-01 00:11:00  \n",
       "aab5dfc508520a31f37e61d0085afc12696ee76d1b0e43a... 2020-10-01 00:11:00  \n",
       "49e05ae89327021a5f75ede93ccc7ab5d37661834a5694f... 2020-10-01 00:11:00  \n",
       "d8e160c3a6b290d9a3b8a3239322e4c71293c88ffe4d1e4... 2020-10-01 00:11:00  "
      ]
     },
     "metadata": {},
     "output_type": "display_data"
    }
   ],
   "source": [
    "### INSERT HERE ###\n",
    "n_txs = 10\n",
    "sort_by = ''\n",
    "\n",
    "\n",
    "obs.show_intro(txs, n_txs, sort_by)"
   ]
  },
  {
   "cell_type": "markdown",
   "metadata": {},
   "source": [
    "[Back to menu](#Menu)\n",
    "\n",
    "---"
   ]
  },
  {
   "cell_type": "markdown",
   "metadata": {},
   "source": [
    "## Stats"
   ]
  },
  {
   "cell_type": "markdown",
   "metadata": {},
   "source": [
    "Run the cell below for a list of statistics about the dataframe."
   ]
  },
  {
   "cell_type": "code",
   "execution_count": 4,
   "metadata": {},
   "outputs": [
    {
     "data": {
      "text/html": [
       "<div>\n",
       "<style scoped>\n",
       "    .dataframe tbody tr th:only-of-type {\n",
       "        vertical-align: middle;\n",
       "    }\n",
       "\n",
       "    .dataframe tbody tr th {\n",
       "        vertical-align: top;\n",
       "    }\n",
       "\n",
       "    .dataframe thead th {\n",
       "        text-align: right;\n",
       "    }\n",
       "</style>\n",
       "<table border=\"1\" class=\"dataframe\">\n",
       "  <thead>\n",
       "    <tr style=\"text-align: right;\">\n",
       "      <th></th>\n",
       "      <th>version</th>\n",
       "      <th>size</th>\n",
       "      <th>vsize</th>\n",
       "      <th>weight</th>\n",
       "      <th>locktime</th>\n",
       "      <th>n_in</th>\n",
       "      <th>n_out</th>\n",
       "      <th>n_eq</th>\n",
       "      <th>den</th>\n",
       "      <th>abs_fee</th>\n",
       "      <th>rel_fee</th>\n",
       "      <th>height</th>\n",
       "    </tr>\n",
       "  </thead>\n",
       "  <tbody>\n",
       "    <tr>\n",
       "      <th>count</th>\n",
       "      <td>1010.0</td>\n",
       "      <td>1010.000000</td>\n",
       "      <td>1010.000000</td>\n",
       "      <td>1010.000000</td>\n",
       "      <td>1010.0</td>\n",
       "      <td>1010.000000</td>\n",
       "      <td>1010.000000</td>\n",
       "      <td>1010.000000</td>\n",
       "      <td>1010.000000</td>\n",
       "      <td>1010.000000</td>\n",
       "      <td>1010.000000</td>\n",
       "      <td>1010.000000</td>\n",
       "    </tr>\n",
       "    <tr>\n",
       "      <th>mean</th>\n",
       "      <td>1.0</td>\n",
       "      <td>16205.732673</td>\n",
       "      <td>9627.762376</td>\n",
       "      <td>38509.529703</td>\n",
       "      <td>0.0</td>\n",
       "      <td>81.960396</td>\n",
       "      <td>131.103960</td>\n",
       "      <td>61.407921</td>\n",
       "      <td>0.103542</td>\n",
       "      <td>0.002368</td>\n",
       "      <td>27.008218</td>\n",
       "      <td>652827.476238</td>\n",
       "    </tr>\n",
       "    <tr>\n",
       "      <th>std</th>\n",
       "      <td>0.0</td>\n",
       "      <td>6080.093637</td>\n",
       "      <td>3566.692428</td>\n",
       "      <td>14266.768551</td>\n",
       "      <td>0.0</td>\n",
       "      <td>31.450788</td>\n",
       "      <td>47.500708</td>\n",
       "      <td>21.504648</td>\n",
       "      <td>0.003742</td>\n",
       "      <td>0.005175</td>\n",
       "      <td>58.954157</td>\n",
       "      <td>1283.696971</td>\n",
       "    </tr>\n",
       "    <tr>\n",
       "      <th>min</th>\n",
       "      <td>1.0</td>\n",
       "      <td>1241.000000</td>\n",
       "      <td>758.000000</td>\n",
       "      <td>3032.000000</td>\n",
       "      <td>0.0</td>\n",
       "      <td>6.000000</td>\n",
       "      <td>11.000000</td>\n",
       "      <td>6.000000</td>\n",
       "      <td>0.089971</td>\n",
       "      <td>0.000021</td>\n",
       "      <td>2.200000</td>\n",
       "      <td>650734.000000</td>\n",
       "    </tr>\n",
       "    <tr>\n",
       "      <th>25%</th>\n",
       "      <td>1.0</td>\n",
       "      <td>11389.500000</td>\n",
       "      <td>6794.000000</td>\n",
       "      <td>27176.000000</td>\n",
       "      <td>0.0</td>\n",
       "      <td>57.000000</td>\n",
       "      <td>93.250000</td>\n",
       "      <td>45.000000</td>\n",
       "      <td>0.102931</td>\n",
       "      <td>0.000205</td>\n",
       "      <td>2.300000</td>\n",
       "      <td>651714.000000</td>\n",
       "    </tr>\n",
       "    <tr>\n",
       "      <th>50%</th>\n",
       "      <td>1.0</td>\n",
       "      <td>15951.500000</td>\n",
       "      <td>9583.500000</td>\n",
       "      <td>38332.500000</td>\n",
       "      <td>0.0</td>\n",
       "      <td>80.000000</td>\n",
       "      <td>131.000000</td>\n",
       "      <td>61.500000</td>\n",
       "      <td>0.103698</td>\n",
       "      <td>0.000334</td>\n",
       "      <td>3.400000</td>\n",
       "      <td>652789.000000</td>\n",
       "    </tr>\n",
       "    <tr>\n",
       "      <th>75%</th>\n",
       "      <td>1.0</td>\n",
       "      <td>20827.750000</td>\n",
       "      <td>12333.750000</td>\n",
       "      <td>49332.750000</td>\n",
       "      <td>0.0</td>\n",
       "      <td>105.000000</td>\n",
       "      <td>167.000000</td>\n",
       "      <td>78.000000</td>\n",
       "      <td>0.105835</td>\n",
       "      <td>0.000741</td>\n",
       "      <td>6.150000</td>\n",
       "      <td>654060.000000</td>\n",
       "    </tr>\n",
       "    <tr>\n",
       "      <th>max</th>\n",
       "      <td>1.0</td>\n",
       "      <td>29015.000000</td>\n",
       "      <td>16818.000000</td>\n",
       "      <td>67271.000000</td>\n",
       "      <td>0.0</td>\n",
       "      <td>154.000000</td>\n",
       "      <td>242.000000</td>\n",
       "      <td>100.000000</td>\n",
       "      <td>0.108920</td>\n",
       "      <td>0.038244</td>\n",
       "      <td>333.200000</td>\n",
       "      <td>654928.000000</td>\n",
       "    </tr>\n",
       "  </tbody>\n",
       "</table>\n",
       "</div>"
      ],
      "text/plain": [
       "       version          size         vsize        weight  locktime  \\\n",
       "count   1010.0   1010.000000   1010.000000   1010.000000    1010.0   \n",
       "mean       1.0  16205.732673   9627.762376  38509.529703       0.0   \n",
       "std        0.0   6080.093637   3566.692428  14266.768551       0.0   \n",
       "min        1.0   1241.000000    758.000000   3032.000000       0.0   \n",
       "25%        1.0  11389.500000   6794.000000  27176.000000       0.0   \n",
       "50%        1.0  15951.500000   9583.500000  38332.500000       0.0   \n",
       "75%        1.0  20827.750000  12333.750000  49332.750000       0.0   \n",
       "max        1.0  29015.000000  16818.000000  67271.000000       0.0   \n",
       "\n",
       "              n_in        n_out         n_eq          den      abs_fee  \\\n",
       "count  1010.000000  1010.000000  1010.000000  1010.000000  1010.000000   \n",
       "mean     81.960396   131.103960    61.407921     0.103542     0.002368   \n",
       "std      31.450788    47.500708    21.504648     0.003742     0.005175   \n",
       "min       6.000000    11.000000     6.000000     0.089971     0.000021   \n",
       "25%      57.000000    93.250000    45.000000     0.102931     0.000205   \n",
       "50%      80.000000   131.000000    61.500000     0.103698     0.000334   \n",
       "75%     105.000000   167.000000    78.000000     0.105835     0.000741   \n",
       "max     154.000000   242.000000   100.000000     0.108920     0.038244   \n",
       "\n",
       "           rel_fee         height  \n",
       "count  1010.000000    1010.000000  \n",
       "mean     27.008218  652827.476238  \n",
       "std      58.954157    1283.696971  \n",
       "min       2.200000  650734.000000  \n",
       "25%       2.300000  651714.000000  \n",
       "50%       3.400000  652789.000000  \n",
       "75%       6.150000  654060.000000  \n",
       "max     333.200000  654928.000000  "
      ]
     },
     "execution_count": 4,
     "metadata": {},
     "output_type": "execute_result"
    }
   ],
   "source": [
    "obs.show_stats(txs)"
   ]
  },
  {
   "cell_type": "markdown",
   "metadata": {},
   "source": [
    "[Back to menu](#Menu)\n",
    "\n",
    "---"
   ]
  },
  {
   "cell_type": "markdown",
   "metadata": {},
   "source": [
    "## Transaction explorer"
   ]
  },
  {
   "cell_type": "markdown",
   "metadata": {},
   "source": [
    "Run the cell below to display information about single transactions.\n",
    "\n",
    "If you set `display_all = True` the result will include every input and every output.  \n",
    "If the transaction is huge, or you are looking at more than one transanction. this could be slow or even freeze your browser."
   ]
  },
  {
   "cell_type": "code",
   "execution_count": 5,
   "metadata": {},
   "outputs": [
    {
     "data": {
      "text/html": [
       "<div>\n",
       "<style scoped>\n",
       "    .dataframe tbody tr th:only-of-type {\n",
       "        vertical-align: middle;\n",
       "    }\n",
       "\n",
       "    .dataframe tbody tr th {\n",
       "        vertical-align: top;\n",
       "    }\n",
       "\n",
       "    .dataframe thead th {\n",
       "        text-align: right;\n",
       "    }\n",
       "</style>\n",
       "<table border=\"1\" class=\"dataframe\">\n",
       "  <thead>\n",
       "    <tr style=\"text-align: right;\">\n",
       "      <th></th>\n",
       "      <th>version</th>\n",
       "      <th>size</th>\n",
       "      <th>vsize</th>\n",
       "      <th>weight</th>\n",
       "      <th>locktime</th>\n",
       "      <th>n_in</th>\n",
       "      <th>n_out</th>\n",
       "      <th>n_eq</th>\n",
       "      <th>den</th>\n",
       "      <th>abs_fee</th>\n",
       "      <th>rel_fee</th>\n",
       "      <th>height</th>\n",
       "      <th>date</th>\n",
       "    </tr>\n",
       "    <tr>\n",
       "      <th>txid</th>\n",
       "      <th></th>\n",
       "      <th></th>\n",
       "      <th></th>\n",
       "      <th></th>\n",
       "      <th></th>\n",
       "      <th></th>\n",
       "      <th></th>\n",
       "      <th></th>\n",
       "      <th></th>\n",
       "      <th></th>\n",
       "      <th></th>\n",
       "      <th></th>\n",
       "      <th></th>\n",
       "    </tr>\n",
       "  </thead>\n",
       "  <tbody>\n",
       "    <tr>\n",
       "      <th>dabe570668e8ae8f972d66161c5fa17d64030b172d51502587d8bd59a45e77dd</th>\n",
       "      <td>1</td>\n",
       "      <td>26467</td>\n",
       "      <td>15231</td>\n",
       "      <td>60922</td>\n",
       "      <td>0</td>\n",
       "      <td>140</td>\n",
       "      <td>185</td>\n",
       "      <td>100</td>\n",
       "      <td>0.10864</td>\n",
       "      <td>0.011196</td>\n",
       "      <td>73.5</td>\n",
       "      <td>650734</td>\n",
       "      <td>2020-10-01 00:11:00</td>\n",
       "    </tr>\n",
       "  </tbody>\n",
       "</table>\n",
       "</div>"
      ],
      "text/plain": [
       "                                                                  version  \\\n",
       "txid                                                                        \n",
       "dabe570668e8ae8f972d66161c5fa17d64030b172d51502587d8bd59a45e77dd        1   \n",
       "\n",
       "                                                                   size  \\\n",
       "txid                                                                      \n",
       "dabe570668e8ae8f972d66161c5fa17d64030b172d51502587d8bd59a45e77dd  26467   \n",
       "\n",
       "                                                                  vsize  \\\n",
       "txid                                                                      \n",
       "dabe570668e8ae8f972d66161c5fa17d64030b172d51502587d8bd59a45e77dd  15231   \n",
       "\n",
       "                                                                  weight  \\\n",
       "txid                                                                       \n",
       "dabe570668e8ae8f972d66161c5fa17d64030b172d51502587d8bd59a45e77dd   60922   \n",
       "\n",
       "                                                                  locktime  \\\n",
       "txid                                                                         \n",
       "dabe570668e8ae8f972d66161c5fa17d64030b172d51502587d8bd59a45e77dd         0   \n",
       "\n",
       "                                                                  n_in  n_out  \\\n",
       "txid                                                                            \n",
       "dabe570668e8ae8f972d66161c5fa17d64030b172d51502587d8bd59a45e77dd   140    185   \n",
       "\n",
       "                                                                  n_eq  \\\n",
       "txid                                                                     \n",
       "dabe570668e8ae8f972d66161c5fa17d64030b172d51502587d8bd59a45e77dd   100   \n",
       "\n",
       "                                                                      den  \\\n",
       "txid                                                                        \n",
       "dabe570668e8ae8f972d66161c5fa17d64030b172d51502587d8bd59a45e77dd  0.10864   \n",
       "\n",
       "                                                                   abs_fee  \\\n",
       "txid                                                                         \n",
       "dabe570668e8ae8f972d66161c5fa17d64030b172d51502587d8bd59a45e77dd  0.011196   \n",
       "\n",
       "                                                                  rel_fee  \\\n",
       "txid                                                                        \n",
       "dabe570668e8ae8f972d66161c5fa17d64030b172d51502587d8bd59a45e77dd     73.5   \n",
       "\n",
       "                                                                  height  \\\n",
       "txid                                                                       \n",
       "dabe570668e8ae8f972d66161c5fa17d64030b172d51502587d8bd59a45e77dd  650734   \n",
       "\n",
       "                                                                                date  \n",
       "txid                                                                                  \n",
       "dabe570668e8ae8f972d66161c5fa17d64030b172d51502587d8bd59a45e77dd 2020-10-01 00:11:00  "
      ]
     },
     "metadata": {},
     "output_type": "display_data"
    },
    {
     "data": {
      "text/markdown": [
       "### Inputs"
      ]
     },
     "metadata": {},
     "output_type": "display_data"
    },
    {
     "data": {
      "text/html": [
       "<div>\n",
       "<style scoped>\n",
       "    .dataframe tbody tr th:only-of-type {\n",
       "        vertical-align: middle;\n",
       "    }\n",
       "\n",
       "    .dataframe tbody tr th {\n",
       "        vertical-align: top;\n",
       "    }\n",
       "\n",
       "    .dataframe thead th {\n",
       "        text-align: right;\n",
       "    }\n",
       "</style>\n",
       "<table border=\"1\" class=\"dataframe\">\n",
       "  <thead>\n",
       "    <tr style=\"text-align: right;\">\n",
       "      <th></th>\n",
       "      <th>txid</th>\n",
       "      <th>height</th>\n",
       "      <th>value</th>\n",
       "      <th>vout</th>\n",
       "      <th>addresses</th>\n",
       "      <th>type</th>\n",
       "      <th>available</th>\n",
       "    </tr>\n",
       "  </thead>\n",
       "  <tbody>\n",
       "    <tr>\n",
       "      <th>0</th>\n",
       "      <td>35b9e1cc51299b2c0f20444f4d467ab811c7c920c266ebbeec6e60364328f613</td>\n",
       "      <td>650623</td>\n",
       "      <td>0.000491</td>\n",
       "      <td>2</td>\n",
       "      <td>[bc1qhwc69npvxztl3e0y00qcty3cvsaplk54p39hq0]</td>\n",
       "      <td>witness_v0_keyhash</td>\n",
       "      <td>False</td>\n",
       "    </tr>\n",
       "    <tr>\n",
       "      <th>1</th>\n",
       "      <td>82e011d7502976c214efb535c85c1e52e5f3fd0ae87814c7f8caa24a19e4cc99</td>\n",
       "      <td>650370</td>\n",
       "      <td>0.000514</td>\n",
       "      <td>1</td>\n",
       "      <td>[bc1qxwum97efkas74k8ln8x3u06fa8t4dwudz8hm9v]</td>\n",
       "      <td>witness_v0_keyhash</td>\n",
       "      <td>False</td>\n",
       "    </tr>\n",
       "    <tr>\n",
       "      <th>2</th>\n",
       "      <td>6d95a4f9f05edf8ab560e4063b9842df87c94b25f52a6d4fae38a0fc3d0cc168</td>\n",
       "      <td>643286</td>\n",
       "      <td>0.000948</td>\n",
       "      <td>7</td>\n",
       "      <td>[bc1q7q6xn93jmp8hlcy5a04sznk84fd7huyhthqu49]</td>\n",
       "      <td>witness_v0_keyhash</td>\n",
       "      <td>False</td>\n",
       "    </tr>\n",
       "    <tr>\n",
       "      <th>3</th>\n",
       "      <td>802781479f0a3c473cfe9aedd7ea9b4662db1fc3b0fae48696d08b9ec4ca68e3</td>\n",
       "      <td>650584</td>\n",
       "      <td>0.000972</td>\n",
       "      <td>3</td>\n",
       "      <td>[bc1qwn82c8mrlz770g5n3smgdu28ss8fqkalqlc272]</td>\n",
       "      <td>witness_v0_keyhash</td>\n",
       "      <td>False</td>\n",
       "    </tr>\n",
       "    <tr>\n",
       "      <th>4</th>\n",
       "      <td>02f988c495cdd8aa2be295eb67033525234be7c85735e7d4ea08a016cd819b13</td>\n",
       "      <td>649441</td>\n",
       "      <td>0.001395</td>\n",
       "      <td>3</td>\n",
       "      <td>[bc1q79znrmaje3900k9mxl08gayt5cdeg28zw8nhv7]</td>\n",
       "      <td>witness_v0_keyhash</td>\n",
       "      <td>False</td>\n",
       "    </tr>\n",
       "    <tr>\n",
       "      <th>...</th>\n",
       "      <td>...</td>\n",
       "      <td>...</td>\n",
       "      <td>...</td>\n",
       "      <td>...</td>\n",
       "      <td>...</td>\n",
       "      <td>...</td>\n",
       "      <td>...</td>\n",
       "    </tr>\n",
       "    <tr>\n",
       "      <th>135</th>\n",
       "      <td>b444c6cd81b39fc1c9ef2342e95bc2af95b307aa45e28937bdb035838dcc8150</td>\n",
       "      <td>650678</td>\n",
       "      <td>0.508781</td>\n",
       "      <td>0</td>\n",
       "      <td>[bc1qkvjj0d4dg7ddnprndck0asa0f89yut9atlcqm0]</td>\n",
       "      <td>witness_v0_keyhash</td>\n",
       "      <td>False</td>\n",
       "    </tr>\n",
       "    <tr>\n",
       "      <th>136</th>\n",
       "      <td>82481d5bfc973049589ab399c8bd9234f1b4193d1e5c0bde387c573617c1d9ae</td>\n",
       "      <td>650734</td>\n",
       "      <td>0.673472</td>\n",
       "      <td>155</td>\n",
       "      <td>[bc1q9sjeqln4r9flhr0dv0h2eut3nqje056chknahj]</td>\n",
       "      <td>witness_v0_keyhash</td>\n",
       "      <td>True</td>\n",
       "    </tr>\n",
       "    <tr>\n",
       "      <th>137</th>\n",
       "      <td>82481d5bfc973049589ab399c8bd9234f1b4193d1e5c0bde387c573617c1d9ae</td>\n",
       "      <td>650734</td>\n",
       "      <td>0.731137</td>\n",
       "      <td>156</td>\n",
       "      <td>[bc1q2y44u2zrt065a9fqpxx83z0vqatxkkyrxgpnmc]</td>\n",
       "      <td>witness_v0_keyhash</td>\n",
       "      <td>True</td>\n",
       "    </tr>\n",
       "    <tr>\n",
       "      <th>138</th>\n",
       "      <td>2abbd684267cfc094e5336803a7a601f3887bfbcabbc82b9741a328e910ae9e6</td>\n",
       "      <td>650672</td>\n",
       "      <td>0.869156</td>\n",
       "      <td>121</td>\n",
       "      <td>[bc1qdvtqtup2nrtytv0jvkux384azuzd8m0ukz6r72]</td>\n",
       "      <td>witness_v0_keyhash</td>\n",
       "      <td>False</td>\n",
       "    </tr>\n",
       "    <tr>\n",
       "      <th>139</th>\n",
       "      <td>a66f7532d89dfad801f5e4018c4f100dcc463cdab1ed463a9b449bb0a01f4e00</td>\n",
       "      <td>650623</td>\n",
       "      <td>6.408376</td>\n",
       "      <td>111</td>\n",
       "      <td>[bc1q425wxy4rp4lut6ujygdqr2u0qdymuzav4z7qul]</td>\n",
       "      <td>witness_v0_keyhash</td>\n",
       "      <td>False</td>\n",
       "    </tr>\n",
       "  </tbody>\n",
       "</table>\n",
       "<p>140 rows × 7 columns</p>\n",
       "</div>"
      ],
      "text/plain": [
       "                                                                 txid  height  \\\n",
       "0    35b9e1cc51299b2c0f20444f4d467ab811c7c920c266ebbeec6e60364328f613  650623   \n",
       "1    82e011d7502976c214efb535c85c1e52e5f3fd0ae87814c7f8caa24a19e4cc99  650370   \n",
       "2    6d95a4f9f05edf8ab560e4063b9842df87c94b25f52a6d4fae38a0fc3d0cc168  643286   \n",
       "3    802781479f0a3c473cfe9aedd7ea9b4662db1fc3b0fae48696d08b9ec4ca68e3  650584   \n",
       "4    02f988c495cdd8aa2be295eb67033525234be7c85735e7d4ea08a016cd819b13  649441   \n",
       "..                                                                ...     ...   \n",
       "135  b444c6cd81b39fc1c9ef2342e95bc2af95b307aa45e28937bdb035838dcc8150  650678   \n",
       "136  82481d5bfc973049589ab399c8bd9234f1b4193d1e5c0bde387c573617c1d9ae  650734   \n",
       "137  82481d5bfc973049589ab399c8bd9234f1b4193d1e5c0bde387c573617c1d9ae  650734   \n",
       "138  2abbd684267cfc094e5336803a7a601f3887bfbcabbc82b9741a328e910ae9e6  650672   \n",
       "139  a66f7532d89dfad801f5e4018c4f100dcc463cdab1ed463a9b449bb0a01f4e00  650623   \n",
       "\n",
       "        value  vout                                     addresses  \\\n",
       "0    0.000491     2  [bc1qhwc69npvxztl3e0y00qcty3cvsaplk54p39hq0]   \n",
       "1    0.000514     1  [bc1qxwum97efkas74k8ln8x3u06fa8t4dwudz8hm9v]   \n",
       "2    0.000948     7  [bc1q7q6xn93jmp8hlcy5a04sznk84fd7huyhthqu49]   \n",
       "3    0.000972     3  [bc1qwn82c8mrlz770g5n3smgdu28ss8fqkalqlc272]   \n",
       "4    0.001395     3  [bc1q79znrmaje3900k9mxl08gayt5cdeg28zw8nhv7]   \n",
       "..        ...   ...                                           ...   \n",
       "135  0.508781     0  [bc1qkvjj0d4dg7ddnprndck0asa0f89yut9atlcqm0]   \n",
       "136  0.673472   155  [bc1q9sjeqln4r9flhr0dv0h2eut3nqje056chknahj]   \n",
       "137  0.731137   156  [bc1q2y44u2zrt065a9fqpxx83z0vqatxkkyrxgpnmc]   \n",
       "138  0.869156   121  [bc1qdvtqtup2nrtytv0jvkux384azuzd8m0ukz6r72]   \n",
       "139  6.408376   111  [bc1q425wxy4rp4lut6ujygdqr2u0qdymuzav4z7qul]   \n",
       "\n",
       "                   type  available  \n",
       "0    witness_v0_keyhash      False  \n",
       "1    witness_v0_keyhash      False  \n",
       "2    witness_v0_keyhash      False  \n",
       "3    witness_v0_keyhash      False  \n",
       "4    witness_v0_keyhash      False  \n",
       "..                  ...        ...  \n",
       "135  witness_v0_keyhash      False  \n",
       "136  witness_v0_keyhash       True  \n",
       "137  witness_v0_keyhash       True  \n",
       "138  witness_v0_keyhash      False  \n",
       "139  witness_v0_keyhash      False  \n",
       "\n",
       "[140 rows x 7 columns]"
      ]
     },
     "metadata": {},
     "output_type": "display_data"
    },
    {
     "data": {
      "text/markdown": [
       "### Outputs"
      ]
     },
     "metadata": {},
     "output_type": "display_data"
    },
    {
     "data": {
      "text/html": [
       "<div>\n",
       "<style scoped>\n",
       "    .dataframe tbody tr th:only-of-type {\n",
       "        vertical-align: middle;\n",
       "    }\n",
       "\n",
       "    .dataframe tbody tr th {\n",
       "        vertical-align: top;\n",
       "    }\n",
       "\n",
       "    .dataframe thead th {\n",
       "        text-align: right;\n",
       "    }\n",
       "</style>\n",
       "<table border=\"1\" class=\"dataframe\">\n",
       "  <thead>\n",
       "    <tr style=\"text-align: right;\">\n",
       "      <th></th>\n",
       "      <th>value</th>\n",
       "      <th>addresses</th>\n",
       "      <th>type</th>\n",
       "    </tr>\n",
       "    <tr>\n",
       "      <th>vout</th>\n",
       "      <th></th>\n",
       "      <th></th>\n",
       "      <th></th>\n",
       "    </tr>\n",
       "  </thead>\n",
       "  <tbody>\n",
       "    <tr>\n",
       "      <th>0</th>\n",
       "      <td>0.000385</td>\n",
       "      <td>[bc1q5f3ghn6jz78830kpsymysuhw05t4vtltlr4m26]</td>\n",
       "      <td>witness_v0_keyhash</td>\n",
       "    </tr>\n",
       "    <tr>\n",
       "      <th>1</th>\n",
       "      <td>0.000426</td>\n",
       "      <td>[bc1qxal5u2jc4jehx3duqa45thcqh0y08dljfcmlnv]</td>\n",
       "      <td>witness_v0_keyhash</td>\n",
       "    </tr>\n",
       "    <tr>\n",
       "      <th>2</th>\n",
       "      <td>0.000453</td>\n",
       "      <td>[bc1qgrpua5x9dvpqaj7ut227q6g3efm9yxm56kejex]</td>\n",
       "      <td>witness_v0_keyhash</td>\n",
       "    </tr>\n",
       "    <tr>\n",
       "      <th>3</th>\n",
       "      <td>0.000462</td>\n",
       "      <td>[bc1qqzrrvkaglppfe2pu50fs4wr8tsrt94hjnf00gy]</td>\n",
       "      <td>witness_v0_keyhash</td>\n",
       "    </tr>\n",
       "    <tr>\n",
       "      <th>4</th>\n",
       "      <td>0.000462</td>\n",
       "      <td>[bc1qg30rupfdgzazwnwdm6zr0y32736w3wh9ut4z23]</td>\n",
       "      <td>witness_v0_keyhash</td>\n",
       "    </tr>\n",
       "    <tr>\n",
       "      <th>...</th>\n",
       "      <td>...</td>\n",
       "      <td>...</td>\n",
       "      <td>...</td>\n",
       "    </tr>\n",
       "    <tr>\n",
       "      <th>180</th>\n",
       "      <td>0.347054</td>\n",
       "      <td>[bc1q8u72lv3na8k5qw2hszy80ul5clmv257a6r6s45]</td>\n",
       "      <td>witness_v0_keyhash</td>\n",
       "    </tr>\n",
       "    <tr>\n",
       "      <th>181</th>\n",
       "      <td>0.404719</td>\n",
       "      <td>[bc1qffvgggv2w35kezfphux068j604lh4sfjw8m4v9]</td>\n",
       "      <td>witness_v0_keyhash</td>\n",
       "    </tr>\n",
       "    <tr>\n",
       "      <th>182</th>\n",
       "      <td>0.434496</td>\n",
       "      <td>[bc1q0873pt7vtx9vyesjxefpp7hrj6x7zw33unmzjj]</td>\n",
       "      <td>witness_v0_keyhash</td>\n",
       "    </tr>\n",
       "    <tr>\n",
       "      <th>183</th>\n",
       "      <td>0.434496</td>\n",
       "      <td>[bc1qmxmqnjw9w3rg0drvw0gdtwgy5cfapdd8k8zxsl]</td>\n",
       "      <td>witness_v0_keyhash</td>\n",
       "    </tr>\n",
       "    <tr>\n",
       "      <th>184</th>\n",
       "      <td>5.647414</td>\n",
       "      <td>[bc1qgs8ytxrhe2zewccz3gerruy4hcdx7k5pm0n85d]</td>\n",
       "      <td>witness_v0_keyhash</td>\n",
       "    </tr>\n",
       "  </tbody>\n",
       "</table>\n",
       "<p>185 rows × 3 columns</p>\n",
       "</div>"
      ],
      "text/plain": [
       "         value                                     addresses  \\\n",
       "vout                                                           \n",
       "0     0.000385  [bc1q5f3ghn6jz78830kpsymysuhw05t4vtltlr4m26]   \n",
       "1     0.000426  [bc1qxal5u2jc4jehx3duqa45thcqh0y08dljfcmlnv]   \n",
       "2     0.000453  [bc1qgrpua5x9dvpqaj7ut227q6g3efm9yxm56kejex]   \n",
       "3     0.000462  [bc1qqzrrvkaglppfe2pu50fs4wr8tsrt94hjnf00gy]   \n",
       "4     0.000462  [bc1qg30rupfdgzazwnwdm6zr0y32736w3wh9ut4z23]   \n",
       "...        ...                                           ...   \n",
       "180   0.347054  [bc1q8u72lv3na8k5qw2hszy80ul5clmv257a6r6s45]   \n",
       "181   0.404719  [bc1qffvgggv2w35kezfphux068j604lh4sfjw8m4v9]   \n",
       "182   0.434496  [bc1q0873pt7vtx9vyesjxefpp7hrj6x7zw33unmzjj]   \n",
       "183   0.434496  [bc1qmxmqnjw9w3rg0drvw0gdtwgy5cfapdd8k8zxsl]   \n",
       "184   5.647414  [bc1qgs8ytxrhe2zewccz3gerruy4hcdx7k5pm0n85d]   \n",
       "\n",
       "                    type  \n",
       "vout                      \n",
       "0     witness_v0_keyhash  \n",
       "1     witness_v0_keyhash  \n",
       "2     witness_v0_keyhash  \n",
       "3     witness_v0_keyhash  \n",
       "4     witness_v0_keyhash  \n",
       "...                  ...  \n",
       "180   witness_v0_keyhash  \n",
       "181   witness_v0_keyhash  \n",
       "182   witness_v0_keyhash  \n",
       "183   witness_v0_keyhash  \n",
       "184   witness_v0_keyhash  \n",
       "\n",
       "[185 rows x 3 columns]"
      ]
     },
     "metadata": {},
     "output_type": "display_data"
    }
   ],
   "source": [
    "### INSERT HERE ###\n",
    "txid = 'dabe570668e8ae8f972d66161c5fa17d64030b172d51502587d8bd59a45e77dd'\n",
    "display_all = False\n",
    "\n",
    "obs.show_tx(txs, txid, display_all)"
   ]
  },
  {
   "cell_type": "markdown",
   "metadata": {},
   "source": [
    "[Back to menu](#Menu)\n",
    "\n",
    "---"
   ]
  },
  {
   "cell_type": "markdown",
   "metadata": {},
   "source": [
    "## Plot"
   ]
  },
  {
   "cell_type": "markdown",
   "metadata": {},
   "source": [
    "Run the cell below to plot the desired `column`.\n",
    "\n",
    "If you give it a `filepath`, the result graph will be saved."
   ]
  },
  {
   "cell_type": "code",
   "execution_count": 6,
   "metadata": {},
   "outputs": [
    {
     "data": {
      "image/png": "[encoded data removed]",
      "text/plain": [
       "<Figure size 1440x720 with 1 Axes>"
      ]
     },
     "metadata": {},
     "output_type": "display_data"
    }
   ],
   "source": [
    "### INSERT HERE ###\n",
    "column = 'n_eq'\n",
    "filepath = ''\n",
    "\n",
    "obs.show_graph(txs, column, filepath)"
   ]
  },
  {
   "cell_type": "markdown",
   "metadata": {},
   "source": [
    "[Back to menu](#Menu)\n",
    "\n",
    "---"
   ]
  },
  {
   "cell_type": "markdown",
   "metadata": {},
   "source": [
    "## Volume"
   ]
  },
  {
   "cell_type": "markdown",
   "metadata": {},
   "source": [
    "Run the cell below to show the volume graph.\n",
    "\n",
    "If you give it a filepath, the result graph will be saved."
   ]
  },
  {
   "cell_type": "code",
   "execution_count": 7,
   "metadata": {},
   "outputs": [
    {
     "data": {
      "text/markdown": [
       "**Input** volume: 24401.38189393"
      ]
     },
     "metadata": {},
     "output_type": "display_data"
    },
    {
     "data": {
      "text/markdown": [
       "**Equal output** volume: 14460.76458106"
      ]
     },
     "metadata": {},
     "output_type": "display_data"
    },
    {
     "data": {
      "image/png": "[encoded data removed]",
      "text/plain": [
       "<Figure size 1440x720 with 1 Axes>"
      ]
     },
     "metadata": {},
     "output_type": "display_data"
    }
   ],
   "source": [
    "filepath = ''\n",
    "\n",
    "obs.show_volume(txs, filepath)"
   ]
  },
  {
   "cell_type": "markdown",
   "metadata": {},
   "source": [
    "[Back to menu](#Menu)\n",
    "\n",
    "---"
   ]
  },
  {
   "cell_type": "markdown",
   "metadata": {},
   "source": [
    "## Daily"
   ]
  },
  {
   "cell_type": "markdown",
   "metadata": {},
   "source": [
    "Run the cell below to show the transanctions per day graph.\n",
    "\n",
    "If you give it a filepath, the result graph will be saved."
   ]
  },
  {
   "cell_type": "code",
   "execution_count": 8,
   "metadata": {},
   "outputs": [
    {
     "data": {
      "text/markdown": [
       "**Average daily**: 33.7"
      ]
     },
     "metadata": {},
     "output_type": "display_data"
    },
    {
     "data": {
      "image/png": "[encoded data removed]",
      "text/plain": [
       "<Figure size 1440x720 with 1 Axes>"
      ]
     },
     "metadata": {},
     "output_type": "display_data"
    }
   ],
   "source": [
    "filepath = ''\n",
    "\n",
    "obs.show_daily(txs, filepath)"
   ]
  },
  {
   "cell_type": "markdown",
   "metadata": {},
   "source": [
    "[Back to menu](#Menu)\n",
    "\n",
    "---"
   ]
  },
  {
   "cell_type": "markdown",
   "metadata": {},
   "source": [
    "## Advanced creation"
   ]
  },
  {
   "cell_type": "markdown",
   "metadata": {},
   "source": [
    "Here you can create a dataframe using your own filters.  \n",
    "You can also pass more than one filter and every transaction that matches at least one of them will be included in the dataframe.\n",
    "**Each and every** criteria has to be satisfied in order for a transaction to match a filter.\n",
    "\n",
    "Valid criteria are:\n",
    "* **txid**\n",
    "    * e.g., `txid='mytxid'` will scan for transactions that include 'mytxid' in the txid.\n",
    "* **address**\n",
    "    * e.g., `addresses=['myaddress']` will scan for transactions that include 'myaddress' in at least one of the addresses. Accept multiple addresses (each and every of them has to be part in a transaction for the transaction to match the filter).\n",
    "* **in_type**\n",
    "    * e.g., `in_type='scripthash'` will scan for transactions that have all the inputs of type 'scripthash'.\n",
    "* **out_type**\n",
    "    * e.g., `out_type='scripthash'` will scan for transactions that have all the outputs of type 'scripthash'.\n",
    "* **version**\n",
    "    * e.g., `version=(minversion, maxversion)` will scan for transactions that have a version number between minversion and maxversion included.\n",
    "* **size**\n",
    "    * e.g., `size=(minsize, maxsize)` will scan for transactions that have a size between minsize and maxsize included.\n",
    "* **vsize**\n",
    "    * e.g., `vsize=(minvsize, maxvsize)` will scan for transactions that have a virtual size between minvsize and maxvsize included.\n",
    "* **weight**\n",
    "    * e.g., `weight=(minweight, maxweight)` will scan for transactions that have a weight between minweight and maxweight included.\n",
    "* **locktime**\n",
    "    * e.g., `locktime=(minlocktime, maxlocktime)` will scan for transactions that have a locktime between minlocktime and maxlocktime included.\n",
    "* **n_in**\n",
    "    * e.g., `n_in=(minn_in, maxn_in)` will scan for transactions that have a number of inputs between minn_in and maxn_in included.\n",
    "* **n_out**\n",
    "    * e.g., `n_out=(minn_out, maxn_out)` will scan for transactions that have a number of outputs between minn_out and maxn_out included.\n",
    "* **n_eq**\n",
    "    * e.g., `n_eq=(minn_eq, maxn_out)` will scan for transactions that have a number of equally sized outputs between minn_eq and maxn_out included.\n",
    "* **den**\n",
    "    * e.g., `den=(minden, maxden)` will scan for transactions that have a denomination between minden and maxden included.\n",
    "* **abs_fee**\n",
    "    * e.g., `abs_fee=(minabs_fee, maxabs_fee)` will scan for transactions that have an absolute fee between minabs_fee and maxabs_fee included.\n",
    "* **rel_fee**\n",
    "    * e.g., `rel_fee=(minrel_fee, maxrel_fee)` will scan for transactions that have a relative fee between minrel_fee and maxrel_fee included.\n",
    "* **height**\n",
    "    * e.g., `height=(minheight, maxheight)` will scan for transactions that have a height between minheight and maxheight included.\n",
    "* **date**\n",
    "    * e.g., `date=('2020-09-18', '2020-09-19 19:00')` will scan for transactions that have a date between mindate and maxdate included.      \n",
    "    \n",
    "You can also pass arbitrary callables as long as they accept a Tx object as parameter and return True or False.  \n",
    "e.g., `callables=[mycallable]`\n",
    "\n",
    "Here's how a filter that searches for transactions that pay more than 100 sat/vbyte and have just 1 input and 1 output would look like.\n",
    "\n",
    "`tx_filter = filters.TxFilter(n_in=(1, 1), n_out=(1, 1), rel_fee=(100, 100000))`"
   ]
  },
  {
   "cell_type": "code",
   "execution_count": null,
   "metadata": {},
   "outputs": [],
   "source": [
    "import observatory as obs\n",
    "import advanced.filters as filters\n",
    "\n",
    "\n",
    "### INSERT HERE ###\n",
    "start = -10\n",
    "end = 0\n",
    "tx_filter = filters.TxFilter(n_in=(1, 1), n_out=(1, 1), rel_fee=(100, 100000))\n",
    "\n",
    "\n",
    "txs = await obs.create_dataframe(start, end, tx_filter)"
   ]
  },
  {
   "cell_type": "markdown",
   "metadata": {},
   "source": [
    "[Back to menu](#Menu)\n",
    "\n",
    "---"
   ]
  }
 ],
 "metadata": {
  "kernelspec": {
   "display_name": "Python 3",
   "language": "python",
   "name": "python3"
  },
  "language_info": {
   "codemirror_mode": {
    "name": "ipython",
    "version": 3
   },
   "file_extension": ".py",
   "mimetype": "text/x-python",
   "name": "python",
   "nbconvert_exporter": "python",
   "pygments_lexer": "ipython3",
   "version": "3.7.3"
  }
 },
 "nbformat": 4,
 "nbformat_minor": 4
}
