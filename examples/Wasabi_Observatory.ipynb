{
 "cells": [
  {
   "cell_type": "markdown",
   "metadata": {},
   "source": [
    "# Observatory"
   ]
  },
  {
   "cell_type": "markdown",
   "metadata": {},
   "source": [
    "## Menu"
   ]
  },
  {
   "cell_type": "markdown",
   "metadata": {},
   "source": [
    "**Setup**\n",
    "\n",
    "* [Create new dataframe](#Crate-new-dataframe)\n",
    "* [Save dataframe](#Save-dataframe)\n",
    "* [Load dataframe](#Load-existing-dataframe)\n",
    "\n",
    "**Analysis**\n",
    "\n",
    "* [Glimpse](#Glimpse)\n",
    "* [Stats](#Stats)\n",
    "* [Transaction explorer](#Transaction-explorer)\n",
    "* [Plot](#Plot)\n",
    "* [Volume](#Volume)\n",
    "* [Daily](#Daily)\n",
    "\n",
    "**Advanced**\n",
    "\n",
    "* [Advanced creation](#Advanced-creation)"
   ]
  },
  {
   "cell_type": "markdown",
   "metadata": {},
   "source": [
    "---"
   ]
  },
  {
   "cell_type": "markdown",
   "metadata": {},
   "source": [
    "## Create new dataframe"
   ]
  },
  {
   "cell_type": "markdown",
   "metadata": {},
   "source": [
    "Insert in the cell below the `start` block height and the `end` block height, select your desired filter and run it to create the dataframe.\n",
    "\n",
    "**Example:**\n",
    "  \n",
    "`start = 100`  \n",
    "`end = 200`  \n",
    "\n",
    "Will search for transactions between block 100 and block 200 included.\n",
    "\n",
    "You can also give **negative** values to `start` and this will scan the last chosen blocks **depending** on the `end` value.\n",
    "\n",
    "**Example:**\n",
    "\n",
    "`start = -10`  \n",
    "`end = 0`\n",
    "\n",
    "Will search for transactions in the last 10 blocks.\n",
    "\n",
    "**Example:**\n",
    "\n",
    "`start = -10`  \n",
    "`end = 5`\n",
    "\n",
    "Will search for transanction in 5 block starting from ten blocks ago."
   ]
  },
  {
   "cell_type": "code",
   "execution_count": 1,
   "metadata": {},
   "outputs": [
    {
     "name": "stderr",
     "output_type": "stream",
     "text": [
      "4466it [12:20,  6.44it/s]\n"
     ]
    },
    {
     "data": {
      "text/markdown": [
       "Created dataframe of **917** transactions in 740.84s"
      ]
     },
     "metadata": {},
     "output_type": "display_data"
    },
    {
     "data": {
      "text/markdown": [
       "[Save dataframe](#Save-dataframe)"
      ]
     },
     "metadata": {},
     "output_type": "display_data"
    },
    {
     "data": {
      "text/markdown": [
       "[Start analysis](#Glimpse)"
      ]
     },
     "metadata": {},
     "output_type": "display_data"
    }
   ],
   "source": [
    "import observatory as obs\n",
    "import advanced.filters as filters\n",
    "\n",
    "\n",
    "### INSERT HERE ###\n",
    "start = 654933\n",
    "end = 659398\n",
    "txid = ''\n",
    "address = ''\n",
    "\n",
    "\n",
    "### CHOOSE ONE OF THE FILTERS BELOW BY REMOVING THE '#' IN FRONT OF IT ###\n",
    "#tx_filter = filters.TxFilter() # This will return every transaction\n",
    "#tx_filter = filters.CjTxFilter()\n",
    "tx_filter = filters.WasabiTxFilter()\n",
    "#tx_filter = filters.JoinmarketTxFilter()\n",
    "#tx_filter = filters.TxidTxFilter(txid) # If you pick me, don't forget to insert a 'txid' above.\n",
    "#tx_filter = filters.AddressTxFilter(address) # If you pick me, don't forget to insert an 'address' above.\n",
    "#tx_filter = filters.CoinbaseTxFilter()\n",
    "\n",
    "txs = await obs.create_dataframe(start, end, tx_filter)"
   ]
  },
  {
   "cell_type": "markdown",
   "metadata": {},
   "source": [
    "[Back to menu](#Menu)\n",
    "\n",
    "---"
   ]
  },
  {
   "cell_type": "markdown",
   "metadata": {},
   "source": [
    "## Save dataframe"
   ]
  },
  {
   "cell_type": "markdown",
   "metadata": {},
   "source": [
    "Insert the **filepath** where to save and run the cell.\n",
    "\n",
    "**Examples:**\n",
    "    \n",
    "`filepath = 'thisfilename'`  \n",
    "`filepath = '/home/thisfilename'`  \n",
    "`filepath = 'results/wasabi/thisfilename'`\n",
    "\n",
    "Will create a `thisfilename.ftr` file into the given filepath."
   ]
  },
  {
   "cell_type": "code",
   "execution_count": 2,
   "metadata": {},
   "outputs": [
    {
     "name": "stdout",
     "output_type": "stream",
     "text": [
      "Dataframe succesfully saved in 0.42s\n"
     ]
    }
   ],
   "source": [
    "### INSERT HERE ###\n",
    "filepath = 'results/Wasabi_txs_november'\n",
    "\n",
    "\n",
    "obs.save(filepath, txs)"
   ]
  },
  {
   "cell_type": "markdown",
   "metadata": {},
   "source": [
    "[Back to menu](#Menu)\n",
    "\n",
    "---"
   ]
  },
  {
   "cell_type": "markdown",
   "metadata": {},
   "source": [
    "## Load existing dataframe"
   ]
  },
  {
   "cell_type": "markdown",
   "metadata": {},
   "source": [
    "Insert the **filepath** of the dataframe to load and run the cell.\n",
    "\n",
    "**Examples:**\n",
    "    \n",
    "`filepath = 'thisfilename'`  \n",
    "`filepath = '/home/thisfilename'`  \n",
    "`filepath = 'results/mytxs/thisfilename'`\n",
    "\n",
    "Will load the `thisfilename.ftr` file from the given filepath."
   ]
  },
  {
   "cell_type": "code",
   "execution_count": null,
   "metadata": {},
   "outputs": [],
   "source": [
    "import observatory as obs\n",
    "\n",
    "\n",
    "### INSERT HERE ###\n",
    "filepath = 'results/mydataframe'\n",
    "\n",
    "\n",
    "txs = obs.load(filepath)"
   ]
  },
  {
   "cell_type": "markdown",
   "metadata": {},
   "source": [
    "[Back to menu](#Menu)\n",
    "\n",
    "---"
   ]
  },
  {
   "cell_type": "markdown",
   "metadata": {},
   "source": [
    "## Glimpse"
   ]
  },
  {
   "cell_type": "markdown",
   "metadata": {},
   "source": [
    "Run the cell below for a glimpse of the dataframe. \n",
    "\n",
    "You can change the `n_txs` value to specify how many transactions to display.  \n",
    "You can also give `n_txs` a **negative** value to display the last n transactions.\n",
    "\n",
    "You can insert the `sort_by` value to specify which column should give the ordering. e.g. 'n_eq', 'date', etc... Default is 'date'."
   ]
  },
  {
   "cell_type": "code",
   "execution_count": 2,
   "metadata": {},
   "outputs": [
    {
     "data": {
      "text/markdown": [
       "**917 total transactions**"
      ]
     },
     "metadata": {},
     "output_type": "display_data"
    },
    {
     "data": {
      "text/html": [
       "<div>\n",
       "<style scoped>\n",
       "    .dataframe tbody tr th:only-of-type {\n",
       "        vertical-align: middle;\n",
       "    }\n",
       "\n",
       "    .dataframe tbody tr th {\n",
       "        vertical-align: top;\n",
       "    }\n",
       "\n",
       "    .dataframe thead th {\n",
       "        text-align: right;\n",
       "    }\n",
       "</style>\n",
       "<table border=\"1\" class=\"dataframe\">\n",
       "  <thead>\n",
       "    <tr style=\"text-align: right;\">\n",
       "      <th></th>\n",
       "      <th>version</th>\n",
       "      <th>size</th>\n",
       "      <th>vsize</th>\n",
       "      <th>weight</th>\n",
       "      <th>locktime</th>\n",
       "      <th>n_in</th>\n",
       "      <th>n_out</th>\n",
       "      <th>n_eq</th>\n",
       "      <th>den</th>\n",
       "      <th>abs_fee</th>\n",
       "      <th>rel_fee</th>\n",
       "      <th>height</th>\n",
       "      <th>date</th>\n",
       "    </tr>\n",
       "    <tr>\n",
       "      <th>txid</th>\n",
       "      <th></th>\n",
       "      <th></th>\n",
       "      <th></th>\n",
       "      <th></th>\n",
       "      <th></th>\n",
       "      <th></th>\n",
       "      <th></th>\n",
       "      <th></th>\n",
       "      <th></th>\n",
       "      <th></th>\n",
       "      <th></th>\n",
       "      <th></th>\n",
       "      <th></th>\n",
       "    </tr>\n",
       "  </thead>\n",
       "  <tbody>\n",
       "    <tr>\n",
       "      <th>1c79f041672f69cf12ee056a0dec3ec738e2e01d80e98c04961472ce04bef5a9</th>\n",
       "      <td>1</td>\n",
       "      <td>14263</td>\n",
       "      <td>8485</td>\n",
       "      <td>33937</td>\n",
       "      <td>0</td>\n",
       "      <td>72</td>\n",
       "      <td>116</td>\n",
       "      <td>52</td>\n",
       "      <td>0.090128</td>\n",
       "      <td>0.005801</td>\n",
       "      <td>68.4</td>\n",
       "      <td>654938</td>\n",
       "      <td>2020-11-01 01:08:00</td>\n",
       "    </tr>\n",
       "    <tr>\n",
       "      <th>fff512541ca3c5de03b71a78b7817c17a36664b27800ee2b845ab71ae3572d40</th>\n",
       "      <td>1</td>\n",
       "      <td>15665</td>\n",
       "      <td>9244</td>\n",
       "      <td>36974</td>\n",
       "      <td>0</td>\n",
       "      <td>80</td>\n",
       "      <td>123</td>\n",
       "      <td>61</td>\n",
       "      <td>0.101639</td>\n",
       "      <td>0.000312</td>\n",
       "      <td>3.4</td>\n",
       "      <td>654938</td>\n",
       "      <td>2020-11-01 01:08:00</td>\n",
       "    </tr>\n",
       "    <tr>\n",
       "      <th>3c7761f5bc3a11db344625d8444828b662c755580989d3acb9ae6d6010079706</th>\n",
       "      <td>1</td>\n",
       "      <td>24552</td>\n",
       "      <td>14842</td>\n",
       "      <td>59367</td>\n",
       "      <td>0</td>\n",
       "      <td>121</td>\n",
       "      <td>214</td>\n",
       "      <td>90</td>\n",
       "      <td>0.089936</td>\n",
       "      <td>0.013584</td>\n",
       "      <td>91.5</td>\n",
       "      <td>654938</td>\n",
       "      <td>2020-11-01 01:08:00</td>\n",
       "    </tr>\n",
       "    <tr>\n",
       "      <th>7268c400e516dac4e974748f948c6883adb294525b0210767e23f189c3718e95</th>\n",
       "      <td>1</td>\n",
       "      <td>19551</td>\n",
       "      <td>11847</td>\n",
       "      <td>47385</td>\n",
       "      <td>0</td>\n",
       "      <td>96</td>\n",
       "      <td>172</td>\n",
       "      <td>76</td>\n",
       "      <td>0.089919</td>\n",
       "      <td>0.008061</td>\n",
       "      <td>68.0</td>\n",
       "      <td>654940</td>\n",
       "      <td>2020-11-01 01:58:00</td>\n",
       "    </tr>\n",
       "    <tr>\n",
       "      <th>7285c61da4a28c95fe1dad2d74485412117c50fbd7c1b36ff2cb207db69e47c4</th>\n",
       "      <td>1</td>\n",
       "      <td>17702</td>\n",
       "      <td>10479</td>\n",
       "      <td>41915</td>\n",
       "      <td>0</td>\n",
       "      <td>90</td>\n",
       "      <td>141</td>\n",
       "      <td>65</td>\n",
       "      <td>0.089874</td>\n",
       "      <td>0.009645</td>\n",
       "      <td>92.0</td>\n",
       "      <td>654940</td>\n",
       "      <td>2020-11-01 01:58:00</td>\n",
       "    </tr>\n",
       "    <tr>\n",
       "      <th>e8aad4317f1f57b521dbf575de618565670a8ae6e600b12c6e97e30209af0281</th>\n",
       "      <td>1</td>\n",
       "      <td>18426</td>\n",
       "      <td>10962</td>\n",
       "      <td>43845</td>\n",
       "      <td>0</td>\n",
       "      <td>93</td>\n",
       "      <td>150</td>\n",
       "      <td>67</td>\n",
       "      <td>0.089932</td>\n",
       "      <td>0.007495</td>\n",
       "      <td>68.4</td>\n",
       "      <td>654948</td>\n",
       "      <td>2020-11-01 03:26:00</td>\n",
       "    </tr>\n",
       "    <tr>\n",
       "      <th>425b19c2aac30b9f6bd52e8f6eee1f390cff927eb4bbf4113735cfaec71e328e</th>\n",
       "      <td>1</td>\n",
       "      <td>14987</td>\n",
       "      <td>8967</td>\n",
       "      <td>35867</td>\n",
       "      <td>0</td>\n",
       "      <td>75</td>\n",
       "      <td>125</td>\n",
       "      <td>56</td>\n",
       "      <td>0.089856</td>\n",
       "      <td>0.006824</td>\n",
       "      <td>76.1</td>\n",
       "      <td>654948</td>\n",
       "      <td>2020-11-01 03:26:00</td>\n",
       "    </tr>\n",
       "    <tr>\n",
       "      <th>47bd9e886c334cd67c0faea89026853e4fa636d4cbf7f20808b93a885ba4c50b</th>\n",
       "      <td>1</td>\n",
       "      <td>13269</td>\n",
       "      <td>7811</td>\n",
       "      <td>31242</td>\n",
       "      <td>0</td>\n",
       "      <td>68</td>\n",
       "      <td>103</td>\n",
       "      <td>48</td>\n",
       "      <td>0.089932</td>\n",
       "      <td>0.005355</td>\n",
       "      <td>68.6</td>\n",
       "      <td>654952</td>\n",
       "      <td>2020-11-01 04:03:00</td>\n",
       "    </tr>\n",
       "    <tr>\n",
       "      <th>0e0fcf5bd58d0a7eaa163ed60202572e3e9fb1c2124d564fbb501f64137ee76f</th>\n",
       "      <td>1</td>\n",
       "      <td>10653</td>\n",
       "      <td>6479</td>\n",
       "      <td>25914</td>\n",
       "      <td>0</td>\n",
       "      <td>52</td>\n",
       "      <td>95</td>\n",
       "      <td>45</td>\n",
       "      <td>0.089815</td>\n",
       "      <td>0.004620</td>\n",
       "      <td>71.3</td>\n",
       "      <td>654953</td>\n",
       "      <td>2020-11-01 04:08:00</td>\n",
       "    </tr>\n",
       "    <tr>\n",
       "      <th>16c21abe46f943f8960aae8192e6449714c13095cdf1e2cdeb2e78dde8311da4</th>\n",
       "      <td>1</td>\n",
       "      <td>14247</td>\n",
       "      <td>8628</td>\n",
       "      <td>34512</td>\n",
       "      <td>0</td>\n",
       "      <td>70</td>\n",
       "      <td>125</td>\n",
       "      <td>57</td>\n",
       "      <td>0.089829</td>\n",
       "      <td>0.005871</td>\n",
       "      <td>68.0</td>\n",
       "      <td>654962</td>\n",
       "      <td>2020-11-01 05:31:00</td>\n",
       "    </tr>\n",
       "  </tbody>\n",
       "</table>\n",
       "</div>"
      ],
      "text/plain": [
       "                                                    version   size  vsize  \\\n",
       "txid                                                                        \n",
       "1c79f041672f69cf12ee056a0dec3ec738e2e01d80e98c0...        1  14263   8485   \n",
       "fff512541ca3c5de03b71a78b7817c17a36664b27800ee2...        1  15665   9244   \n",
       "3c7761f5bc3a11db344625d8444828b662c755580989d3a...        1  24552  14842   \n",
       "7268c400e516dac4e974748f948c6883adb294525b02107...        1  19551  11847   \n",
       "7285c61da4a28c95fe1dad2d74485412117c50fbd7c1b36...        1  17702  10479   \n",
       "e8aad4317f1f57b521dbf575de618565670a8ae6e600b12...        1  18426  10962   \n",
       "425b19c2aac30b9f6bd52e8f6eee1f390cff927eb4bbf41...        1  14987   8967   \n",
       "47bd9e886c334cd67c0faea89026853e4fa636d4cbf7f20...        1  13269   7811   \n",
       "0e0fcf5bd58d0a7eaa163ed60202572e3e9fb1c2124d564...        1  10653   6479   \n",
       "16c21abe46f943f8960aae8192e6449714c13095cdf1e2c...        1  14247   8628   \n",
       "\n",
       "                                                    weight  locktime  n_in  \\\n",
       "txid                                                                         \n",
       "1c79f041672f69cf12ee056a0dec3ec738e2e01d80e98c0...   33937         0    72   \n",
       "fff512541ca3c5de03b71a78b7817c17a36664b27800ee2...   36974         0    80   \n",
       "3c7761f5bc3a11db344625d8444828b662c755580989d3a...   59367         0   121   \n",
       "7268c400e516dac4e974748f948c6883adb294525b02107...   47385         0    96   \n",
       "7285c61da4a28c95fe1dad2d74485412117c50fbd7c1b36...   41915         0    90   \n",
       "e8aad4317f1f57b521dbf575de618565670a8ae6e600b12...   43845         0    93   \n",
       "425b19c2aac30b9f6bd52e8f6eee1f390cff927eb4bbf41...   35867         0    75   \n",
       "47bd9e886c334cd67c0faea89026853e4fa636d4cbf7f20...   31242         0    68   \n",
       "0e0fcf5bd58d0a7eaa163ed60202572e3e9fb1c2124d564...   25914         0    52   \n",
       "16c21abe46f943f8960aae8192e6449714c13095cdf1e2c...   34512         0    70   \n",
       "\n",
       "                                                    n_out  n_eq       den  \\\n",
       "txid                                                                        \n",
       "1c79f041672f69cf12ee056a0dec3ec738e2e01d80e98c0...    116    52  0.090128   \n",
       "fff512541ca3c5de03b71a78b7817c17a36664b27800ee2...    123    61  0.101639   \n",
       "3c7761f5bc3a11db344625d8444828b662c755580989d3a...    214    90  0.089936   \n",
       "7268c400e516dac4e974748f948c6883adb294525b02107...    172    76  0.089919   \n",
       "7285c61da4a28c95fe1dad2d74485412117c50fbd7c1b36...    141    65  0.089874   \n",
       "e8aad4317f1f57b521dbf575de618565670a8ae6e600b12...    150    67  0.089932   \n",
       "425b19c2aac30b9f6bd52e8f6eee1f390cff927eb4bbf41...    125    56  0.089856   \n",
       "47bd9e886c334cd67c0faea89026853e4fa636d4cbf7f20...    103    48  0.089932   \n",
       "0e0fcf5bd58d0a7eaa163ed60202572e3e9fb1c2124d564...     95    45  0.089815   \n",
       "16c21abe46f943f8960aae8192e6449714c13095cdf1e2c...    125    57  0.089829   \n",
       "\n",
       "                                                     abs_fee  rel_fee  height  \\\n",
       "txid                                                                            \n",
       "1c79f041672f69cf12ee056a0dec3ec738e2e01d80e98c0...  0.005801     68.4  654938   \n",
       "fff512541ca3c5de03b71a78b7817c17a36664b27800ee2...  0.000312      3.4  654938   \n",
       "3c7761f5bc3a11db344625d8444828b662c755580989d3a...  0.013584     91.5  654938   \n",
       "7268c400e516dac4e974748f948c6883adb294525b02107...  0.008061     68.0  654940   \n",
       "7285c61da4a28c95fe1dad2d74485412117c50fbd7c1b36...  0.009645     92.0  654940   \n",
       "e8aad4317f1f57b521dbf575de618565670a8ae6e600b12...  0.007495     68.4  654948   \n",
       "425b19c2aac30b9f6bd52e8f6eee1f390cff927eb4bbf41...  0.006824     76.1  654948   \n",
       "47bd9e886c334cd67c0faea89026853e4fa636d4cbf7f20...  0.005355     68.6  654952   \n",
       "0e0fcf5bd58d0a7eaa163ed60202572e3e9fb1c2124d564...  0.004620     71.3  654953   \n",
       "16c21abe46f943f8960aae8192e6449714c13095cdf1e2c...  0.005871     68.0  654962   \n",
       "\n",
       "                                                                  date  \n",
       "txid                                                                    \n",
       "1c79f041672f69cf12ee056a0dec3ec738e2e01d80e98c0... 2020-11-01 01:08:00  \n",
       "fff512541ca3c5de03b71a78b7817c17a36664b27800ee2... 2020-11-01 01:08:00  \n",
       "3c7761f5bc3a11db344625d8444828b662c755580989d3a... 2020-11-01 01:08:00  \n",
       "7268c400e516dac4e974748f948c6883adb294525b02107... 2020-11-01 01:58:00  \n",
       "7285c61da4a28c95fe1dad2d74485412117c50fbd7c1b36... 2020-11-01 01:58:00  \n",
       "e8aad4317f1f57b521dbf575de618565670a8ae6e600b12... 2020-11-01 03:26:00  \n",
       "425b19c2aac30b9f6bd52e8f6eee1f390cff927eb4bbf41... 2020-11-01 03:26:00  \n",
       "47bd9e886c334cd67c0faea89026853e4fa636d4cbf7f20... 2020-11-01 04:03:00  \n",
       "0e0fcf5bd58d0a7eaa163ed60202572e3e9fb1c2124d564... 2020-11-01 04:08:00  \n",
       "16c21abe46f943f8960aae8192e6449714c13095cdf1e2c... 2020-11-01 05:31:00  "
      ]
     },
     "metadata": {},
     "output_type": "display_data"
    }
   ],
   "source": [
    "### INSERT HERE ###\n",
    "n_txs = 10\n",
    "sort_by = ''\n",
    "\n",
    "\n",
    "obs.show_intro(txs, n_txs, sort_by)"
   ]
  },
  {
   "cell_type": "markdown",
   "metadata": {},
   "source": [
    "[Back to menu](#Menu)\n",
    "\n",
    "---"
   ]
  },
  {
   "cell_type": "markdown",
   "metadata": {},
   "source": [
    "## Stats"
   ]
  },
  {
   "cell_type": "markdown",
   "metadata": {},
   "source": [
    "Run the cell below for a list of statistics about the dataframe."
   ]
  },
  {
   "cell_type": "code",
   "execution_count": 3,
   "metadata": {},
   "outputs": [
    {
     "data": {
      "text/html": [
       "<div>\n",
       "<style scoped>\n",
       "    .dataframe tbody tr th:only-of-type {\n",
       "        vertical-align: middle;\n",
       "    }\n",
       "\n",
       "    .dataframe tbody tr th {\n",
       "        vertical-align: top;\n",
       "    }\n",
       "\n",
       "    .dataframe thead th {\n",
       "        text-align: right;\n",
       "    }\n",
       "</style>\n",
       "<table border=\"1\" class=\"dataframe\">\n",
       "  <thead>\n",
       "    <tr style=\"text-align: right;\">\n",
       "      <th></th>\n",
       "      <th>version</th>\n",
       "      <th>size</th>\n",
       "      <th>vsize</th>\n",
       "      <th>weight</th>\n",
       "      <th>locktime</th>\n",
       "      <th>n_in</th>\n",
       "      <th>n_out</th>\n",
       "      <th>n_eq</th>\n",
       "      <th>den</th>\n",
       "      <th>abs_fee</th>\n",
       "      <th>rel_fee</th>\n",
       "      <th>height</th>\n",
       "    </tr>\n",
       "  </thead>\n",
       "  <tbody>\n",
       "    <tr>\n",
       "      <th>count</th>\n",
       "      <td>917.000000</td>\n",
       "      <td>917.000000</td>\n",
       "      <td>917.000000</td>\n",
       "      <td>917.000000</td>\n",
       "      <td>917.000000</td>\n",
       "      <td>917.000000</td>\n",
       "      <td>917.000000</td>\n",
       "      <td>917.000000</td>\n",
       "      <td>917.000000</td>\n",
       "      <td>917.000000</td>\n",
       "      <td>917.000000</td>\n",
       "      <td>917.000000</td>\n",
       "    </tr>\n",
       "    <tr>\n",
       "      <th>mean</th>\n",
       "      <td>1.003272</td>\n",
       "      <td>18412.861505</td>\n",
       "      <td>10933.093784</td>\n",
       "      <td>43730.826609</td>\n",
       "      <td>1437.649945</td>\n",
       "      <td>93.198473</td>\n",
       "      <td>148.651036</td>\n",
       "      <td>69.009815</td>\n",
       "      <td>0.099931</td>\n",
       "      <td>0.002206</td>\n",
       "      <td>21.299564</td>\n",
       "      <td>657081.412214</td>\n",
       "    </tr>\n",
       "    <tr>\n",
       "      <th>std</th>\n",
       "      <td>0.057135</td>\n",
       "      <td>5079.917773</td>\n",
       "      <td>2981.295120</td>\n",
       "      <td>11925.180630</td>\n",
       "      <td>30767.034068</td>\n",
       "      <td>26.345162</td>\n",
       "      <td>40.340693</td>\n",
       "      <td>17.611185</td>\n",
       "      <td>0.003718</td>\n",
       "      <td>0.003812</td>\n",
       "      <td>37.729058</td>\n",
       "      <td>1307.265592</td>\n",
       "    </tr>\n",
       "    <tr>\n",
       "      <th>min</th>\n",
       "      <td>1.000000</td>\n",
       "      <td>1636.000000</td>\n",
       "      <td>988.000000</td>\n",
       "      <td>3952.000000</td>\n",
       "      <td>0.000000</td>\n",
       "      <td>8.000000</td>\n",
       "      <td>14.000000</td>\n",
       "      <td>7.000000</td>\n",
       "      <td>0.089040</td>\n",
       "      <td>0.000030</td>\n",
       "      <td>2.200000</td>\n",
       "      <td>654938.000000</td>\n",
       "    </tr>\n",
       "    <tr>\n",
       "      <th>25%</th>\n",
       "      <td>1.000000</td>\n",
       "      <td>15027.000000</td>\n",
       "      <td>8961.000000</td>\n",
       "      <td>35841.000000</td>\n",
       "      <td>0.000000</td>\n",
       "      <td>75.000000</td>\n",
       "      <td>123.000000</td>\n",
       "      <td>58.000000</td>\n",
       "      <td>0.098441</td>\n",
       "      <td>0.000347</td>\n",
       "      <td>3.400000</td>\n",
       "      <td>655921.000000</td>\n",
       "    </tr>\n",
       "    <tr>\n",
       "      <th>50%</th>\n",
       "      <td>1.000000</td>\n",
       "      <td>18287.000000</td>\n",
       "      <td>10812.000000</td>\n",
       "      <td>43247.000000</td>\n",
       "      <td>0.000000</td>\n",
       "      <td>92.000000</td>\n",
       "      <td>147.000000</td>\n",
       "      <td>68.000000</td>\n",
       "      <td>0.099856</td>\n",
       "      <td>0.000508</td>\n",
       "      <td>3.400000</td>\n",
       "      <td>656995.000000</td>\n",
       "    </tr>\n",
       "    <tr>\n",
       "      <th>75%</th>\n",
       "      <td>1.000000</td>\n",
       "      <td>22320.000000</td>\n",
       "      <td>13252.000000</td>\n",
       "      <td>53007.000000</td>\n",
       "      <td>0.000000</td>\n",
       "      <td>112.000000</td>\n",
       "      <td>178.000000</td>\n",
       "      <td>82.000000</td>\n",
       "      <td>0.101833</td>\n",
       "      <td>0.002811</td>\n",
       "      <td>27.900000</td>\n",
       "      <td>658208.000000</td>\n",
       "    </tr>\n",
       "    <tr>\n",
       "      <th>max</th>\n",
       "      <td>2.000000</td>\n",
       "      <td>29963.000000</td>\n",
       "      <td>17621.000000</td>\n",
       "      <td>70483.000000</td>\n",
       "      <td>659163.000000</td>\n",
       "      <td>156.000000</td>\n",
       "      <td>254.000000</td>\n",
       "      <td>100.000000</td>\n",
       "      <td>0.109963</td>\n",
       "      <td>0.036599</td>\n",
       "      <td>307.700000</td>\n",
       "      <td>659347.000000</td>\n",
       "    </tr>\n",
       "  </tbody>\n",
       "</table>\n",
       "</div>"
      ],
      "text/plain": [
       "          version          size         vsize        weight       locktime  \\\n",
       "count  917.000000    917.000000    917.000000    917.000000     917.000000   \n",
       "mean     1.003272  18412.861505  10933.093784  43730.826609    1437.649945   \n",
       "std      0.057135   5079.917773   2981.295120  11925.180630   30767.034068   \n",
       "min      1.000000   1636.000000    988.000000   3952.000000       0.000000   \n",
       "25%      1.000000  15027.000000   8961.000000  35841.000000       0.000000   \n",
       "50%      1.000000  18287.000000  10812.000000  43247.000000       0.000000   \n",
       "75%      1.000000  22320.000000  13252.000000  53007.000000       0.000000   \n",
       "max      2.000000  29963.000000  17621.000000  70483.000000  659163.000000   \n",
       "\n",
       "             n_in       n_out        n_eq         den     abs_fee     rel_fee  \\\n",
       "count  917.000000  917.000000  917.000000  917.000000  917.000000  917.000000   \n",
       "mean    93.198473  148.651036   69.009815    0.099931    0.002206   21.299564   \n",
       "std     26.345162   40.340693   17.611185    0.003718    0.003812   37.729058   \n",
       "min      8.000000   14.000000    7.000000    0.089040    0.000030    2.200000   \n",
       "25%     75.000000  123.000000   58.000000    0.098441    0.000347    3.400000   \n",
       "50%     92.000000  147.000000   68.000000    0.099856    0.000508    3.400000   \n",
       "75%    112.000000  178.000000   82.000000    0.101833    0.002811   27.900000   \n",
       "max    156.000000  254.000000  100.000000    0.109963    0.036599  307.700000   \n",
       "\n",
       "              height  \n",
       "count     917.000000  \n",
       "mean   657081.412214  \n",
       "std      1307.265592  \n",
       "min    654938.000000  \n",
       "25%    655921.000000  \n",
       "50%    656995.000000  \n",
       "75%    658208.000000  \n",
       "max    659347.000000  "
      ]
     },
     "execution_count": 3,
     "metadata": {},
     "output_type": "execute_result"
    }
   ],
   "source": [
    "obs.show_stats(txs)"
   ]
  },
  {
   "cell_type": "markdown",
   "metadata": {},
   "source": [
    "[Back to menu](#Menu)\n",
    "\n",
    "---"
   ]
  },
  {
   "cell_type": "markdown",
   "metadata": {},
   "source": [
    "## Transaction explorer"
   ]
  },
  {
   "cell_type": "markdown",
   "metadata": {},
   "source": [
    "Run the cell below to display information about single transactions.\n",
    "\n",
    "If you set `display_all = True` the result will include every input and every output.  \n",
    "If the transaction is huge, or you are looking at more than one transanction. this could be slow or even freeze your browser."
   ]
  },
  {
   "cell_type": "code",
   "execution_count": 4,
   "metadata": {},
   "outputs": [
    {
     "data": {
      "text/html": [
       "<div>\n",
       "<style scoped>\n",
       "    .dataframe tbody tr th:only-of-type {\n",
       "        vertical-align: middle;\n",
       "    }\n",
       "\n",
       "    .dataframe tbody tr th {\n",
       "        vertical-align: top;\n",
       "    }\n",
       "\n",
       "    .dataframe thead th {\n",
       "        text-align: right;\n",
       "    }\n",
       "</style>\n",
       "<table border=\"1\" class=\"dataframe\">\n",
       "  <thead>\n",
       "    <tr style=\"text-align: right;\">\n",
       "      <th></th>\n",
       "      <th>version</th>\n",
       "      <th>size</th>\n",
       "      <th>vsize</th>\n",
       "      <th>weight</th>\n",
       "      <th>locktime</th>\n",
       "      <th>n_in</th>\n",
       "      <th>n_out</th>\n",
       "      <th>n_eq</th>\n",
       "      <th>den</th>\n",
       "      <th>abs_fee</th>\n",
       "      <th>rel_fee</th>\n",
       "      <th>height</th>\n",
       "      <th>date</th>\n",
       "    </tr>\n",
       "    <tr>\n",
       "      <th>txid</th>\n",
       "      <th></th>\n",
       "      <th></th>\n",
       "      <th></th>\n",
       "      <th></th>\n",
       "      <th></th>\n",
       "      <th></th>\n",
       "      <th></th>\n",
       "      <th></th>\n",
       "      <th></th>\n",
       "      <th></th>\n",
       "      <th></th>\n",
       "      <th></th>\n",
       "      <th></th>\n",
       "    </tr>\n",
       "  </thead>\n",
       "  <tbody>\n",
       "    <tr>\n",
       "      <th>3c7761f5bc3a11db344625d8444828b662c755580989d3acb9ae6d6010079706</th>\n",
       "      <td>1</td>\n",
       "      <td>24552</td>\n",
       "      <td>14842</td>\n",
       "      <td>59367</td>\n",
       "      <td>0</td>\n",
       "      <td>121</td>\n",
       "      <td>214</td>\n",
       "      <td>90</td>\n",
       "      <td>0.089936</td>\n",
       "      <td>0.013584</td>\n",
       "      <td>91.5</td>\n",
       "      <td>654938</td>\n",
       "      <td>2020-11-01 01:08:00</td>\n",
       "    </tr>\n",
       "  </tbody>\n",
       "</table>\n",
       "</div>"
      ],
      "text/plain": [
       "                                                                  version  \\\n",
       "txid                                                                        \n",
       "3c7761f5bc3a11db344625d8444828b662c755580989d3acb9ae6d6010079706        1   \n",
       "\n",
       "                                                                   size  \\\n",
       "txid                                                                      \n",
       "3c7761f5bc3a11db344625d8444828b662c755580989d3acb9ae6d6010079706  24552   \n",
       "\n",
       "                                                                  vsize  \\\n",
       "txid                                                                      \n",
       "3c7761f5bc3a11db344625d8444828b662c755580989d3acb9ae6d6010079706  14842   \n",
       "\n",
       "                                                                  weight  \\\n",
       "txid                                                                       \n",
       "3c7761f5bc3a11db344625d8444828b662c755580989d3acb9ae6d6010079706   59367   \n",
       "\n",
       "                                                                  locktime  \\\n",
       "txid                                                                         \n",
       "3c7761f5bc3a11db344625d8444828b662c755580989d3acb9ae6d6010079706         0   \n",
       "\n",
       "                                                                  n_in  n_out  \\\n",
       "txid                                                                            \n",
       "3c7761f5bc3a11db344625d8444828b662c755580989d3acb9ae6d6010079706   121    214   \n",
       "\n",
       "                                                                  n_eq  \\\n",
       "txid                                                                     \n",
       "3c7761f5bc3a11db344625d8444828b662c755580989d3acb9ae6d6010079706    90   \n",
       "\n",
       "                                                                       den  \\\n",
       "txid                                                                         \n",
       "3c7761f5bc3a11db344625d8444828b662c755580989d3acb9ae6d6010079706  0.089936   \n",
       "\n",
       "                                                                   abs_fee  \\\n",
       "txid                                                                         \n",
       "3c7761f5bc3a11db344625d8444828b662c755580989d3acb9ae6d6010079706  0.013584   \n",
       "\n",
       "                                                                  rel_fee  \\\n",
       "txid                                                                        \n",
       "3c7761f5bc3a11db344625d8444828b662c755580989d3acb9ae6d6010079706     91.5   \n",
       "\n",
       "                                                                  height  \\\n",
       "txid                                                                       \n",
       "3c7761f5bc3a11db344625d8444828b662c755580989d3acb9ae6d6010079706  654938   \n",
       "\n",
       "                                                                                date  \n",
       "txid                                                                                  \n",
       "3c7761f5bc3a11db344625d8444828b662c755580989d3acb9ae6d6010079706 2020-11-01 01:08:00  "
      ]
     },
     "metadata": {},
     "output_type": "display_data"
    },
    {
     "data": {
      "text/markdown": [
       "### Inputs"
      ]
     },
     "metadata": {},
     "output_type": "display_data"
    },
    {
     "data": {
      "text/html": [
       "<div>\n",
       "<style scoped>\n",
       "    .dataframe tbody tr th:only-of-type {\n",
       "        vertical-align: middle;\n",
       "    }\n",
       "\n",
       "    .dataframe tbody tr th {\n",
       "        vertical-align: top;\n",
       "    }\n",
       "\n",
       "    .dataframe thead th {\n",
       "        text-align: right;\n",
       "    }\n",
       "</style>\n",
       "<table border=\"1\" class=\"dataframe\">\n",
       "  <thead>\n",
       "    <tr style=\"text-align: right;\">\n",
       "      <th></th>\n",
       "      <th>txid</th>\n",
       "      <th>height</th>\n",
       "      <th>value</th>\n",
       "      <th>vout</th>\n",
       "      <th>addresses</th>\n",
       "      <th>type</th>\n",
       "      <th>available</th>\n",
       "    </tr>\n",
       "  </thead>\n",
       "  <tbody>\n",
       "    <tr>\n",
       "      <th>0</th>\n",
       "      <td>bd0f2f209ea2d1a889e7c18068b221c0b5f2d409d94be2a94ecc144798ddbbd4</td>\n",
       "      <td>654636</td>\n",
       "      <td>0.000465</td>\n",
       "      <td>1</td>\n",
       "      <td>[bc1q3zuffuc7n53xfqxsks75pmu9u2fn9ejvakgs35]</td>\n",
       "      <td>witness_v0_keyhash</td>\n",
       "      <td>False</td>\n",
       "    </tr>\n",
       "    <tr>\n",
       "      <th>1</th>\n",
       "      <td>71649de259d22aacbdf8312709a962d1b15712762f9caeaf90d2e538368c5a86</td>\n",
       "      <td>654149</td>\n",
       "      <td>0.000479</td>\n",
       "      <td>2</td>\n",
       "      <td>[bc1q7qqhxyclt42v6ls7z0ml2ttxyapz2ey0s4466p]</td>\n",
       "      <td>witness_v0_keyhash</td>\n",
       "      <td>False</td>\n",
       "    </tr>\n",
       "    <tr>\n",
       "      <th>2</th>\n",
       "      <td>fbcc3cd6beba5495452c0c600edd5a0f96fe3d4bc4f26bac48e97077f055f63e</td>\n",
       "      <td>654916</td>\n",
       "      <td>0.000573</td>\n",
       "      <td>3</td>\n",
       "      <td>[bc1qxu2l3dwr5rncfxxuasm79vs3q0gt9wfymshgz7]</td>\n",
       "      <td>witness_v0_keyhash</td>\n",
       "      <td>False</td>\n",
       "    </tr>\n",
       "    <tr>\n",
       "      <th>3</th>\n",
       "      <td>68d007f10256e7f87d7836b06d948001bb8f5fc59236050d61c45c435f1043ce</td>\n",
       "      <td>654720</td>\n",
       "      <td>0.000838</td>\n",
       "      <td>0</td>\n",
       "      <td>[bc1qlrp67s2d724gcmw949dvtz2hssqpzndt5a0w2n]</td>\n",
       "      <td>witness_v0_keyhash</td>\n",
       "      <td>False</td>\n",
       "    </tr>\n",
       "    <tr>\n",
       "      <th>4</th>\n",
       "      <td>cceaf430b5f5ff4acdb3e87584c2c7e3fb6ebf6c818c1785aa1369836fd1a28a</td>\n",
       "      <td>654924</td>\n",
       "      <td>0.000873</td>\n",
       "      <td>4</td>\n",
       "      <td>[bc1q8n7tcc9t34fzpmzzkn8q5yuqq2jphrdydum4xk]</td>\n",
       "      <td>witness_v0_keyhash</td>\n",
       "      <td>False</td>\n",
       "    </tr>\n",
       "    <tr>\n",
       "      <th>...</th>\n",
       "      <td>...</td>\n",
       "      <td>...</td>\n",
       "      <td>...</td>\n",
       "      <td>...</td>\n",
       "      <td>...</td>\n",
       "      <td>...</td>\n",
       "      <td>...</td>\n",
       "    </tr>\n",
       "    <tr>\n",
       "      <th>116</th>\n",
       "      <td>01e87efdac91272475636670e7e8a4f93d991e09dbfe9a778891cc10ad6bce50</td>\n",
       "      <td>654912</td>\n",
       "      <td>0.937853</td>\n",
       "      <td>0</td>\n",
       "      <td>[bc1qzyycwl05prpm8j52k6r3jrn4xqfhye0xmul8n7]</td>\n",
       "      <td>witness_v0_keyhash</td>\n",
       "      <td>False</td>\n",
       "    </tr>\n",
       "    <tr>\n",
       "      <th>117</th>\n",
       "      <td>e7fb17ba627aa59060fd63c133d06312f4d7139b5c843c28c4079cdb6dfff68e</td>\n",
       "      <td>654934</td>\n",
       "      <td>1.033958</td>\n",
       "      <td>0</td>\n",
       "      <td>[bc1qqegawv8qwvmppcsp6ns9rpvzrkruzkzkwhfn6x]</td>\n",
       "      <td>witness_v0_keyhash</td>\n",
       "      <td>False</td>\n",
       "    </tr>\n",
       "    <tr>\n",
       "      <th>118</th>\n",
       "      <td>a1032052d99508d30c2dae5c412c52a2671683a6f2a7b961f5fdc9cf31959f74</td>\n",
       "      <td>654933</td>\n",
       "      <td>1.879054</td>\n",
       "      <td>24</td>\n",
       "      <td>[bc1q9rhlrgdpm6wvq2vfms0lle7grat8z47tawku5q]</td>\n",
       "      <td>witness_v0_keyhash</td>\n",
       "      <td>False</td>\n",
       "    </tr>\n",
       "    <tr>\n",
       "      <th>119</th>\n",
       "      <td>f7643efde5bff4ad6f6f95975fe97eebe6a6cac5c0fa8f61655b80c6db28427f</td>\n",
       "      <td>654922</td>\n",
       "      <td>4.324324</td>\n",
       "      <td>0</td>\n",
       "      <td>[bc1q5csc209n5nkjaujpdnfp0qh0fcu8acscjagjdg]</td>\n",
       "      <td>witness_v0_keyhash</td>\n",
       "      <td>False</td>\n",
       "    </tr>\n",
       "    <tr>\n",
       "      <th>120</th>\n",
       "      <td>425227d80633493afb4b3504b78cffffdb9cde0305bb50e58386ede2c2bc79d3</td>\n",
       "      <td>654895</td>\n",
       "      <td>14.999251</td>\n",
       "      <td>0</td>\n",
       "      <td>[bc1q7rmct483hhcvgarf03sx44ykr4c66et82zj6yz]</td>\n",
       "      <td>witness_v0_keyhash</td>\n",
       "      <td>False</td>\n",
       "    </tr>\n",
       "  </tbody>\n",
       "</table>\n",
       "<p>121 rows × 7 columns</p>\n",
       "</div>"
      ],
      "text/plain": [
       "                                                                 txid  height  \\\n",
       "0    bd0f2f209ea2d1a889e7c18068b221c0b5f2d409d94be2a94ecc144798ddbbd4  654636   \n",
       "1    71649de259d22aacbdf8312709a962d1b15712762f9caeaf90d2e538368c5a86  654149   \n",
       "2    fbcc3cd6beba5495452c0c600edd5a0f96fe3d4bc4f26bac48e97077f055f63e  654916   \n",
       "3    68d007f10256e7f87d7836b06d948001bb8f5fc59236050d61c45c435f1043ce  654720   \n",
       "4    cceaf430b5f5ff4acdb3e87584c2c7e3fb6ebf6c818c1785aa1369836fd1a28a  654924   \n",
       "..                                                                ...     ...   \n",
       "116  01e87efdac91272475636670e7e8a4f93d991e09dbfe9a778891cc10ad6bce50  654912   \n",
       "117  e7fb17ba627aa59060fd63c133d06312f4d7139b5c843c28c4079cdb6dfff68e  654934   \n",
       "118  a1032052d99508d30c2dae5c412c52a2671683a6f2a7b961f5fdc9cf31959f74  654933   \n",
       "119  f7643efde5bff4ad6f6f95975fe97eebe6a6cac5c0fa8f61655b80c6db28427f  654922   \n",
       "120  425227d80633493afb4b3504b78cffffdb9cde0305bb50e58386ede2c2bc79d3  654895   \n",
       "\n",
       "         value  vout                                     addresses  \\\n",
       "0     0.000465     1  [bc1q3zuffuc7n53xfqxsks75pmu9u2fn9ejvakgs35]   \n",
       "1     0.000479     2  [bc1q7qqhxyclt42v6ls7z0ml2ttxyapz2ey0s4466p]   \n",
       "2     0.000573     3  [bc1qxu2l3dwr5rncfxxuasm79vs3q0gt9wfymshgz7]   \n",
       "3     0.000838     0  [bc1qlrp67s2d724gcmw949dvtz2hssqpzndt5a0w2n]   \n",
       "4     0.000873     4  [bc1q8n7tcc9t34fzpmzzkn8q5yuqq2jphrdydum4xk]   \n",
       "..         ...   ...                                           ...   \n",
       "116   0.937853     0  [bc1qzyycwl05prpm8j52k6r3jrn4xqfhye0xmul8n7]   \n",
       "117   1.033958     0  [bc1qqegawv8qwvmppcsp6ns9rpvzrkruzkzkwhfn6x]   \n",
       "118   1.879054    24  [bc1q9rhlrgdpm6wvq2vfms0lle7grat8z47tawku5q]   \n",
       "119   4.324324     0  [bc1q5csc209n5nkjaujpdnfp0qh0fcu8acscjagjdg]   \n",
       "120  14.999251     0  [bc1q7rmct483hhcvgarf03sx44ykr4c66et82zj6yz]   \n",
       "\n",
       "                   type  available  \n",
       "0    witness_v0_keyhash      False  \n",
       "1    witness_v0_keyhash      False  \n",
       "2    witness_v0_keyhash      False  \n",
       "3    witness_v0_keyhash      False  \n",
       "4    witness_v0_keyhash      False  \n",
       "..                  ...        ...  \n",
       "116  witness_v0_keyhash      False  \n",
       "117  witness_v0_keyhash      False  \n",
       "118  witness_v0_keyhash      False  \n",
       "119  witness_v0_keyhash      False  \n",
       "120  witness_v0_keyhash      False  \n",
       "\n",
       "[121 rows x 7 columns]"
      ]
     },
     "metadata": {},
     "output_type": "display_data"
    },
    {
     "data": {
      "text/markdown": [
       "### Outputs"
      ]
     },
     "metadata": {},
     "output_type": "display_data"
    },
    {
     "data": {
      "text/html": [
       "<div>\n",
       "<style scoped>\n",
       "    .dataframe tbody tr th:only-of-type {\n",
       "        vertical-align: middle;\n",
       "    }\n",
       "\n",
       "    .dataframe tbody tr th {\n",
       "        vertical-align: top;\n",
       "    }\n",
       "\n",
       "    .dataframe thead th {\n",
       "        text-align: right;\n",
       "    }\n",
       "</style>\n",
       "<table border=\"1\" class=\"dataframe\">\n",
       "  <thead>\n",
       "    <tr style=\"text-align: right;\">\n",
       "      <th></th>\n",
       "      <th>value</th>\n",
       "      <th>addresses</th>\n",
       "      <th>type</th>\n",
       "    </tr>\n",
       "    <tr>\n",
       "      <th>vout</th>\n",
       "      <th></th>\n",
       "      <th></th>\n",
       "      <th></th>\n",
       "    </tr>\n",
       "  </thead>\n",
       "  <tbody>\n",
       "    <tr>\n",
       "      <th>0</th>\n",
       "      <td>0.000423</td>\n",
       "      <td>[bc1qtjs0vhq5esvgzly4qva8ef7cj8es9hyn594t0y]</td>\n",
       "      <td>witness_v0_keyhash</td>\n",
       "    </tr>\n",
       "    <tr>\n",
       "      <th>1</th>\n",
       "      <td>0.000427</td>\n",
       "      <td>[bc1q4eylpyxec5mhdzn5qlq3cpkxmvejndzj6ttv2k]</td>\n",
       "      <td>witness_v0_keyhash</td>\n",
       "    </tr>\n",
       "    <tr>\n",
       "      <th>2</th>\n",
       "      <td>0.000597</td>\n",
       "      <td>[bc1qxqs0rjz834fy90s0sdy4pj0wp2cc3jnch868me]</td>\n",
       "      <td>witness_v0_keyhash</td>\n",
       "    </tr>\n",
       "    <tr>\n",
       "      <th>3</th>\n",
       "      <td>0.000698</td>\n",
       "      <td>[bc1qjzfsdzhtfj3kpkavljmx9v08x406u6nhfuafz3]</td>\n",
       "      <td>witness_v0_keyhash</td>\n",
       "    </tr>\n",
       "    <tr>\n",
       "      <th>4</th>\n",
       "      <td>0.000715</td>\n",
       "      <td>[bc1q77zhvm3xcywjaumj6e0l4rfhtt0ncnnp8eczs4]</td>\n",
       "      <td>witness_v0_keyhash</td>\n",
       "    </tr>\n",
       "    <tr>\n",
       "      <th>...</th>\n",
       "      <td>...</td>\n",
       "      <td>...</td>\n",
       "      <td>...</td>\n",
       "    </tr>\n",
       "    <tr>\n",
       "      <th>209</th>\n",
       "      <td>0.716332</td>\n",
       "      <td>[bc1q2w5wy7ru0sscz2cup2pug5wn66zg23x3tflwwy]</td>\n",
       "      <td>witness_v0_keyhash</td>\n",
       "    </tr>\n",
       "    <tr>\n",
       "      <th>210</th>\n",
       "      <td>1.432665</td>\n",
       "      <td>[bc1q2m3zypkjvqng7tvzwugg4rkzh53gsg556rr6tp]</td>\n",
       "      <td>witness_v0_keyhash</td>\n",
       "    </tr>\n",
       "    <tr>\n",
       "      <th>211</th>\n",
       "      <td>1.432665</td>\n",
       "      <td>[bc1qdd6gc0ev7yefzvlszspeyrnkhg4hghe7pdxnf4]</td>\n",
       "      <td>witness_v0_keyhash</td>\n",
       "    </tr>\n",
       "    <tr>\n",
       "      <th>212</th>\n",
       "      <td>1.547081</td>\n",
       "      <td>[bc1qj4fe7wjcuxwsccnp4cgauvmgd9a7npel2f7evj]</td>\n",
       "      <td>witness_v0_keyhash</td>\n",
       "    </tr>\n",
       "    <tr>\n",
       "      <th>213</th>\n",
       "      <td>12.222008</td>\n",
       "      <td>[bc1qkrh6hckkm7l6675lsrnw4llwuvtdyktnjxhl7y]</td>\n",
       "      <td>witness_v0_keyhash</td>\n",
       "    </tr>\n",
       "  </tbody>\n",
       "</table>\n",
       "<p>214 rows × 3 columns</p>\n",
       "</div>"
      ],
      "text/plain": [
       "          value                                     addresses  \\\n",
       "vout                                                            \n",
       "0      0.000423  [bc1qtjs0vhq5esvgzly4qva8ef7cj8es9hyn594t0y]   \n",
       "1      0.000427  [bc1q4eylpyxec5mhdzn5qlq3cpkxmvejndzj6ttv2k]   \n",
       "2      0.000597  [bc1qxqs0rjz834fy90s0sdy4pj0wp2cc3jnch868me]   \n",
       "3      0.000698  [bc1qjzfsdzhtfj3kpkavljmx9v08x406u6nhfuafz3]   \n",
       "4      0.000715  [bc1q77zhvm3xcywjaumj6e0l4rfhtt0ncnnp8eczs4]   \n",
       "...         ...                                           ...   \n",
       "209    0.716332  [bc1q2w5wy7ru0sscz2cup2pug5wn66zg23x3tflwwy]   \n",
       "210    1.432665  [bc1q2m3zypkjvqng7tvzwugg4rkzh53gsg556rr6tp]   \n",
       "211    1.432665  [bc1qdd6gc0ev7yefzvlszspeyrnkhg4hghe7pdxnf4]   \n",
       "212    1.547081  [bc1qj4fe7wjcuxwsccnp4cgauvmgd9a7npel2f7evj]   \n",
       "213   12.222008  [bc1qkrh6hckkm7l6675lsrnw4llwuvtdyktnjxhl7y]   \n",
       "\n",
       "                    type  \n",
       "vout                      \n",
       "0     witness_v0_keyhash  \n",
       "1     witness_v0_keyhash  \n",
       "2     witness_v0_keyhash  \n",
       "3     witness_v0_keyhash  \n",
       "4     witness_v0_keyhash  \n",
       "...                  ...  \n",
       "209   witness_v0_keyhash  \n",
       "210   witness_v0_keyhash  \n",
       "211   witness_v0_keyhash  \n",
       "212   witness_v0_keyhash  \n",
       "213   witness_v0_keyhash  \n",
       "\n",
       "[214 rows x 3 columns]"
      ]
     },
     "metadata": {},
     "output_type": "display_data"
    }
   ],
   "source": [
    "### INSERT HERE ###\n",
    "txid = '3c7761f5bc3a11db344625d8444828b662c755580989d3acb9ae6d6010079706'\n",
    "display_all = False\n",
    "\n",
    "obs.show_tx(txs, txid, display_all)"
   ]
  },
  {
   "cell_type": "markdown",
   "metadata": {},
   "source": [
    "[Back to menu](#Menu)\n",
    "\n",
    "---"
   ]
  },
  {
   "cell_type": "markdown",
   "metadata": {},
   "source": [
    "## Plot"
   ]
  },
  {
   "cell_type": "markdown",
   "metadata": {},
   "source": [
    "Run the cell below to plot the desired `column`.\n",
    "\n",
    "If you give it a `filepath`, the result graph will be saved."
   ]
  },
  {
   "cell_type": "code",
   "execution_count": 5,
   "metadata": {},
   "outputs": [
    {
     "data": {
      "image/png": "[encoded data removed]",
      "text/plain": [
       "<Figure size 1440x720 with 1 Axes>"
      ]
     },
     "metadata": {},
     "output_type": "display_data"
    }
   ],
   "source": [
    "### INSERT HERE ###\n",
    "column = 'n_eq'\n",
    "filepath = ''\n",
    "\n",
    "obs.show_graph(txs, column, filepath)"
   ]
  },
  {
   "cell_type": "markdown",
   "metadata": {},
   "source": [
    "[Back to menu](#Menu)\n",
    "\n",
    "---"
   ]
  },
  {
   "cell_type": "markdown",
   "metadata": {},
   "source": [
    "## Volume"
   ]
  },
  {
   "cell_type": "markdown",
   "metadata": {},
   "source": [
    "Run the cell below to show the volume graph.\n",
    "\n",
    "If you give it a filepath, the result graph will be saved."
   ]
  },
  {
   "cell_type": "code",
   "execution_count": 6,
   "metadata": {},
   "outputs": [
    {
     "data": {
      "text/markdown": [
       "**Input** volume: 23603.77412538"
      ]
     },
     "metadata": {},
     "output_type": "display_data"
    },
    {
     "data": {
      "text/markdown": [
       "**Equal output** volume: 14669.83180276"
      ]
     },
     "metadata": {},
     "output_type": "display_data"
    },
    {
     "data": {
      "image/png": "[encoded data removed]",
      "text/plain": [
       "<Figure size 1440x720 with 1 Axes>"
      ]
     },
     "metadata": {},
     "output_type": "display_data"
    }
   ],
   "source": [
    "filepath = ''\n",
    "\n",
    "obs.show_volume(txs, filepath)"
   ]
  },
  {
   "cell_type": "markdown",
   "metadata": {},
   "source": [
    "[Back to menu](#Menu)\n",
    "\n",
    "---"
   ]
  },
  {
   "cell_type": "markdown",
   "metadata": {},
   "source": [
    "## Daily"
   ]
  },
  {
   "cell_type": "markdown",
   "metadata": {},
   "source": [
    "Run the cell below to show the transanctions per day graph.\n",
    "\n",
    "If you give it a filepath, the result graph will be saved."
   ]
  },
  {
   "cell_type": "code",
   "execution_count": 7,
   "metadata": {},
   "outputs": [
    {
     "data": {
      "text/markdown": [
       "**Average daily**: 30.6"
      ]
     },
     "metadata": {},
     "output_type": "display_data"
    },
    {
     "data": {
      "image/png": "[encoded data removed]",
      "text/plain": [
       "<Figure size 1440x720 with 1 Axes>"
      ]
     },
     "metadata": {},
     "output_type": "display_data"
    }
   ],
   "source": [
    "filepath = ''\n",
    "\n",
    "obs.show_daily(txs, filepath)"
   ]
  },
  {
   "cell_type": "markdown",
   "metadata": {},
   "source": [
    "[Back to menu](#Menu)\n",
    "\n",
    "---"
   ]
  },
  {
   "cell_type": "markdown",
   "metadata": {},
   "source": [
    "## Advanced creation"
   ]
  },
  {
   "cell_type": "markdown",
   "metadata": {},
   "source": [
    "Here you can create a dataframe using your own filters.  \n",
    "You can also pass more than one filter and every transaction that matches at least one of them will be included in the dataframe.\n",
    "**Each and every** criteria has to be satisfied in order for a transaction to match a filter.\n",
    "\n",
    "Valid criteria are:\n",
    "* **txid**\n",
    "    * e.g., `txid='mytxid'` will scan for transactions that include 'mytxid' in the txid.\n",
    "* **address**\n",
    "    * e.g., `addresses=['myaddress']` will scan for transactions that include 'myaddress' in at least one of the addresses. Accept multiple addresses (each and every of them has to be part in a transaction for the transaction to match the filter).\n",
    "* **in_type**\n",
    "    * e.g., `in_type='scripthash'` will scan for transactions that have all the inputs of type 'scripthash'.\n",
    "* **out_type**\n",
    "    * e.g., `out_type='scripthash'` will scan for transactions that have all the outputs of type 'scripthash'.\n",
    "* **version**\n",
    "    * e.g., `version=(minversion, maxversion)` will scan for transactions that have a version number between minversion and maxversion included.\n",
    "* **size**\n",
    "    * e.g., `size=(minsize, maxsize)` will scan for transactions that have a size between minsize and maxsize included.\n",
    "* **vsize**\n",
    "    * e.g., `vsize=(minvsize, maxvsize)` will scan for transactions that have a virtual size between minvsize and maxvsize included.\n",
    "* **weight**\n",
    "    * e.g., `weight=(minweight, maxweight)` will scan for transactions that have a weight between minweight and maxweight included.\n",
    "* **locktime**\n",
    "    * e.g., `locktime=(minlocktime, maxlocktime)` will scan for transactions that have a locktime between minlocktime and maxlocktime included.\n",
    "* **n_in**\n",
    "    * e.g., `n_in=(minn_in, maxn_in)` will scan for transactions that have a number of inputs between minn_in and maxn_in included.\n",
    "* **n_out**\n",
    "    * e.g., `n_out=(minn_out, maxn_out)` will scan for transactions that have a number of outputs between minn_out and maxn_out included.\n",
    "* **n_eq**\n",
    "    * e.g., `n_eq=(minn_eq, maxn_out)` will scan for transactions that have a number of equally sized outputs between minn_eq and maxn_out included.\n",
    "* **den**\n",
    "    * e.g., `den=(minden, maxden)` will scan for transactions that have a denomination between minden and maxden included.\n",
    "* **abs_fee**\n",
    "    * e.g., `abs_fee=(minabs_fee, maxabs_fee)` will scan for transactions that have an absolute fee between minabs_fee and maxabs_fee included.\n",
    "* **rel_fee**\n",
    "    * e.g., `rel_fee=(minrel_fee, maxrel_fee)` will scan for transactions that have a relative fee between minrel_fee and maxrel_fee included.\n",
    "* **height**\n",
    "    * e.g., `height=(minheight, maxheight)` will scan for transactions that have a height between minheight and maxheight included.\n",
    "* **date**\n",
    "    * e.g., `date=('2020-09-18', '2020-09-19 19:00')` will scan for transactions that have a date between mindate and maxdate included.      \n",
    "    \n",
    "You can also pass arbitrary callables as long as they accept a Tx object as parameter and return True or False.  \n",
    "e.g., `callables=[mycallable]`\n",
    "\n",
    "Here's how a filter that searches for transactions that pay more than 100 sat/vbyte and have just 1 input and 1 output would look like.\n",
    "\n",
    "`tx_filter = filters.TxFilter(n_in=(1, 1), n_out=(1, 1), rel_fee=(100, 100000))`"
   ]
  },
  {
   "cell_type": "code",
   "execution_count": null,
   "metadata": {},
   "outputs": [],
   "source": [
    "import observatory as obs\n",
    "import advanced.filters as filters\n",
    "\n",
    "\n",
    "### INSERT HERE ###\n",
    "start = -10\n",
    "end = 0\n",
    "tx_filter = filters.TxFilter(n_in=(1, 1), n_out=(1, 1), rel_fee=(100, 100000))\n",
    "\n",
    "\n",
    "txs = await obs.create_dataframe(start, end, tx_filter)"
   ]
  },
  {
   "cell_type": "markdown",
   "metadata": {},
   "source": [
    "[Back to menu](#Menu)\n",
    "\n",
    "---"
   ]
  }
 ],
 "metadata": {
  "kernelspec": {
   "display_name": "Python 3",
   "language": "python",
   "name": "python3"
  },
  "language_info": {
   "codemirror_mode": {
    "name": "ipython",
    "version": 3
   },
   "file_extension": ".py",
   "mimetype": "text/x-python",
   "name": "python",
   "nbconvert_exporter": "python",
   "pygments_lexer": "ipython3",
   "version": "3.7.3"
  }
 },
 "nbformat": 4,
 "nbformat_minor": 4
}
