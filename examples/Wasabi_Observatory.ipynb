{
 "cells": [
  {
   "cell_type": "markdown",
   "metadata": {},
   "source": [
    "# Observatory"
   ]
  },
  {
   "cell_type": "markdown",
   "metadata": {},
   "source": [
    "## Menu"
   ]
  },
  {
   "cell_type": "markdown",
   "metadata": {},
   "source": [
    "**Setup**\n",
    "\n",
    "* [Create new dataframe](#Crate-new-dataframe)\n",
    "* [Save dataframe](#Save-dataframe)\n",
    "* [Load dataframe](#Load-existing-dataframe)\n",
    "\n",
    "**Analysis**\n",
    "\n",
    "* [Glimpse](#Glimpse)\n",
    "* [Stats](#Stats)\n",
    "* [Transaction explorer](#Transaction-explorer)\n",
    "* [Plot](#Plot)\n",
    "* [Volume](#Volume)\n",
    "* [Daily](#Daily)\n",
    "\n",
    "**Advanced**\n",
    "\n",
    "* [Advanced creation](#Advanced-creation)"
   ]
  },
  {
   "cell_type": "markdown",
   "metadata": {},
   "source": [
    "---"
   ]
  },
  {
   "cell_type": "markdown",
   "metadata": {},
   "source": [
    "## Create new dataframe"
   ]
  },
  {
   "cell_type": "markdown",
   "metadata": {},
   "source": [
    "Insert in the cell below the `start` block height and the `end` block height, select your desired filter and run it to create the dataframe.\n",
    "\n",
    "**Example:**\n",
    "  \n",
    "`start = 100`  \n",
    "`end = 200`  \n",
    "\n",
    "Will search for transactions between block 100 and block 200 included.\n",
    "\n",
    "You can also give **negative** values to `start` and this will scan the last chosen blocks **depending** on the `end` value.\n",
    "\n",
    "**Example:**\n",
    "\n",
    "`start = -10`  \n",
    "`end = 0`\n",
    "\n",
    "Will search for transactions in the last 10 blocks.\n",
    "\n",
    "**Example:**\n",
    "\n",
    "`start = -10`  \n",
    "`end = 5`\n",
    "\n",
    "Will search for transanction in 5 block starting from ten blocks ago."
   ]
  },
  {
   "cell_type": "code",
   "execution_count": 1,
   "metadata": {},
   "outputs": [
    {
     "name": "stderr",
     "output_type": "stream",
     "text": [
      "4521it [14:10,  5.47it/s]\n"
     ]
    },
    {
     "data": {
      "text/markdown": [
       "Created dataframe of **978** transactions in 851.18s"
      ]
     },
     "metadata": {},
     "output_type": "display_data"
    },
    {
     "data": {
      "text/markdown": [
       "[Save dataframe](#Save-dataframe)"
      ]
     },
     "metadata": {},
     "output_type": "display_data"
    },
    {
     "data": {
      "text/markdown": [
       "[Start analysis](#Glimpse)"
      ]
     },
     "metadata": {},
     "output_type": "display_data"
    }
   ],
   "source": [
    "import observatory as obs\n",
    "import advanced.filters as filters\n",
    "\n",
    "\n",
    "### INSERT HERE ###\n",
    "start = 641680\n",
    "end = 646200\n",
    "txid = ''\n",
    "address = ''\n",
    "\n",
    "\n",
    "### CHOOSE ONE OF THE FILTERS BELOW BY REMOVING THE '#' IN FRONT OF IT ###\n",
    "#tx_filter = filters.TxFilter() # This will return every transaction\n",
    "#tx_filter = filters.CjTxFilter()\n",
    "tx_filter = filters.WasabiTxFilter()\n",
    "#tx_filter = filters.JoinmarketTxFilter()\n",
    "#tx_filter = filters.TxidTxFilter(txid) # If you pick me, don't forget to insert a 'txid' above.\n",
    "#tx_filter = filters.AddressTxFilter(address) # If you pick me, don't forget to insert an 'address' above.\n",
    "#tx_filter = filters.CoinbaseTxFilter()\n",
    "\n",
    "txs = await obs.create_dataframe(start, end, tx_filter)"
   ]
  },
  {
   "cell_type": "markdown",
   "metadata": {},
   "source": [
    "[Back to menu](#Menu)\n",
    "\n",
    "---"
   ]
  },
  {
   "cell_type": "markdown",
   "metadata": {},
   "source": [
    "## Save dataframe"
   ]
  },
  {
   "cell_type": "markdown",
   "metadata": {},
   "source": [
    "Insert the **filepath** where to save and run the cell.\n",
    "\n",
    "**Examples:**\n",
    "    \n",
    "`filepath = 'thisfilename'`  \n",
    "`filepath = '/home/thisfilename'`  \n",
    "`filepath = 'results/wasabi/thisfilename'`\n",
    "\n",
    "Will create a `thisfilename.ftr` file into the given filepath."
   ]
  },
  {
   "cell_type": "code",
   "execution_count": 2,
   "metadata": {},
   "outputs": [
    {
     "name": "stdout",
     "output_type": "stream",
     "text": [
      "Dataframe succesfully saved in 0.46s\n"
     ]
    }
   ],
   "source": [
    "### INSERT HERE ###\n",
    "filepath = 'results/Wasabi_txs_August'\n",
    "\n",
    "\n",
    "obs.save(filepath, txs)"
   ]
  },
  {
   "cell_type": "markdown",
   "metadata": {},
   "source": [
    "[Back to menu](#Menu)\n",
    "\n",
    "---"
   ]
  },
  {
   "cell_type": "markdown",
   "metadata": {},
   "source": [
    "## Load existing dataframe"
   ]
  },
  {
   "cell_type": "markdown",
   "metadata": {},
   "source": [
    "Insert the **filepath** of the dataframe to load and run the cell.\n",
    "\n",
    "**Examples:**\n",
    "    \n",
    "`filepath = 'thisfilename'`  \n",
    "`filepath = '/home/thisfilename'`  \n",
    "`filepath = 'results/mytxs/thisfilename'`\n",
    "\n",
    "Will load the `thisfilename.ftr` file from the given filepath."
   ]
  },
  {
   "cell_type": "code",
   "execution_count": null,
   "metadata": {},
   "outputs": [],
   "source": [
    "import observatory as obs\n",
    "\n",
    "\n",
    "### INSERT HERE ###\n",
    "filepath = 'results/mydataframe'\n",
    "\n",
    "\n",
    "txs = obs.load(filepath)"
   ]
  },
  {
   "cell_type": "markdown",
   "metadata": {},
   "source": [
    "[Back to menu](#Menu)\n",
    "\n",
    "---"
   ]
  },
  {
   "cell_type": "markdown",
   "metadata": {},
   "source": [
    "## Glimpse"
   ]
  },
  {
   "cell_type": "markdown",
   "metadata": {},
   "source": [
    "Run the cell below for a glimpse of the dataframe. \n",
    "\n",
    "You can change the `n_txs` value to specify how many transactions to display.  \n",
    "You can also give `n_txs` a **negative** value to display the last n transactions.\n",
    "\n",
    "You can insert the `sort_by` value to specify which column should give the ordering. e.g. 'n_eq', 'date', etc... Default is 'date'."
   ]
  },
  {
   "cell_type": "code",
   "execution_count": 4,
   "metadata": {},
   "outputs": [
    {
     "data": {
      "text/markdown": [
       "**978 total transactions**"
      ]
     },
     "metadata": {},
     "output_type": "display_data"
    },
    {
     "data": {
      "text/html": [
       "<div>\n",
       "<style scoped>\n",
       "    .dataframe tbody tr th:only-of-type {\n",
       "        vertical-align: middle;\n",
       "    }\n",
       "\n",
       "    .dataframe tbody tr th {\n",
       "        vertical-align: top;\n",
       "    }\n",
       "\n",
       "    .dataframe thead th {\n",
       "        text-align: right;\n",
       "    }\n",
       "</style>\n",
       "<table border=\"1\" class=\"dataframe\">\n",
       "  <thead>\n",
       "    <tr style=\"text-align: right;\">\n",
       "      <th></th>\n",
       "      <th>version</th>\n",
       "      <th>size</th>\n",
       "      <th>vsize</th>\n",
       "      <th>weight</th>\n",
       "      <th>locktime</th>\n",
       "      <th>n_in</th>\n",
       "      <th>n_out</th>\n",
       "      <th>n_eq</th>\n",
       "      <th>den</th>\n",
       "      <th>abs_fee</th>\n",
       "      <th>rel_fee</th>\n",
       "      <th>height</th>\n",
       "      <th>date</th>\n",
       "    </tr>\n",
       "    <tr>\n",
       "      <th>txid</th>\n",
       "      <th></th>\n",
       "      <th></th>\n",
       "      <th></th>\n",
       "      <th></th>\n",
       "      <th></th>\n",
       "      <th></th>\n",
       "      <th></th>\n",
       "      <th></th>\n",
       "      <th></th>\n",
       "      <th></th>\n",
       "      <th></th>\n",
       "      <th></th>\n",
       "      <th></th>\n",
       "    </tr>\n",
       "  </thead>\n",
       "  <tbody>\n",
       "    <tr>\n",
       "      <th>599502abac753b5d68bd0277b88db7c7b2a8b3d40700db3cd2dd627faee3b72b</th>\n",
       "      <td>1</td>\n",
       "      <td>26722</td>\n",
       "      <td>16289</td>\n",
       "      <td>65155</td>\n",
       "      <td>0</td>\n",
       "      <td>130</td>\n",
       "      <td>241</td>\n",
       "      <td>99</td>\n",
       "      <td>0.097046</td>\n",
       "      <td>0.000545</td>\n",
       "      <td>3.339844</td>\n",
       "      <td>641684</td>\n",
       "      <td>2020-08-01 01:38:00</td>\n",
       "    </tr>\n",
       "    <tr>\n",
       "      <th>79e9b31b057a49e8da4d63405e7e3580171b8b74f2c9994304ea085a53f4d2c5</th>\n",
       "      <td>1</td>\n",
       "      <td>21810</td>\n",
       "      <td>12981</td>\n",
       "      <td>51924</td>\n",
       "      <td>0</td>\n",
       "      <td>110</td>\n",
       "      <td>178</td>\n",
       "      <td>76</td>\n",
       "      <td>0.096802</td>\n",
       "      <td>0.001746</td>\n",
       "      <td>13.453125</td>\n",
       "      <td>641685</td>\n",
       "      <td>2020-08-01 01:40:00</td>\n",
       "    </tr>\n",
       "    <tr>\n",
       "      <th>4c17703ec96c4ada46954b9039de5cd829cf09b0d27457336e7b810e3e868112</th>\n",
       "      <td>1</td>\n",
       "      <td>26114</td>\n",
       "      <td>16162</td>\n",
       "      <td>64646</td>\n",
       "      <td>0</td>\n",
       "      <td>124</td>\n",
       "      <td>250</td>\n",
       "      <td>100</td>\n",
       "      <td>0.096619</td>\n",
       "      <td>0.002039</td>\n",
       "      <td>12.609375</td>\n",
       "      <td>641685</td>\n",
       "      <td>2020-08-01 01:40:00</td>\n",
       "    </tr>\n",
       "    <tr>\n",
       "      <th>97526af6b938b633e8a76a735e540fd5955326e200ba05cc456d1edc9140bcb6</th>\n",
       "      <td>1</td>\n",
       "      <td>24513</td>\n",
       "      <td>15042</td>\n",
       "      <td>60168</td>\n",
       "      <td>0</td>\n",
       "      <td>118</td>\n",
       "      <td>227</td>\n",
       "      <td>95</td>\n",
       "      <td>0.096558</td>\n",
       "      <td>0.002884</td>\n",
       "      <td>19.187500</td>\n",
       "      <td>641685</td>\n",
       "      <td>2020-08-01 01:40:00</td>\n",
       "    </tr>\n",
       "    <tr>\n",
       "      <th>c473dd741aeca4545b9fb65871a34ee2602737c8c2c6a0d5ff89bcf612573870</th>\n",
       "      <td>1</td>\n",
       "      <td>22901</td>\n",
       "      <td>14153</td>\n",
       "      <td>56612</td>\n",
       "      <td>0</td>\n",
       "      <td>109</td>\n",
       "      <td>218</td>\n",
       "      <td>90</td>\n",
       "      <td>0.096558</td>\n",
       "      <td>0.003426</td>\n",
       "      <td>24.203125</td>\n",
       "      <td>641685</td>\n",
       "      <td>2020-08-01 01:40:00</td>\n",
       "    </tr>\n",
       "    <tr>\n",
       "      <th>c3058bba591f882b1638ddc9622b825982ae24e27b57f183ce85923a202dfd47</th>\n",
       "      <td>1</td>\n",
       "      <td>27879</td>\n",
       "      <td>16482</td>\n",
       "      <td>65928</td>\n",
       "      <td>0</td>\n",
       "      <td>142</td>\n",
       "      <td>221</td>\n",
       "      <td>98</td>\n",
       "      <td>0.096619</td>\n",
       "      <td>0.000555</td>\n",
       "      <td>3.369141</td>\n",
       "      <td>641712</td>\n",
       "      <td>2020-08-01 05:42:00</td>\n",
       "    </tr>\n",
       "    <tr>\n",
       "      <th>7483e107e38933cbc92862f89f1779e436bec033d638a8b2a1938915c72352e3</th>\n",
       "      <td>1</td>\n",
       "      <td>5014</td>\n",
       "      <td>3007</td>\n",
       "      <td>12025</td>\n",
       "      <td>0</td>\n",
       "      <td>25</td>\n",
       "      <td>42</td>\n",
       "      <td>21</td>\n",
       "      <td>0.096802</td>\n",
       "      <td>0.000135</td>\n",
       "      <td>4.480469</td>\n",
       "      <td>641712</td>\n",
       "      <td>2020-08-01 05:42:00</td>\n",
       "    </tr>\n",
       "    <tr>\n",
       "      <th>5c980e61c8d4c4e57a8c9becd48b71a7e0e360ddef6afd45e37c9280a197c1c8</th>\n",
       "      <td>1</td>\n",
       "      <td>15841</td>\n",
       "      <td>9661</td>\n",
       "      <td>38641</td>\n",
       "      <td>0</td>\n",
       "      <td>77</td>\n",
       "      <td>143</td>\n",
       "      <td>58</td>\n",
       "      <td>0.096863</td>\n",
       "      <td>0.001209</td>\n",
       "      <td>12.523438</td>\n",
       "      <td>641712</td>\n",
       "      <td>2020-08-01 05:42:00</td>\n",
       "    </tr>\n",
       "    <tr>\n",
       "      <th>c63d7070693f838542ada2fd065313713b94b5b24e0f91c71a5677641a917cf4</th>\n",
       "      <td>1</td>\n",
       "      <td>6040</td>\n",
       "      <td>3712</td>\n",
       "      <td>14845</td>\n",
       "      <td>0</td>\n",
       "      <td>29</td>\n",
       "      <td>56</td>\n",
       "      <td>25</td>\n",
       "      <td>0.096619</td>\n",
       "      <td>0.000463</td>\n",
       "      <td>12.468750</td>\n",
       "      <td>641712</td>\n",
       "      <td>2020-08-01 05:42:00</td>\n",
       "    </tr>\n",
       "    <tr>\n",
       "      <th>3e478d4928072cf0fcec67e7ac0ff1d01edc03b145849dd64da743e0ba1e142b</th>\n",
       "      <td>1</td>\n",
       "      <td>15933</td>\n",
       "      <td>9753</td>\n",
       "      <td>39012</td>\n",
       "      <td>0</td>\n",
       "      <td>77</td>\n",
       "      <td>146</td>\n",
       "      <td>60</td>\n",
       "      <td>0.096436</td>\n",
       "      <td>0.001831</td>\n",
       "      <td>18.781250</td>\n",
       "      <td>641712</td>\n",
       "      <td>2020-08-01 05:42:00</td>\n",
       "    </tr>\n",
       "  </tbody>\n",
       "</table>\n",
       "</div>"
      ],
      "text/plain": [
       "                                                    version   size  vsize  \\\n",
       "txid                                                                        \n",
       "599502abac753b5d68bd0277b88db7c7b2a8b3d40700db3...        1  26722  16289   \n",
       "79e9b31b057a49e8da4d63405e7e3580171b8b74f2c9994...        1  21810  12981   \n",
       "4c17703ec96c4ada46954b9039de5cd829cf09b0d274573...        1  26114  16162   \n",
       "97526af6b938b633e8a76a735e540fd5955326e200ba05c...        1  24513  15042   \n",
       "c473dd741aeca4545b9fb65871a34ee2602737c8c2c6a0d...        1  22901  14153   \n",
       "c3058bba591f882b1638ddc9622b825982ae24e27b57f18...        1  27879  16482   \n",
       "7483e107e38933cbc92862f89f1779e436bec033d638a8b...        1   5014   3007   \n",
       "5c980e61c8d4c4e57a8c9becd48b71a7e0e360ddef6afd4...        1  15841   9661   \n",
       "c63d7070693f838542ada2fd065313713b94b5b24e0f91c...        1   6040   3712   \n",
       "3e478d4928072cf0fcec67e7ac0ff1d01edc03b145849dd...        1  15933   9753   \n",
       "\n",
       "                                                    weight  locktime  n_in  \\\n",
       "txid                                                                         \n",
       "599502abac753b5d68bd0277b88db7c7b2a8b3d40700db3...   65155         0   130   \n",
       "79e9b31b057a49e8da4d63405e7e3580171b8b74f2c9994...   51924         0   110   \n",
       "4c17703ec96c4ada46954b9039de5cd829cf09b0d274573...   64646         0   124   \n",
       "97526af6b938b633e8a76a735e540fd5955326e200ba05c...   60168         0   118   \n",
       "c473dd741aeca4545b9fb65871a34ee2602737c8c2c6a0d...   56612         0   109   \n",
       "c3058bba591f882b1638ddc9622b825982ae24e27b57f18...   65928         0   142   \n",
       "7483e107e38933cbc92862f89f1779e436bec033d638a8b...   12025         0    25   \n",
       "5c980e61c8d4c4e57a8c9becd48b71a7e0e360ddef6afd4...   38641         0    77   \n",
       "c63d7070693f838542ada2fd065313713b94b5b24e0f91c...   14845         0    29   \n",
       "3e478d4928072cf0fcec67e7ac0ff1d01edc03b145849dd...   39012         0    77   \n",
       "\n",
       "                                                    n_out  n_eq       den  \\\n",
       "txid                                                                        \n",
       "599502abac753b5d68bd0277b88db7c7b2a8b3d40700db3...    241    99  0.097046   \n",
       "79e9b31b057a49e8da4d63405e7e3580171b8b74f2c9994...    178    76  0.096802   \n",
       "4c17703ec96c4ada46954b9039de5cd829cf09b0d274573...    250   100  0.096619   \n",
       "97526af6b938b633e8a76a735e540fd5955326e200ba05c...    227    95  0.096558   \n",
       "c473dd741aeca4545b9fb65871a34ee2602737c8c2c6a0d...    218    90  0.096558   \n",
       "c3058bba591f882b1638ddc9622b825982ae24e27b57f18...    221    98  0.096619   \n",
       "7483e107e38933cbc92862f89f1779e436bec033d638a8b...     42    21  0.096802   \n",
       "5c980e61c8d4c4e57a8c9becd48b71a7e0e360ddef6afd4...    143    58  0.096863   \n",
       "c63d7070693f838542ada2fd065313713b94b5b24e0f91c...     56    25  0.096619   \n",
       "3e478d4928072cf0fcec67e7ac0ff1d01edc03b145849dd...    146    60  0.096436   \n",
       "\n",
       "                                                     abs_fee    rel_fee  \\\n",
       "txid                                                                      \n",
       "599502abac753b5d68bd0277b88db7c7b2a8b3d40700db3...  0.000545   3.339844   \n",
       "79e9b31b057a49e8da4d63405e7e3580171b8b74f2c9994...  0.001746  13.453125   \n",
       "4c17703ec96c4ada46954b9039de5cd829cf09b0d274573...  0.002039  12.609375   \n",
       "97526af6b938b633e8a76a735e540fd5955326e200ba05c...  0.002884  19.187500   \n",
       "c473dd741aeca4545b9fb65871a34ee2602737c8c2c6a0d...  0.003426  24.203125   \n",
       "c3058bba591f882b1638ddc9622b825982ae24e27b57f18...  0.000555   3.369141   \n",
       "7483e107e38933cbc92862f89f1779e436bec033d638a8b...  0.000135   4.480469   \n",
       "5c980e61c8d4c4e57a8c9becd48b71a7e0e360ddef6afd4...  0.001209  12.523438   \n",
       "c63d7070693f838542ada2fd065313713b94b5b24e0f91c...  0.000463  12.468750   \n",
       "3e478d4928072cf0fcec67e7ac0ff1d01edc03b145849dd...  0.001831  18.781250   \n",
       "\n",
       "                                                    height                date  \n",
       "txid                                                                            \n",
       "599502abac753b5d68bd0277b88db7c7b2a8b3d40700db3...  641684 2020-08-01 01:38:00  \n",
       "79e9b31b057a49e8da4d63405e7e3580171b8b74f2c9994...  641685 2020-08-01 01:40:00  \n",
       "4c17703ec96c4ada46954b9039de5cd829cf09b0d274573...  641685 2020-08-01 01:40:00  \n",
       "97526af6b938b633e8a76a735e540fd5955326e200ba05c...  641685 2020-08-01 01:40:00  \n",
       "c473dd741aeca4545b9fb65871a34ee2602737c8c2c6a0d...  641685 2020-08-01 01:40:00  \n",
       "c3058bba591f882b1638ddc9622b825982ae24e27b57f18...  641712 2020-08-01 05:42:00  \n",
       "7483e107e38933cbc92862f89f1779e436bec033d638a8b...  641712 2020-08-01 05:42:00  \n",
       "5c980e61c8d4c4e57a8c9becd48b71a7e0e360ddef6afd4...  641712 2020-08-01 05:42:00  \n",
       "c63d7070693f838542ada2fd065313713b94b5b24e0f91c...  641712 2020-08-01 05:42:00  \n",
       "3e478d4928072cf0fcec67e7ac0ff1d01edc03b145849dd...  641712 2020-08-01 05:42:00  "
      ]
     },
     "metadata": {},
     "output_type": "display_data"
    }
   ],
   "source": [
    "### INSERT HERE ###\n",
    "n_txs = 10\n",
    "sort_by = ''\n",
    "\n",
    "\n",
    "obs.show_intro(txs, n_txs, sort_by)"
   ]
  },
  {
   "cell_type": "markdown",
   "metadata": {},
   "source": [
    "[Back to menu](#Menu)\n",
    "\n",
    "---"
   ]
  },
  {
   "cell_type": "markdown",
   "metadata": {},
   "source": [
    "## Stats"
   ]
  },
  {
   "cell_type": "markdown",
   "metadata": {},
   "source": [
    "Run the cell below for a list of statistics about the dataframe."
   ]
  },
  {
   "cell_type": "code",
   "execution_count": 5,
   "metadata": {},
   "outputs": [
    {
     "data": {
      "text/html": [
       "<div>\n",
       "<style scoped>\n",
       "    .dataframe tbody tr th:only-of-type {\n",
       "        vertical-align: middle;\n",
       "    }\n",
       "\n",
       "    .dataframe tbody tr th {\n",
       "        vertical-align: top;\n",
       "    }\n",
       "\n",
       "    .dataframe thead th {\n",
       "        text-align: right;\n",
       "    }\n",
       "</style>\n",
       "<table border=\"1\" class=\"dataframe\">\n",
       "  <thead>\n",
       "    <tr style=\"text-align: right;\">\n",
       "      <th></th>\n",
       "      <th>version</th>\n",
       "      <th>size</th>\n",
       "      <th>vsize</th>\n",
       "      <th>weight</th>\n",
       "      <th>locktime</th>\n",
       "      <th>n_in</th>\n",
       "      <th>n_out</th>\n",
       "      <th>n_eq</th>\n",
       "      <th>den</th>\n",
       "      <th>abs_fee</th>\n",
       "      <th>rel_fee</th>\n",
       "      <th>height</th>\n",
       "    </tr>\n",
       "  </thead>\n",
       "  <tbody>\n",
       "    <tr>\n",
       "      <th>count</th>\n",
       "      <td>978.000000</td>\n",
       "      <td>978.000000</td>\n",
       "      <td>978.000000</td>\n",
       "      <td>978.000000</td>\n",
       "      <td>978.000000</td>\n",
       "      <td>978.000000</td>\n",
       "      <td>978.000000</td>\n",
       "      <td>978.000000</td>\n",
       "      <td>978.000000</td>\n",
       "      <td>978.000000</td>\n",
       "      <td>978.000000</td>\n",
       "      <td>978.000000</td>\n",
       "    </tr>\n",
       "    <tr>\n",
       "      <th>mean</th>\n",
       "      <td>1.001022</td>\n",
       "      <td>16730.183027</td>\n",
       "      <td>10019.733129</td>\n",
       "      <td>40077.437628</td>\n",
       "      <td>656.379346</td>\n",
       "      <td>83.611452</td>\n",
       "      <td>140.140082</td>\n",
       "      <td>61.709611</td>\n",
       "      <td>0.098328</td>\n",
       "      <td>0.001328</td>\n",
       "      <td>13.789062</td>\n",
       "      <td>643891.876278</td>\n",
       "    </tr>\n",
       "    <tr>\n",
       "      <th>std</th>\n",
       "      <td>0.031976</td>\n",
       "      <td>6385.790117</td>\n",
       "      <td>3796.853407</td>\n",
       "      <td>15187.444111</td>\n",
       "      <td>20526.945724</td>\n",
       "      <td>32.426886</td>\n",
       "      <td>53.018699</td>\n",
       "      <td>22.760907</td>\n",
       "      <td>0.004650</td>\n",
       "      <td>0.003010</td>\n",
       "      <td>29.187500</td>\n",
       "      <td>1303.334709</td>\n",
       "    </tr>\n",
       "    <tr>\n",
       "      <th>min</th>\n",
       "      <td>1.000000</td>\n",
       "      <td>1568.000000</td>\n",
       "      <td>925.000000</td>\n",
       "      <td>3698.000000</td>\n",
       "      <td>0.000000</td>\n",
       "      <td>8.000000</td>\n",
       "      <td>12.000000</td>\n",
       "      <td>6.000000</td>\n",
       "      <td>0.089172</td>\n",
       "      <td>0.000021</td>\n",
       "      <td>2.210938</td>\n",
       "      <td>641684.000000</td>\n",
       "    </tr>\n",
       "    <tr>\n",
       "      <th>25%</th>\n",
       "      <td>1.000000</td>\n",
       "      <td>12073.250000</td>\n",
       "      <td>7224.500000</td>\n",
       "      <td>28895.750000</td>\n",
       "      <td>0.000000</td>\n",
       "      <td>60.000000</td>\n",
       "      <td>104.250000</td>\n",
       "      <td>46.000000</td>\n",
       "      <td>0.094055</td>\n",
       "      <td>0.000225</td>\n",
       "      <td>2.259766</td>\n",
       "      <td>642772.000000</td>\n",
       "    </tr>\n",
       "    <tr>\n",
       "      <th>50%</th>\n",
       "      <td>1.000000</td>\n",
       "      <td>16785.000000</td>\n",
       "      <td>10043.000000</td>\n",
       "      <td>40170.500000</td>\n",
       "      <td>0.000000</td>\n",
       "      <td>84.000000</td>\n",
       "      <td>141.500000</td>\n",
       "      <td>63.000000</td>\n",
       "      <td>0.098999</td>\n",
       "      <td>0.000352</td>\n",
       "      <td>3.354492</td>\n",
       "      <td>643901.000000</td>\n",
       "    </tr>\n",
       "    <tr>\n",
       "      <th>75%</th>\n",
       "      <td>1.000000</td>\n",
       "      <td>21689.750000</td>\n",
       "      <td>12975.250000</td>\n",
       "      <td>51898.250000</td>\n",
       "      <td>0.000000</td>\n",
       "      <td>109.000000</td>\n",
       "      <td>180.000000</td>\n",
       "      <td>79.000000</td>\n",
       "      <td>0.102234</td>\n",
       "      <td>0.000557</td>\n",
       "      <td>4.480469</td>\n",
       "      <td>644994.000000</td>\n",
       "    </tr>\n",
       "    <tr>\n",
       "      <th>max</th>\n",
       "      <td>2.000000</td>\n",
       "      <td>31069.000000</td>\n",
       "      <td>18549.000000</td>\n",
       "      <td>74194.000000</td>\n",
       "      <td>641939.000000</td>\n",
       "      <td>157.000000</td>\n",
       "      <td>271.000000</td>\n",
       "      <td>100.000000</td>\n",
       "      <td>0.107178</td>\n",
       "      <td>0.022659</td>\n",
       "      <td>157.000000</td>\n",
       "      <td>646136.000000</td>\n",
       "    </tr>\n",
       "  </tbody>\n",
       "</table>\n",
       "</div>"
      ],
      "text/plain": [
       "          version          size         vsize        weight       locktime  \\\n",
       "count  978.000000    978.000000    978.000000    978.000000     978.000000   \n",
       "mean     1.001022  16730.183027  10019.733129  40077.437628     656.379346   \n",
       "std      0.031976   6385.790117   3796.853407  15187.444111   20526.945724   \n",
       "min      1.000000   1568.000000    925.000000   3698.000000       0.000000   \n",
       "25%      1.000000  12073.250000   7224.500000  28895.750000       0.000000   \n",
       "50%      1.000000  16785.000000  10043.000000  40170.500000       0.000000   \n",
       "75%      1.000000  21689.750000  12975.250000  51898.250000       0.000000   \n",
       "max      2.000000  31069.000000  18549.000000  74194.000000  641939.000000   \n",
       "\n",
       "             n_in       n_out        n_eq         den     abs_fee     rel_fee  \\\n",
       "count  978.000000  978.000000  978.000000  978.000000  978.000000  978.000000   \n",
       "mean    83.611452  140.140082   61.709611    0.098328    0.001328   13.789062   \n",
       "std     32.426886   53.018699   22.760907    0.004650    0.003010   29.187500   \n",
       "min      8.000000   12.000000    6.000000    0.089172    0.000021    2.210938   \n",
       "25%     60.000000  104.250000   46.000000    0.094055    0.000225    2.259766   \n",
       "50%     84.000000  141.500000   63.000000    0.098999    0.000352    3.354492   \n",
       "75%    109.000000  180.000000   79.000000    0.102234    0.000557    4.480469   \n",
       "max    157.000000  271.000000  100.000000    0.107178    0.022659  157.000000   \n",
       "\n",
       "              height  \n",
       "count     978.000000  \n",
       "mean   643891.876278  \n",
       "std      1303.334709  \n",
       "min    641684.000000  \n",
       "25%    642772.000000  \n",
       "50%    643901.000000  \n",
       "75%    644994.000000  \n",
       "max    646136.000000  "
      ]
     },
     "execution_count": 5,
     "metadata": {},
     "output_type": "execute_result"
    }
   ],
   "source": [
    "obs.show_stats(txs)"
   ]
  },
  {
   "cell_type": "markdown",
   "metadata": {},
   "source": [
    "[Back to menu](#Menu)\n",
    "\n",
    "---"
   ]
  },
  {
   "cell_type": "markdown",
   "metadata": {},
   "source": [
    "## Transaction explorer"
   ]
  },
  {
   "cell_type": "markdown",
   "metadata": {},
   "source": [
    "Run the cell below to display information about single transactions.\n",
    "\n",
    "If you set `display_all = True` the result will include every input and every output.  \n",
    "If the transaction is huge, or you are looking at more than one transanction. this could be slow or even freeze your browser."
   ]
  },
  {
   "cell_type": "code",
   "execution_count": 6,
   "metadata": {},
   "outputs": [
    {
     "data": {
      "text/html": [
       "<div>\n",
       "<style scoped>\n",
       "    .dataframe tbody tr th:only-of-type {\n",
       "        vertical-align: middle;\n",
       "    }\n",
       "\n",
       "    .dataframe tbody tr th {\n",
       "        vertical-align: top;\n",
       "    }\n",
       "\n",
       "    .dataframe thead th {\n",
       "        text-align: right;\n",
       "    }\n",
       "</style>\n",
       "<table border=\"1\" class=\"dataframe\">\n",
       "  <thead>\n",
       "    <tr style=\"text-align: right;\">\n",
       "      <th></th>\n",
       "      <th>version</th>\n",
       "      <th>size</th>\n",
       "      <th>vsize</th>\n",
       "      <th>weight</th>\n",
       "      <th>locktime</th>\n",
       "      <th>n_in</th>\n",
       "      <th>n_out</th>\n",
       "      <th>n_eq</th>\n",
       "      <th>den</th>\n",
       "      <th>abs_fee</th>\n",
       "      <th>rel_fee</th>\n",
       "      <th>height</th>\n",
       "      <th>date</th>\n",
       "    </tr>\n",
       "    <tr>\n",
       "      <th>txid</th>\n",
       "      <th></th>\n",
       "      <th></th>\n",
       "      <th></th>\n",
       "      <th></th>\n",
       "      <th></th>\n",
       "      <th></th>\n",
       "      <th></th>\n",
       "      <th></th>\n",
       "      <th></th>\n",
       "      <th></th>\n",
       "      <th></th>\n",
       "      <th></th>\n",
       "      <th></th>\n",
       "    </tr>\n",
       "  </thead>\n",
       "  <tbody>\n",
       "    <tr>\n",
       "      <th>4c17703ec96c4ada46954b9039de5cd829cf09b0d27457336e7b810e3e868112</th>\n",
       "      <td>1</td>\n",
       "      <td>26114</td>\n",
       "      <td>16162</td>\n",
       "      <td>64646</td>\n",
       "      <td>0</td>\n",
       "      <td>124</td>\n",
       "      <td>250</td>\n",
       "      <td>100</td>\n",
       "      <td>0.096619</td>\n",
       "      <td>0.002039</td>\n",
       "      <td>12.609375</td>\n",
       "      <td>641685</td>\n",
       "      <td>2020-08-01 01:40:00</td>\n",
       "    </tr>\n",
       "  </tbody>\n",
       "</table>\n",
       "</div>"
      ],
      "text/plain": [
       "                                                                  version  \\\n",
       "txid                                                                        \n",
       "4c17703ec96c4ada46954b9039de5cd829cf09b0d27457336e7b810e3e868112        1   \n",
       "\n",
       "                                                                   size  \\\n",
       "txid                                                                      \n",
       "4c17703ec96c4ada46954b9039de5cd829cf09b0d27457336e7b810e3e868112  26114   \n",
       "\n",
       "                                                                  vsize  \\\n",
       "txid                                                                      \n",
       "4c17703ec96c4ada46954b9039de5cd829cf09b0d27457336e7b810e3e868112  16162   \n",
       "\n",
       "                                                                  weight  \\\n",
       "txid                                                                       \n",
       "4c17703ec96c4ada46954b9039de5cd829cf09b0d27457336e7b810e3e868112   64646   \n",
       "\n",
       "                                                                  locktime  \\\n",
       "txid                                                                         \n",
       "4c17703ec96c4ada46954b9039de5cd829cf09b0d27457336e7b810e3e868112         0   \n",
       "\n",
       "                                                                  n_in  n_out  \\\n",
       "txid                                                                            \n",
       "4c17703ec96c4ada46954b9039de5cd829cf09b0d27457336e7b810e3e868112   124    250   \n",
       "\n",
       "                                                                  n_eq  \\\n",
       "txid                                                                     \n",
       "4c17703ec96c4ada46954b9039de5cd829cf09b0d27457336e7b810e3e868112   100   \n",
       "\n",
       "                                                                       den  \\\n",
       "txid                                                                         \n",
       "4c17703ec96c4ada46954b9039de5cd829cf09b0d27457336e7b810e3e868112  0.096619   \n",
       "\n",
       "                                                                   abs_fee  \\\n",
       "txid                                                                         \n",
       "4c17703ec96c4ada46954b9039de5cd829cf09b0d27457336e7b810e3e868112  0.002039   \n",
       "\n",
       "                                                                    rel_fee  \\\n",
       "txid                                                                          \n",
       "4c17703ec96c4ada46954b9039de5cd829cf09b0d27457336e7b810e3e868112  12.609375   \n",
       "\n",
       "                                                                  height  \\\n",
       "txid                                                                       \n",
       "4c17703ec96c4ada46954b9039de5cd829cf09b0d27457336e7b810e3e868112  641685   \n",
       "\n",
       "                                                                                date  \n",
       "txid                                                                                  \n",
       "4c17703ec96c4ada46954b9039de5cd829cf09b0d27457336e7b810e3e868112 2020-08-01 01:40:00  "
      ]
     },
     "metadata": {},
     "output_type": "display_data"
    },
    {
     "data": {
      "text/markdown": [
       "### Inputs"
      ]
     },
     "metadata": {},
     "output_type": "display_data"
    },
    {
     "data": {
      "text/html": [
       "<div>\n",
       "<style scoped>\n",
       "    .dataframe tbody tr th:only-of-type {\n",
       "        vertical-align: middle;\n",
       "    }\n",
       "\n",
       "    .dataframe tbody tr th {\n",
       "        vertical-align: top;\n",
       "    }\n",
       "\n",
       "    .dataframe thead th {\n",
       "        text-align: right;\n",
       "    }\n",
       "</style>\n",
       "<table border=\"1\" class=\"dataframe\">\n",
       "  <thead>\n",
       "    <tr style=\"text-align: right;\">\n",
       "      <th></th>\n",
       "      <th>txid</th>\n",
       "      <th>height</th>\n",
       "      <th>value</th>\n",
       "      <th>vout</th>\n",
       "      <th>addresses</th>\n",
       "      <th>type</th>\n",
       "    </tr>\n",
       "  </thead>\n",
       "  <tbody>\n",
       "    <tr>\n",
       "      <th>0</th>\n",
       "      <td>b6cad39229dc76d4fa139040769549123b47ffe4120fd52fa08651e5fac833f5</td>\n",
       "      <td>641548</td>\n",
       "      <td>0.000337</td>\n",
       "      <td>0</td>\n",
       "      <td>[bc1q083c2uhv920gc8lqlytmsmg6q6hhzr8ysmpr7m]</td>\n",
       "      <td>witness_v0_keyhash</td>\n",
       "    </tr>\n",
       "    <tr>\n",
       "      <th>1</th>\n",
       "      <td>be4b95b57ad5448c2f828b56823e891df8d3b5350327b2ed1d3b5d6e1d32eb2b</td>\n",
       "      <td>641418</td>\n",
       "      <td>0.000763</td>\n",
       "      <td>2</td>\n",
       "      <td>[bc1q0twl5hrl8p5udx3cpuf4dlkpf989tzx225c6at]</td>\n",
       "      <td>witness_v0_keyhash</td>\n",
       "    </tr>\n",
       "    <tr>\n",
       "      <th>2</th>\n",
       "      <td>81860e72d3989babdb60df03592da46d11729d7f0839ef668614fa3d169cac0f</td>\n",
       "      <td>638203</td>\n",
       "      <td>0.000938</td>\n",
       "      <td>3</td>\n",
       "      <td>[bc1q8w2j6ln7ltg7ug029nw73z2p0ana0s4yvwd2p2]</td>\n",
       "      <td>witness_v0_keyhash</td>\n",
       "    </tr>\n",
       "    <tr>\n",
       "      <th>3</th>\n",
       "      <td>73400bd4d82e4f1666137857eb664d5fea1caf8fe8859a468c444cb612b0d99a</td>\n",
       "      <td>641437</td>\n",
       "      <td>0.001514</td>\n",
       "      <td>10</td>\n",
       "      <td>[bc1qkuwx7wartss2k55dhrqvzkvqge69lh64cze8ew]</td>\n",
       "      <td>witness_v0_keyhash</td>\n",
       "    </tr>\n",
       "    <tr>\n",
       "      <th>4</th>\n",
       "      <td>a264a93238aed5a6e94a6f7bf1e0e2935e938b1ccb98067af46d343cb866b04a</td>\n",
       "      <td>640700</td>\n",
       "      <td>0.001524</td>\n",
       "      <td>2</td>\n",
       "      <td>[bc1qjf3c6mu6wf867regg4xjqzxyd7z8agsxskfus4]</td>\n",
       "      <td>witness_v0_keyhash</td>\n",
       "    </tr>\n",
       "    <tr>\n",
       "      <th>...</th>\n",
       "      <td>...</td>\n",
       "      <td>...</td>\n",
       "      <td>...</td>\n",
       "      <td>...</td>\n",
       "      <td>...</td>\n",
       "      <td>...</td>\n",
       "    </tr>\n",
       "    <tr>\n",
       "      <th>119</th>\n",
       "      <td>e20d6a4e030d2af1a4bf7221209efd501e501fa50dd4a33eb6713eac20e5da2f</td>\n",
       "      <td>641671</td>\n",
       "      <td>3.756968</td>\n",
       "      <td>211</td>\n",
       "      <td>[bc1qadumhe2kskh9y6afdsllrqqrdmgmpgrwyqvg27]</td>\n",
       "      <td>witness_v0_keyhash</td>\n",
       "    </tr>\n",
       "    <tr>\n",
       "      <th>120</th>\n",
       "      <td>ba3b6ff53c8d8644828a4e3e0443fce1d789826362d530ce30a67cbc95f6e07b</td>\n",
       "      <td>641674</td>\n",
       "      <td>5.774132</td>\n",
       "      <td>1</td>\n",
       "      <td>[bc1qwae47kzmp6gau9nyjylpwuuz7sasm9x8fh6c48]</td>\n",
       "      <td>witness_v0_keyhash</td>\n",
       "    </tr>\n",
       "    <tr>\n",
       "      <th>121</th>\n",
       "      <td>5c6821470e326348e0bf2c5b15ab5602a00e1b18407fb5a2ed10ac9f6c95ef53</td>\n",
       "      <td>641671</td>\n",
       "      <td>6.143293</td>\n",
       "      <td>236</td>\n",
       "      <td>[bc1qzh2pk0zfyha4yrkg4kyky4qfrqu3cufvwdeld6]</td>\n",
       "      <td>witness_v0_keyhash</td>\n",
       "    </tr>\n",
       "    <tr>\n",
       "      <th>122</th>\n",
       "      <td>85f0107f1991bb8aeedd6f1483f0ab453559f3887e569e61608ec84a48a4ac92</td>\n",
       "      <td>641678</td>\n",
       "      <td>14.545300</td>\n",
       "      <td>184</td>\n",
       "      <td>[bc1qfk0y4sgq8d8l8sh7ls358nakq94hjue84hecdu]</td>\n",
       "      <td>witness_v0_keyhash</td>\n",
       "    </tr>\n",
       "    <tr>\n",
       "      <th>123</th>\n",
       "      <td>a6035e1948d25c4e25a9ac5d65c7a938e3988561a4c378f9bfcc9190467f259d</td>\n",
       "      <td>641289</td>\n",
       "      <td>94.212426</td>\n",
       "      <td>110</td>\n",
       "      <td>[bc1qmn83vuzvn038z0dvhjxd7998r4j47x3hee5cfm]</td>\n",
       "      <td>witness_v0_keyhash</td>\n",
       "    </tr>\n",
       "  </tbody>\n",
       "</table>\n",
       "<p>124 rows × 6 columns</p>\n",
       "</div>"
      ],
      "text/plain": [
       "                                                                 txid  height  \\\n",
       "0    b6cad39229dc76d4fa139040769549123b47ffe4120fd52fa08651e5fac833f5  641548   \n",
       "1    be4b95b57ad5448c2f828b56823e891df8d3b5350327b2ed1d3b5d6e1d32eb2b  641418   \n",
       "2    81860e72d3989babdb60df03592da46d11729d7f0839ef668614fa3d169cac0f  638203   \n",
       "3    73400bd4d82e4f1666137857eb664d5fea1caf8fe8859a468c444cb612b0d99a  641437   \n",
       "4    a264a93238aed5a6e94a6f7bf1e0e2935e938b1ccb98067af46d343cb866b04a  640700   \n",
       "..                                                                ...     ...   \n",
       "119  e20d6a4e030d2af1a4bf7221209efd501e501fa50dd4a33eb6713eac20e5da2f  641671   \n",
       "120  ba3b6ff53c8d8644828a4e3e0443fce1d789826362d530ce30a67cbc95f6e07b  641674   \n",
       "121  5c6821470e326348e0bf2c5b15ab5602a00e1b18407fb5a2ed10ac9f6c95ef53  641671   \n",
       "122  85f0107f1991bb8aeedd6f1483f0ab453559f3887e569e61608ec84a48a4ac92  641678   \n",
       "123  a6035e1948d25c4e25a9ac5d65c7a938e3988561a4c378f9bfcc9190467f259d  641289   \n",
       "\n",
       "         value  vout                                     addresses  \\\n",
       "0     0.000337     0  [bc1q083c2uhv920gc8lqlytmsmg6q6hhzr8ysmpr7m]   \n",
       "1     0.000763     2  [bc1q0twl5hrl8p5udx3cpuf4dlkpf989tzx225c6at]   \n",
       "2     0.000938     3  [bc1q8w2j6ln7ltg7ug029nw73z2p0ana0s4yvwd2p2]   \n",
       "3     0.001514    10  [bc1qkuwx7wartss2k55dhrqvzkvqge69lh64cze8ew]   \n",
       "4     0.001524     2  [bc1qjf3c6mu6wf867regg4xjqzxyd7z8agsxskfus4]   \n",
       "..         ...   ...                                           ...   \n",
       "119   3.756968   211  [bc1qadumhe2kskh9y6afdsllrqqrdmgmpgrwyqvg27]   \n",
       "120   5.774132     1  [bc1qwae47kzmp6gau9nyjylpwuuz7sasm9x8fh6c48]   \n",
       "121   6.143293   236  [bc1qzh2pk0zfyha4yrkg4kyky4qfrqu3cufvwdeld6]   \n",
       "122  14.545300   184  [bc1qfk0y4sgq8d8l8sh7ls358nakq94hjue84hecdu]   \n",
       "123  94.212426   110  [bc1qmn83vuzvn038z0dvhjxd7998r4j47x3hee5cfm]   \n",
       "\n",
       "                   type  \n",
       "0    witness_v0_keyhash  \n",
       "1    witness_v0_keyhash  \n",
       "2    witness_v0_keyhash  \n",
       "3    witness_v0_keyhash  \n",
       "4    witness_v0_keyhash  \n",
       "..                  ...  \n",
       "119  witness_v0_keyhash  \n",
       "120  witness_v0_keyhash  \n",
       "121  witness_v0_keyhash  \n",
       "122  witness_v0_keyhash  \n",
       "123  witness_v0_keyhash  \n",
       "\n",
       "[124 rows x 6 columns]"
      ]
     },
     "metadata": {},
     "output_type": "display_data"
    },
    {
     "data": {
      "text/markdown": [
       "### Outputs"
      ]
     },
     "metadata": {},
     "output_type": "display_data"
    },
    {
     "data": {
      "text/html": [
       "<div>\n",
       "<style scoped>\n",
       "    .dataframe tbody tr th:only-of-type {\n",
       "        vertical-align: middle;\n",
       "    }\n",
       "\n",
       "    .dataframe tbody tr th {\n",
       "        vertical-align: top;\n",
       "    }\n",
       "\n",
       "    .dataframe thead th {\n",
       "        text-align: right;\n",
       "    }\n",
       "</style>\n",
       "<table border=\"1\" class=\"dataframe\">\n",
       "  <thead>\n",
       "    <tr style=\"text-align: right;\">\n",
       "      <th></th>\n",
       "      <th>value</th>\n",
       "      <th>addresses</th>\n",
       "      <th>type</th>\n",
       "    </tr>\n",
       "    <tr>\n",
       "      <th>vout</th>\n",
       "      <th></th>\n",
       "      <th></th>\n",
       "      <th></th>\n",
       "    </tr>\n",
       "  </thead>\n",
       "  <tbody>\n",
       "    <tr>\n",
       "      <th>0</th>\n",
       "      <td>0.000315</td>\n",
       "      <td>[bc1q2pfg5c4xtmsn3sduyzmzmsj75xt8wljeds2m90]</td>\n",
       "      <td>witness_v0_keyhash</td>\n",
       "    </tr>\n",
       "    <tr>\n",
       "      <th>1</th>\n",
       "      <td>0.000346</td>\n",
       "      <td>[bc1q46cauatz06q2za3dte739zrm7qq4evcj8sjr3z]</td>\n",
       "      <td>witness_v0_keyhash</td>\n",
       "    </tr>\n",
       "    <tr>\n",
       "      <th>2</th>\n",
       "      <td>0.000407</td>\n",
       "      <td>[bc1qgf3zp0c7dcc26hv0v4yhj9hld079n47a5fv7mh]</td>\n",
       "      <td>witness_v0_keyhash</td>\n",
       "    </tr>\n",
       "    <tr>\n",
       "      <th>3</th>\n",
       "      <td>0.000435</td>\n",
       "      <td>[bc1qrkax9em8azssrk4sav8pkw6nd4yf6hr8wyjamn]</td>\n",
       "      <td>witness_v0_keyhash</td>\n",
       "    </tr>\n",
       "    <tr>\n",
       "      <th>4</th>\n",
       "      <td>0.000681</td>\n",
       "      <td>[bc1q4qg2xvxk3cejj735d2vfufk8qlryxhtzkyhst6]</td>\n",
       "      <td>witness_v0_keyhash</td>\n",
       "    </tr>\n",
       "    <tr>\n",
       "      <th>...</th>\n",
       "      <td>...</td>\n",
       "      <td>...</td>\n",
       "      <td>...</td>\n",
       "    </tr>\n",
       "    <tr>\n",
       "      <th>245</th>\n",
       "      <td>3.090653</td>\n",
       "      <td>[bc1q3jz7xw3u7ftm36waywjexhfnw7m6rmqc6md9ar]</td>\n",
       "      <td>witness_v0_keyhash</td>\n",
       "    </tr>\n",
       "    <tr>\n",
       "      <th>246</th>\n",
       "      <td>3.090653</td>\n",
       "      <td>[bc1qfqkdm0l8ve2hukrmarl7yyxtum4g8tphr5vxla]</td>\n",
       "      <td>witness_v0_keyhash</td>\n",
       "    </tr>\n",
       "    <tr>\n",
       "      <th>247</th>\n",
       "      <td>6.181307</td>\n",
       "      <td>[bc1qsuqs3y5056a0xxcharwq49fa7zldr68q83h7vu]</td>\n",
       "      <td>witness_v0_keyhash</td>\n",
       "    </tr>\n",
       "    <tr>\n",
       "      <th>248</th>\n",
       "      <td>6.181307</td>\n",
       "      <td>[bc1q7zatwu78zm4mevs7huhnqscuywjh0xpjtz2wnn]</td>\n",
       "      <td>witness_v0_keyhash</td>\n",
       "    </tr>\n",
       "    <tr>\n",
       "      <th>249</th>\n",
       "      <td>81.944620</td>\n",
       "      <td>[bc1q9m3h5qn3acjqf6en9c579977lz86rtjy3chpea]</td>\n",
       "      <td>witness_v0_keyhash</td>\n",
       "    </tr>\n",
       "  </tbody>\n",
       "</table>\n",
       "<p>250 rows × 3 columns</p>\n",
       "</div>"
      ],
      "text/plain": [
       "          value                                     addresses  \\\n",
       "vout                                                            \n",
       "0      0.000315  [bc1q2pfg5c4xtmsn3sduyzmzmsj75xt8wljeds2m90]   \n",
       "1      0.000346  [bc1q46cauatz06q2za3dte739zrm7qq4evcj8sjr3z]   \n",
       "2      0.000407  [bc1qgf3zp0c7dcc26hv0v4yhj9hld079n47a5fv7mh]   \n",
       "3      0.000435  [bc1qrkax9em8azssrk4sav8pkw6nd4yf6hr8wyjamn]   \n",
       "4      0.000681  [bc1q4qg2xvxk3cejj735d2vfufk8qlryxhtzkyhst6]   \n",
       "...         ...                                           ...   \n",
       "245    3.090653  [bc1q3jz7xw3u7ftm36waywjexhfnw7m6rmqc6md9ar]   \n",
       "246    3.090653  [bc1qfqkdm0l8ve2hukrmarl7yyxtum4g8tphr5vxla]   \n",
       "247    6.181307  [bc1qsuqs3y5056a0xxcharwq49fa7zldr68q83h7vu]   \n",
       "248    6.181307  [bc1q7zatwu78zm4mevs7huhnqscuywjh0xpjtz2wnn]   \n",
       "249   81.944620  [bc1q9m3h5qn3acjqf6en9c579977lz86rtjy3chpea]   \n",
       "\n",
       "                    type  \n",
       "vout                      \n",
       "0     witness_v0_keyhash  \n",
       "1     witness_v0_keyhash  \n",
       "2     witness_v0_keyhash  \n",
       "3     witness_v0_keyhash  \n",
       "4     witness_v0_keyhash  \n",
       "...                  ...  \n",
       "245   witness_v0_keyhash  \n",
       "246   witness_v0_keyhash  \n",
       "247   witness_v0_keyhash  \n",
       "248   witness_v0_keyhash  \n",
       "249   witness_v0_keyhash  \n",
       "\n",
       "[250 rows x 3 columns]"
      ]
     },
     "metadata": {},
     "output_type": "display_data"
    }
   ],
   "source": [
    "### INSERT HERE ###\n",
    "txid = '4c17703ec96c4ada46954b9039de5cd829cf09b0d27457336e7b810e3e868112'\n",
    "display_all = False\n",
    "\n",
    "obs.show_tx(txs, txid, display_all)"
   ]
  },
  {
   "cell_type": "markdown",
   "metadata": {},
   "source": [
    "[Back to menu](#Menu)\n",
    "\n",
    "---"
   ]
  },
  {
   "cell_type": "markdown",
   "metadata": {},
   "source": [
    "## Plot"
   ]
  },
  {
   "cell_type": "markdown",
   "metadata": {},
   "source": [
    "Run the cell below to plot the desired `column`.\n",
    "\n",
    "If you give it a `filepath`, the result graph will be saved."
   ]
  },
  {
   "cell_type": "code",
   "execution_count": 7,
   "metadata": {},
   "outputs": [
    {
     "data": {
      "image/png": "[encoded data removed]",
      "text/plain": [
       "<Figure size 1440x720 with 1 Axes>"
      ]
     },
     "metadata": {},
     "output_type": "display_data"
    }
   ],
   "source": [
    "### INSERT HERE ###\n",
    "column = 'n_eq'\n",
    "filepath = ''\n",
    "\n",
    "obs.show_graph(txs, column, filepath)"
   ]
  },
  {
   "cell_type": "markdown",
   "metadata": {},
   "source": [
    "[Back to menu](#Menu)\n",
    "\n",
    "---"
   ]
  },
  {
   "cell_type": "markdown",
   "metadata": {},
   "source": [
    "## Volume"
   ]
  },
  {
   "cell_type": "markdown",
   "metadata": {},
   "source": [
    "Run the cell below to show the volume graph.\n",
    "\n",
    "If you give it a filepath, the result graph will be saved."
   ]
  },
  {
   "cell_type": "code",
   "execution_count": 8,
   "metadata": {},
   "outputs": [
    {
     "data": {
      "text/markdown": [
       "**Input** volume: 29947.91139375"
      ]
     },
     "metadata": {},
     "output_type": "display_data"
    },
    {
     "data": {
      "text/markdown": [
       "**Equal output** volume: 17289.6155848"
      ]
     },
     "metadata": {},
     "output_type": "display_data"
    },
    {
     "data": {
      "image/png": "[encoded data removed]",
      "text/plain": [
       "<Figure size 1440x720 with 1 Axes>"
      ]
     },
     "metadata": {},
     "output_type": "display_data"
    }
   ],
   "source": [
    "filepath = ''\n",
    "\n",
    "obs.show_volume(txs, filepath)"
   ]
  },
  {
   "cell_type": "markdown",
   "metadata": {},
   "source": [
    "[Back to menu](#Menu)\n",
    "\n",
    "---"
   ]
  },
  {
   "cell_type": "markdown",
   "metadata": {},
   "source": [
    "## Daily"
   ]
  },
  {
   "cell_type": "markdown",
   "metadata": {},
   "source": [
    "Run the cell below to show the transanctions per day graph.\n",
    "\n",
    "If you give it a filepath, the result graph will be saved."
   ]
  },
  {
   "cell_type": "code",
   "execution_count": 9,
   "metadata": {},
   "outputs": [
    {
     "data": {
      "text/markdown": [
       "**Average daily**: 32.6"
      ]
     },
     "metadata": {},
     "output_type": "display_data"
    },
    {
     "data": {
      "image/png": "[encoded data removed]",
      "text/plain": [
       "<Figure size 1440x720 with 1 Axes>"
      ]
     },
     "metadata": {},
     "output_type": "display_data"
    }
   ],
   "source": [
    "filepath = ''\n",
    "\n",
    "obs.show_daily(txs, filepath)"
   ]
  },
  {
   "cell_type": "markdown",
   "metadata": {},
   "source": [
    "[Back to menu](#Menu)\n",
    "\n",
    "---"
   ]
  },
  {
   "cell_type": "markdown",
   "metadata": {},
   "source": [
    "## Advanced creation"
   ]
  },
  {
   "cell_type": "markdown",
   "metadata": {},
   "source": [
    "Here you can create a dataframe using your own filters.  \n",
    "You can also pass more than one filter and every transaction that matches at least one of them will be included in the dataframe.\n",
    "**Each and every** criteria has to be satisfied in order for a transaction to match a filter.\n",
    "\n",
    "Valid criteria are:\n",
    "* **txid**\n",
    "    * e.g., `txid='mytxid'` will scan for transactions that include 'mytxid' in the txid.\n",
    "* **address**\n",
    "    * e.g., `addresses=['myaddress']` will scan for transactions that include 'myaddress' in at least one of the addresses. Accept multiple addresses (each and every of them has to be part in a transaction for the transaction to match the filter).\n",
    "* **in_type**\n",
    "    * e.g., `in_type='scripthash'` will scan for transactions that have all the inputs of type 'scripthash'.\n",
    "* **out_type**\n",
    "    * e.g., `out_type='scripthash'` will scan for transactions that have all the outputs of type 'scripthash'.\n",
    "* **version**\n",
    "    * e.g., `version=(minversion, maxversion)` will scan for transactions that have a version number between minversion and maxversion included.\n",
    "* **size**\n",
    "    * e.g., `size=(minsize, maxsize)` will scan for transactions that have a size between minsize and maxsize included.\n",
    "* **vsize**\n",
    "    * e.g., `vsize=(minvsize, maxvsize)` will scan for transactions that have a virtual size between minvsize and maxvsize included.\n",
    "* **weight**\n",
    "    * e.g., `weight=(minweight, maxweight)` will scan for transactions that have a weight between minweight and maxweight included.\n",
    "* **locktime**\n",
    "    * e.g., `locktime=(minlocktime, maxlocktime)` will scan for transactions that have a locktime between minlocktime and maxlocktime included.\n",
    "* **n_in**\n",
    "    * e.g., `n_in=(minn_in, maxn_in)` will scan for transactions that have a number of inputs between minn_in and maxn_in included.\n",
    "* **n_out**\n",
    "    * e.g., `n_out=(minn_out, maxn_out)` will scan for transactions that have a number of outputs between minn_out and maxn_out included.\n",
    "* **n_eq**\n",
    "    * e.g., `n_eq=(minn_eq, maxn_out)` will scan for transactions that have a number of equally sized outputs between minn_eq and maxn_out included.\n",
    "* **den**\n",
    "    * e.g., `den=(minden, maxden)` will scan for transactions that have a denomination between minden and maxden included.\n",
    "* **abs_fee**\n",
    "    * e.g., `abs_fee=(minabs_fee, maxabs_fee)` will scan for transactions that have an absolute fee between minabs_fee and maxabs_fee included.\n",
    "* **rel_fee**\n",
    "    * e.g., `rel_fee=(minrel_fee, maxrel_fee)` will scan for transactions that have a relative fee between minrel_fee and maxrel_fee included.\n",
    "* **height**\n",
    "    * e.g., `height=(minheight, maxheight)` will scan for transactions that have a height between minheight and maxheight included.\n",
    "* **date**\n",
    "    * e.g., `date=('2020-09-18', '2020-09-19 19:00')` will scan for transactions that have a date between mindate and maxdate included.      \n",
    "    \n",
    "You can also pass arbitrary callables as long as they accept a Tx object as parameter and return True or False.  \n",
    "e.g., `callables=[mycallable]`\n",
    "\n",
    "Here's how a filter that searches for transactions that pay more than 100 sat/vbyte and have just 1 input and 1 output would look like.\n",
    "\n",
    "`tx_filter = filters.TxFilter(n_in=(1, 1), n_out=(1, 1), rel_fee=(100, 100000))`"
   ]
  },
  {
   "cell_type": "code",
   "execution_count": null,
   "metadata": {},
   "outputs": [],
   "source": [
    "import observatory as obs\n",
    "import advanced.filters as filters\n",
    "\n",
    "\n",
    "### INSERT HERE ###\n",
    "start = -10\n",
    "end = 0\n",
    "tx_filter = filters.TxFilter(n_in=(1, 1), n_out=(1, 1), rel_fee=(100, 100000))\n",
    "\n",
    "\n",
    "txs = await obs.create_dataframe(start, end, tx_filter)"
   ]
  },
  {
   "cell_type": "markdown",
   "metadata": {},
   "source": [
    "[Back to menu](#Menu)\n",
    "\n",
    "---"
   ]
  }
 ],
 "metadata": {
  "kernelspec": {
   "display_name": "Python 3",
   "language": "python",
   "name": "python3"
  },
  "language_info": {
   "codemirror_mode": {
    "name": "ipython",
    "version": 3
   },
   "file_extension": ".py",
   "mimetype": "text/x-python",
   "name": "python",
   "nbconvert_exporter": "python",
   "pygments_lexer": "ipython3",
   "version": "3.7.3"
  }
 },
 "nbformat": 4,
 "nbformat_minor": 4
}
