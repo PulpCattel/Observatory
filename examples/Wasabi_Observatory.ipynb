{
 "cells": [
  {
   "cell_type": "markdown",
   "metadata": {},
   "source": [
    "# Observatory"
   ]
  },
  {
   "cell_type": "markdown",
   "metadata": {},
   "source": [
    "## Menu"
   ]
  },
  {
   "cell_type": "markdown",
   "metadata": {},
   "source": [
    "**Setup**\n",
    "\n",
    "* [Create new dataframe](#Crate-new-dataframe)\n",
    "* [Save dataframe](#Save-dataframe)\n",
    "* [Load dataframe](#Load-existing-dataframe)\n",
    "\n",
    "**Analysis**\n",
    "\n",
    "* [Glimpse](#Glimpse)\n",
    "* [Stats](#Stats)\n",
    "* [Transaction explorer](#Transaction-explorer)\n",
    "* [Plot](#Plot)\n",
    "* [Volume](#Volume)\n",
    "* [Daily](#Daily)\n",
    "\n",
    "**Advanced**\n",
    "\n",
    "* [Advanced creation](#Advanced-creation)"
   ]
  },
  {
   "cell_type": "markdown",
   "metadata": {},
   "source": [
    "---"
   ]
  },
  {
   "cell_type": "markdown",
   "metadata": {},
   "source": [
    "## Create new dataframe"
   ]
  },
  {
   "cell_type": "markdown",
   "metadata": {},
   "source": [
    "Insert in the cell below the `start` block height and the `end` block height, select your desired filter and run it to create the dataframe.\n",
    "\n",
    "**Example:**\n",
    "  \n",
    "`start = 100`  \n",
    "`end = 200`  \n",
    "\n",
    "Will search for transactions between block 100 and block 200 included.\n",
    "\n",
    "You can also give **negative** values to `start` and this will scan the last chosen blocks **depending** on the `end` value.\n",
    "\n",
    "**Example:**\n",
    "\n",
    "`start = -10`  \n",
    "`end = 0`\n",
    "\n",
    "Will search for transactions in the last 10 blocks.\n",
    "\n",
    "**Example:**\n",
    "\n",
    "`start = -10`  \n",
    "`end = 5`\n",
    "\n",
    "Will search for transanction in 5 block starting from ten blocks ago."
   ]
  },
  {
   "cell_type": "code",
   "execution_count": 1,
   "metadata": {},
   "outputs": [
    {
     "name": "stderr",
     "output_type": "stream",
     "text": [
      "4514it [13:59,  5.38it/s]\n"
     ]
    },
    {
     "data": {
      "text/markdown": [
       "Created dataframe of **980** transactions in 840.54s"
      ]
     },
     "metadata": {},
     "output_type": "display_data"
    },
    {
     "data": {
      "text/markdown": [
       "[Save dataframe](#Save-dataframe)"
      ]
     },
     "metadata": {},
     "output_type": "display_data"
    },
    {
     "data": {
      "text/markdown": [
       "[Start analysis](#Glimpse)"
      ]
     },
     "metadata": {},
     "output_type": "display_data"
    }
   ],
   "source": [
    "import observatory as obs\n",
    "import advanced.filters as filters\n",
    "\n",
    "\n",
    "### INSERT HERE ###\n",
    "start = 659399\n",
    "end = 663912\n",
    "txid = ''\n",
    "address = ''\n",
    "\n",
    "\n",
    "### CHOOSE ONE OF THE FILTERS BELOW BY REMOVING THE '#' IN FRONT OF IT ###\n",
    "#tx_filter = filters.TxFilter() # This will return every transaction\n",
    "#tx_filter = filters.CjTxFilter()\n",
    "tx_filter = filters.WasabiTxFilter()\n",
    "#tx_filter = filters.JoinmarketTxFilter()\n",
    "#tx_filter = filters.TxidTxFilter(txid) # If you pick me, don't forget to insert a 'txid' above.\n",
    "#tx_filter = filters.AddressTxFilter(address) # If you pick me, don't forget to insert an 'address' above.\n",
    "#tx_filter = filters.CoinbaseTxFilter()\n",
    "\n",
    "txs = await obs.create_dataframe(start, end, tx_filter)"
   ]
  },
  {
   "cell_type": "markdown",
   "metadata": {},
   "source": [
    "[Back to menu](#Menu)\n",
    "\n",
    "---"
   ]
  },
  {
   "cell_type": "markdown",
   "metadata": {},
   "source": [
    "## Save dataframe"
   ]
  },
  {
   "cell_type": "markdown",
   "metadata": {},
   "source": [
    "Insert the **filepath** where to save and run the cell.\n",
    "\n",
    "**Examples:**\n",
    "    \n",
    "`filepath = 'thisfilename'`  \n",
    "`filepath = '/home/thisfilename'`  \n",
    "`filepath = 'results/wasabi/thisfilename'`\n",
    "\n",
    "Will create a `thisfilename.ftr` file into the given filepath."
   ]
  },
  {
   "cell_type": "code",
   "execution_count": 2,
   "metadata": {},
   "outputs": [
    {
     "name": "stdout",
     "output_type": "stream",
     "text": [
      "Dataframe succesfully saved in 0.34s\n"
     ]
    }
   ],
   "source": [
    "### INSERT HERE ###\n",
    "filepath = 'results/Wasabi_txs_december'\n",
    "\n",
    "\n",
    "obs.save(filepath, txs)"
   ]
  },
  {
   "cell_type": "markdown",
   "metadata": {},
   "source": [
    "[Back to menu](#Menu)\n",
    "\n",
    "---"
   ]
  },
  {
   "cell_type": "markdown",
   "metadata": {},
   "source": [
    "## Load existing dataframe"
   ]
  },
  {
   "cell_type": "markdown",
   "metadata": {},
   "source": [
    "Insert the **filepath** of the dataframe to load and run the cell.\n",
    "\n",
    "**Examples:**\n",
    "    \n",
    "`filepath = 'thisfilename'`  \n",
    "`filepath = '/home/thisfilename'`  \n",
    "`filepath = 'results/mytxs/thisfilename'`\n",
    "\n",
    "Will load the `thisfilename.ftr` file from the given filepath."
   ]
  },
  {
   "cell_type": "code",
   "execution_count": null,
   "metadata": {},
   "outputs": [],
   "source": [
    "import observatory as obs\n",
    "\n",
    "\n",
    "### INSERT HERE ###\n",
    "filepath = 'results/mydataframe'\n",
    "\n",
    "\n",
    "txs = obs.load(filepath)"
   ]
  },
  {
   "cell_type": "markdown",
   "metadata": {},
   "source": [
    "[Back to menu](#Menu)\n",
    "\n",
    "---"
   ]
  },
  {
   "cell_type": "markdown",
   "metadata": {},
   "source": [
    "## Glimpse"
   ]
  },
  {
   "cell_type": "markdown",
   "metadata": {},
   "source": [
    "Run the cell below for a glimpse of the dataframe. \n",
    "\n",
    "You can change the `n_txs` value to specify how many transactions to display.  \n",
    "You can also give `n_txs` a **negative** value to display the last n transactions.\n",
    "\n",
    "You can insert the `sort_by` value to specify which column should give the ordering. e.g. 'n_eq', 'date', etc... Default is 'date'."
   ]
  },
  {
   "cell_type": "code",
   "execution_count": 3,
   "metadata": {},
   "outputs": [
    {
     "data": {
      "text/markdown": [
       "**980 total transactions**"
      ]
     },
     "metadata": {},
     "output_type": "display_data"
    },
    {
     "data": {
      "text/html": [
       "<div>\n",
       "<style scoped>\n",
       "    .dataframe tbody tr th:only-of-type {\n",
       "        vertical-align: middle;\n",
       "    }\n",
       "\n",
       "    .dataframe tbody tr th {\n",
       "        vertical-align: top;\n",
       "    }\n",
       "\n",
       "    .dataframe thead th {\n",
       "        text-align: right;\n",
       "    }\n",
       "</style>\n",
       "<table border=\"1\" class=\"dataframe\">\n",
       "  <thead>\n",
       "    <tr style=\"text-align: right;\">\n",
       "      <th></th>\n",
       "      <th>version</th>\n",
       "      <th>size</th>\n",
       "      <th>vsize</th>\n",
       "      <th>weight</th>\n",
       "      <th>locktime</th>\n",
       "      <th>n_in</th>\n",
       "      <th>n_out</th>\n",
       "      <th>n_eq</th>\n",
       "      <th>den</th>\n",
       "      <th>abs_fee</th>\n",
       "      <th>rel_fee</th>\n",
       "      <th>height</th>\n",
       "      <th>date</th>\n",
       "    </tr>\n",
       "    <tr>\n",
       "      <th>txid</th>\n",
       "      <th></th>\n",
       "      <th></th>\n",
       "      <th></th>\n",
       "      <th></th>\n",
       "      <th></th>\n",
       "      <th></th>\n",
       "      <th></th>\n",
       "      <th></th>\n",
       "      <th></th>\n",
       "      <th></th>\n",
       "      <th></th>\n",
       "      <th></th>\n",
       "      <th></th>\n",
       "    </tr>\n",
       "  </thead>\n",
       "  <tbody>\n",
       "    <tr>\n",
       "      <th>98660dc0618aa8b05c4d405aaf747207f19e04a84a2efb9ab25b1c5ed6b58c14</th>\n",
       "      <td>1</td>\n",
       "      <td>14587</td>\n",
       "      <td>8969</td>\n",
       "      <td>35875</td>\n",
       "      <td>0</td>\n",
       "      <td>70</td>\n",
       "      <td>136</td>\n",
       "      <td>54</td>\n",
       "      <td>0.096440</td>\n",
       "      <td>0.000299</td>\n",
       "      <td>3.3</td>\n",
       "      <td>659463</td>\n",
       "      <td>2020-12-01 07:20:00</td>\n",
       "    </tr>\n",
       "    <tr>\n",
       "      <th>50b1e459e028da9dd3300ac2e042c5afc471fb0ea75c52d1faa6a5feaff676cf</th>\n",
       "      <td>1</td>\n",
       "      <td>18312</td>\n",
       "      <td>10607</td>\n",
       "      <td>42426</td>\n",
       "      <td>0</td>\n",
       "      <td>96</td>\n",
       "      <td>132</td>\n",
       "      <td>60</td>\n",
       "      <td>0.096485</td>\n",
       "      <td>0.000360</td>\n",
       "      <td>3.4</td>\n",
       "      <td>659463</td>\n",
       "      <td>2020-12-01 07:20:00</td>\n",
       "    </tr>\n",
       "    <tr>\n",
       "      <th>d7cfd7ca48769203ff978b06cf21196ac48a25851c0a7655cf7c85f7c7fc6afa</th>\n",
       "      <td>1</td>\n",
       "      <td>11992</td>\n",
       "      <td>7176</td>\n",
       "      <td>28702</td>\n",
       "      <td>0</td>\n",
       "      <td>60</td>\n",
       "      <td>100</td>\n",
       "      <td>49</td>\n",
       "      <td>0.096358</td>\n",
       "      <td>0.000241</td>\n",
       "      <td>3.4</td>\n",
       "      <td>659463</td>\n",
       "      <td>2020-12-01 07:20:00</td>\n",
       "    </tr>\n",
       "    <tr>\n",
       "      <th>d4a84271eed60c09ee51ec782e02410209441d57fc6f675063c8832d4f3deb25</th>\n",
       "      <td>1</td>\n",
       "      <td>20107</td>\n",
       "      <td>11681</td>\n",
       "      <td>46723</td>\n",
       "      <td>0</td>\n",
       "      <td>105</td>\n",
       "      <td>147</td>\n",
       "      <td>72</td>\n",
       "      <td>0.096381</td>\n",
       "      <td>0.000396</td>\n",
       "      <td>3.4</td>\n",
       "      <td>659463</td>\n",
       "      <td>2020-12-01 07:20:00</td>\n",
       "    </tr>\n",
       "    <tr>\n",
       "      <th>fcd42f52b3675b14b76b8f18d86776e9dc9f1ab682879db0393eb2ec010abf65</th>\n",
       "      <td>1</td>\n",
       "      <td>16775</td>\n",
       "      <td>9954</td>\n",
       "      <td>39815</td>\n",
       "      <td>0</td>\n",
       "      <td>85</td>\n",
       "      <td>135</td>\n",
       "      <td>63</td>\n",
       "      <td>0.096360</td>\n",
       "      <td>0.000336</td>\n",
       "      <td>3.4</td>\n",
       "      <td>659463</td>\n",
       "      <td>2020-12-01 07:20:00</td>\n",
       "    </tr>\n",
       "    <tr>\n",
       "      <th>7d44a19156824d8e3126a77b61293e2ebcd6e567901558af580ad61cd1e415dd</th>\n",
       "      <td>1</td>\n",
       "      <td>17142</td>\n",
       "      <td>10239</td>\n",
       "      <td>40956</td>\n",
       "      <td>0</td>\n",
       "      <td>86</td>\n",
       "      <td>142</td>\n",
       "      <td>61</td>\n",
       "      <td>0.096408</td>\n",
       "      <td>0.000344</td>\n",
       "      <td>3.4</td>\n",
       "      <td>659463</td>\n",
       "      <td>2020-12-01 07:20:00</td>\n",
       "    </tr>\n",
       "    <tr>\n",
       "      <th>b6d3dd184423ed9621f8a27f6acb2457ae7713063b023d1a65bb04d8b22aedbd</th>\n",
       "      <td>1</td>\n",
       "      <td>17741</td>\n",
       "      <td>10598</td>\n",
       "      <td>42389</td>\n",
       "      <td>0</td>\n",
       "      <td>89</td>\n",
       "      <td>147</td>\n",
       "      <td>60</td>\n",
       "      <td>0.096327</td>\n",
       "      <td>0.010204</td>\n",
       "      <td>96.3</td>\n",
       "      <td>659463</td>\n",
       "      <td>2020-12-01 07:20:00</td>\n",
       "    </tr>\n",
       "    <tr>\n",
       "      <th>567c96a8343fb4aff21a9a197ecb5732abdbfbb1e5c34ae5f8a010777c215097</th>\n",
       "      <td>1</td>\n",
       "      <td>17156</td>\n",
       "      <td>10414</td>\n",
       "      <td>41654</td>\n",
       "      <td>0</td>\n",
       "      <td>84</td>\n",
       "      <td>152</td>\n",
       "      <td>69</td>\n",
       "      <td>0.096211</td>\n",
       "      <td>0.010566</td>\n",
       "      <td>101.5</td>\n",
       "      <td>659463</td>\n",
       "      <td>2020-12-01 07:20:00</td>\n",
       "    </tr>\n",
       "    <tr>\n",
       "      <th>4f2440996cb288dd11be28800a961f760135d698f3dce5fece3224a78a6fa38b</th>\n",
       "      <td>1</td>\n",
       "      <td>23501</td>\n",
       "      <td>14193</td>\n",
       "      <td>56771</td>\n",
       "      <td>0</td>\n",
       "      <td>116</td>\n",
       "      <td>204</td>\n",
       "      <td>98</td>\n",
       "      <td>0.095956</td>\n",
       "      <td>0.014639</td>\n",
       "      <td>103.1</td>\n",
       "      <td>659571</td>\n",
       "      <td>2020-12-02 05:42:00</td>\n",
       "    </tr>\n",
       "    <tr>\n",
       "      <th>8962cfcf5af7dcea3ca343e9137270da7426b257eeb828138ea99fcf9b0a11e4</th>\n",
       "      <td>1</td>\n",
       "      <td>19107</td>\n",
       "      <td>11643</td>\n",
       "      <td>46572</td>\n",
       "      <td>0</td>\n",
       "      <td>93</td>\n",
       "      <td>172</td>\n",
       "      <td>78</td>\n",
       "      <td>0.095958</td>\n",
       "      <td>0.011762</td>\n",
       "      <td>101.0</td>\n",
       "      <td>659571</td>\n",
       "      <td>2020-12-02 05:42:00</td>\n",
       "    </tr>\n",
       "  </tbody>\n",
       "</table>\n",
       "</div>"
      ],
      "text/plain": [
       "                                                    version   size  vsize  \\\n",
       "txid                                                                        \n",
       "98660dc0618aa8b05c4d405aaf747207f19e04a84a2efb9...        1  14587   8969   \n",
       "50b1e459e028da9dd3300ac2e042c5afc471fb0ea75c52d...        1  18312  10607   \n",
       "d7cfd7ca48769203ff978b06cf21196ac48a25851c0a765...        1  11992   7176   \n",
       "d4a84271eed60c09ee51ec782e02410209441d57fc6f675...        1  20107  11681   \n",
       "fcd42f52b3675b14b76b8f18d86776e9dc9f1ab682879db...        1  16775   9954   \n",
       "7d44a19156824d8e3126a77b61293e2ebcd6e567901558a...        1  17142  10239   \n",
       "b6d3dd184423ed9621f8a27f6acb2457ae7713063b023d1...        1  17741  10598   \n",
       "567c96a8343fb4aff21a9a197ecb5732abdbfbb1e5c34ae...        1  17156  10414   \n",
       "4f2440996cb288dd11be28800a961f760135d698f3dce5f...        1  23501  14193   \n",
       "8962cfcf5af7dcea3ca343e9137270da7426b257eeb8281...        1  19107  11643   \n",
       "\n",
       "                                                    weight  locktime  n_in  \\\n",
       "txid                                                                         \n",
       "98660dc0618aa8b05c4d405aaf747207f19e04a84a2efb9...   35875         0    70   \n",
       "50b1e459e028da9dd3300ac2e042c5afc471fb0ea75c52d...   42426         0    96   \n",
       "d7cfd7ca48769203ff978b06cf21196ac48a25851c0a765...   28702         0    60   \n",
       "d4a84271eed60c09ee51ec782e02410209441d57fc6f675...   46723         0   105   \n",
       "fcd42f52b3675b14b76b8f18d86776e9dc9f1ab682879db...   39815         0    85   \n",
       "7d44a19156824d8e3126a77b61293e2ebcd6e567901558a...   40956         0    86   \n",
       "b6d3dd184423ed9621f8a27f6acb2457ae7713063b023d1...   42389         0    89   \n",
       "567c96a8343fb4aff21a9a197ecb5732abdbfbb1e5c34ae...   41654         0    84   \n",
       "4f2440996cb288dd11be28800a961f760135d698f3dce5f...   56771         0   116   \n",
       "8962cfcf5af7dcea3ca343e9137270da7426b257eeb8281...   46572         0    93   \n",
       "\n",
       "                                                    n_out  n_eq       den  \\\n",
       "txid                                                                        \n",
       "98660dc0618aa8b05c4d405aaf747207f19e04a84a2efb9...    136    54  0.096440   \n",
       "50b1e459e028da9dd3300ac2e042c5afc471fb0ea75c52d...    132    60  0.096485   \n",
       "d7cfd7ca48769203ff978b06cf21196ac48a25851c0a765...    100    49  0.096358   \n",
       "d4a84271eed60c09ee51ec782e02410209441d57fc6f675...    147    72  0.096381   \n",
       "fcd42f52b3675b14b76b8f18d86776e9dc9f1ab682879db...    135    63  0.096360   \n",
       "7d44a19156824d8e3126a77b61293e2ebcd6e567901558a...    142    61  0.096408   \n",
       "b6d3dd184423ed9621f8a27f6acb2457ae7713063b023d1...    147    60  0.096327   \n",
       "567c96a8343fb4aff21a9a197ecb5732abdbfbb1e5c34ae...    152    69  0.096211   \n",
       "4f2440996cb288dd11be28800a961f760135d698f3dce5f...    204    98  0.095956   \n",
       "8962cfcf5af7dcea3ca343e9137270da7426b257eeb8281...    172    78  0.095958   \n",
       "\n",
       "                                                     abs_fee  rel_fee  height  \\\n",
       "txid                                                                            \n",
       "98660dc0618aa8b05c4d405aaf747207f19e04a84a2efb9...  0.000299      3.3  659463   \n",
       "50b1e459e028da9dd3300ac2e042c5afc471fb0ea75c52d...  0.000360      3.4  659463   \n",
       "d7cfd7ca48769203ff978b06cf21196ac48a25851c0a765...  0.000241      3.4  659463   \n",
       "d4a84271eed60c09ee51ec782e02410209441d57fc6f675...  0.000396      3.4  659463   \n",
       "fcd42f52b3675b14b76b8f18d86776e9dc9f1ab682879db...  0.000336      3.4  659463   \n",
       "7d44a19156824d8e3126a77b61293e2ebcd6e567901558a...  0.000344      3.4  659463   \n",
       "b6d3dd184423ed9621f8a27f6acb2457ae7713063b023d1...  0.010204     96.3  659463   \n",
       "567c96a8343fb4aff21a9a197ecb5732abdbfbb1e5c34ae...  0.010566    101.5  659463   \n",
       "4f2440996cb288dd11be28800a961f760135d698f3dce5f...  0.014639    103.1  659571   \n",
       "8962cfcf5af7dcea3ca343e9137270da7426b257eeb8281...  0.011762    101.0  659571   \n",
       "\n",
       "                                                                  date  \n",
       "txid                                                                    \n",
       "98660dc0618aa8b05c4d405aaf747207f19e04a84a2efb9... 2020-12-01 07:20:00  \n",
       "50b1e459e028da9dd3300ac2e042c5afc471fb0ea75c52d... 2020-12-01 07:20:00  \n",
       "d7cfd7ca48769203ff978b06cf21196ac48a25851c0a765... 2020-12-01 07:20:00  \n",
       "d4a84271eed60c09ee51ec782e02410209441d57fc6f675... 2020-12-01 07:20:00  \n",
       "fcd42f52b3675b14b76b8f18d86776e9dc9f1ab682879db... 2020-12-01 07:20:00  \n",
       "7d44a19156824d8e3126a77b61293e2ebcd6e567901558a... 2020-12-01 07:20:00  \n",
       "b6d3dd184423ed9621f8a27f6acb2457ae7713063b023d1... 2020-12-01 07:20:00  \n",
       "567c96a8343fb4aff21a9a197ecb5732abdbfbb1e5c34ae... 2020-12-01 07:20:00  \n",
       "4f2440996cb288dd11be28800a961f760135d698f3dce5f... 2020-12-02 05:42:00  \n",
       "8962cfcf5af7dcea3ca343e9137270da7426b257eeb8281... 2020-12-02 05:42:00  "
      ]
     },
     "metadata": {},
     "output_type": "display_data"
    }
   ],
   "source": [
    "### INSERT HERE ###\n",
    "n_txs = 10\n",
    "sort_by = ''\n",
    "\n",
    "\n",
    "obs.show_intro(txs, n_txs, sort_by)"
   ]
  },
  {
   "cell_type": "markdown",
   "metadata": {},
   "source": [
    "[Back to menu](#Menu)\n",
    "\n",
    "---"
   ]
  },
  {
   "cell_type": "markdown",
   "metadata": {},
   "source": [
    "## Stats"
   ]
  },
  {
   "cell_type": "markdown",
   "metadata": {},
   "source": [
    "Run the cell below for a list of statistics about the dataframe."
   ]
  },
  {
   "cell_type": "code",
   "execution_count": 4,
   "metadata": {},
   "outputs": [
    {
     "data": {
      "text/html": [
       "<div>\n",
       "<style scoped>\n",
       "    .dataframe tbody tr th:only-of-type {\n",
       "        vertical-align: middle;\n",
       "    }\n",
       "\n",
       "    .dataframe tbody tr th {\n",
       "        vertical-align: top;\n",
       "    }\n",
       "\n",
       "    .dataframe thead th {\n",
       "        text-align: right;\n",
       "    }\n",
       "</style>\n",
       "<table border=\"1\" class=\"dataframe\">\n",
       "  <thead>\n",
       "    <tr style=\"text-align: right;\">\n",
       "      <th></th>\n",
       "      <th>version</th>\n",
       "      <th>size</th>\n",
       "      <th>vsize</th>\n",
       "      <th>weight</th>\n",
       "      <th>locktime</th>\n",
       "      <th>n_in</th>\n",
       "      <th>n_out</th>\n",
       "      <th>n_eq</th>\n",
       "      <th>den</th>\n",
       "      <th>abs_fee</th>\n",
       "      <th>rel_fee</th>\n",
       "      <th>height</th>\n",
       "    </tr>\n",
       "  </thead>\n",
       "  <tbody>\n",
       "    <tr>\n",
       "      <th>count</th>\n",
       "      <td>980.000000</td>\n",
       "      <td>980.000000</td>\n",
       "      <td>980.000000</td>\n",
       "      <td>980.000000</td>\n",
       "      <td>980.000000</td>\n",
       "      <td>980.000000</td>\n",
       "      <td>980.000000</td>\n",
       "      <td>980.000000</td>\n",
       "      <td>980.000000</td>\n",
       "      <td>980.000000</td>\n",
       "      <td>980.000000</td>\n",
       "      <td>980.000000</td>\n",
       "    </tr>\n",
       "    <tr>\n",
       "      <th>mean</th>\n",
       "      <td>1.002041</td>\n",
       "      <td>16768.358163</td>\n",
       "      <td>9966.151020</td>\n",
       "      <td>39863.080612</td>\n",
       "      <td>1352.679592</td>\n",
       "      <td>84.755102</td>\n",
       "      <td>135.912245</td>\n",
       "      <td>62.940816</td>\n",
       "      <td>0.098933</td>\n",
       "      <td>0.000952</td>\n",
       "      <td>9.688163</td>\n",
       "      <td>661662.050000</td>\n",
       "    </tr>\n",
       "    <tr>\n",
       "      <th>std</th>\n",
       "      <td>0.045152</td>\n",
       "      <td>6859.183561</td>\n",
       "      <td>4027.754838</td>\n",
       "      <td>16110.973976</td>\n",
       "      <td>29927.555329</td>\n",
       "      <td>35.475858</td>\n",
       "      <td>54.125516</td>\n",
       "      <td>24.281347</td>\n",
       "      <td>0.007455</td>\n",
       "      <td>0.002264</td>\n",
       "      <td>21.691786</td>\n",
       "      <td>1306.962012</td>\n",
       "    </tr>\n",
       "    <tr>\n",
       "      <th>min</th>\n",
       "      <td>1.000000</td>\n",
       "      <td>1179.000000</td>\n",
       "      <td>696.000000</td>\n",
       "      <td>2784.000000</td>\n",
       "      <td>0.000000</td>\n",
       "      <td>6.000000</td>\n",
       "      <td>9.000000</td>\n",
       "      <td>5.000000</td>\n",
       "      <td>0.091641</td>\n",
       "      <td>0.000023</td>\n",
       "      <td>3.300000</td>\n",
       "      <td>659463.000000</td>\n",
       "    </tr>\n",
       "    <tr>\n",
       "      <th>25%</th>\n",
       "      <td>1.000000</td>\n",
       "      <td>11326.750000</td>\n",
       "      <td>6739.000000</td>\n",
       "      <td>26955.250000</td>\n",
       "      <td>0.000000</td>\n",
       "      <td>56.000000</td>\n",
       "      <td>94.000000</td>\n",
       "      <td>44.000000</td>\n",
       "      <td>0.092856</td>\n",
       "      <td>0.000242</td>\n",
       "      <td>3.400000</td>\n",
       "      <td>660571.000000</td>\n",
       "    </tr>\n",
       "    <tr>\n",
       "      <th>50%</th>\n",
       "      <td>1.000000</td>\n",
       "      <td>16458.000000</td>\n",
       "      <td>9796.000000</td>\n",
       "      <td>39182.500000</td>\n",
       "      <td>0.000000</td>\n",
       "      <td>83.000000</td>\n",
       "      <td>135.000000</td>\n",
       "      <td>63.000000</td>\n",
       "      <td>0.094103</td>\n",
       "      <td>0.000362</td>\n",
       "      <td>3.400000</td>\n",
       "      <td>661558.000000</td>\n",
       "    </tr>\n",
       "    <tr>\n",
       "      <th>75%</th>\n",
       "      <td>1.000000</td>\n",
       "      <td>22791.250000</td>\n",
       "      <td>13606.750000</td>\n",
       "      <td>54424.500000</td>\n",
       "      <td>0.000000</td>\n",
       "      <td>115.000000</td>\n",
       "      <td>183.000000</td>\n",
       "      <td>85.000000</td>\n",
       "      <td>0.108591</td>\n",
       "      <td>0.000515</td>\n",
       "      <td>3.400000</td>\n",
       "      <td>662864.750000</td>\n",
       "    </tr>\n",
       "    <tr>\n",
       "      <th>max</th>\n",
       "      <td>2.000000</td>\n",
       "      <td>33159.000000</td>\n",
       "      <td>19034.000000</td>\n",
       "      <td>76134.000000</td>\n",
       "      <td>663421.000000</td>\n",
       "      <td>176.000000</td>\n",
       "      <td>261.000000</td>\n",
       "      <td>100.000000</td>\n",
       "      <td>0.109998</td>\n",
       "      <td>0.018844</td>\n",
       "      <td>142.400000</td>\n",
       "      <td>663911.000000</td>\n",
       "    </tr>\n",
       "  </tbody>\n",
       "</table>\n",
       "</div>"
      ],
      "text/plain": [
       "          version          size         vsize        weight       locktime  \\\n",
       "count  980.000000    980.000000    980.000000    980.000000     980.000000   \n",
       "mean     1.002041  16768.358163   9966.151020  39863.080612    1352.679592   \n",
       "std      0.045152   6859.183561   4027.754838  16110.973976   29927.555329   \n",
       "min      1.000000   1179.000000    696.000000   2784.000000       0.000000   \n",
       "25%      1.000000  11326.750000   6739.000000  26955.250000       0.000000   \n",
       "50%      1.000000  16458.000000   9796.000000  39182.500000       0.000000   \n",
       "75%      1.000000  22791.250000  13606.750000  54424.500000       0.000000   \n",
       "max      2.000000  33159.000000  19034.000000  76134.000000  663421.000000   \n",
       "\n",
       "             n_in       n_out        n_eq         den     abs_fee     rel_fee  \\\n",
       "count  980.000000  980.000000  980.000000  980.000000  980.000000  980.000000   \n",
       "mean    84.755102  135.912245   62.940816    0.098933    0.000952    9.688163   \n",
       "std     35.475858   54.125516   24.281347    0.007455    0.002264   21.691786   \n",
       "min      6.000000    9.000000    5.000000    0.091641    0.000023    3.300000   \n",
       "25%     56.000000   94.000000   44.000000    0.092856    0.000242    3.400000   \n",
       "50%     83.000000  135.000000   63.000000    0.094103    0.000362    3.400000   \n",
       "75%    115.000000  183.000000   85.000000    0.108591    0.000515    3.400000   \n",
       "max    176.000000  261.000000  100.000000    0.109998    0.018844  142.400000   \n",
       "\n",
       "              height  \n",
       "count     980.000000  \n",
       "mean   661662.050000  \n",
       "std      1306.962012  \n",
       "min    659463.000000  \n",
       "25%    660571.000000  \n",
       "50%    661558.000000  \n",
       "75%    662864.750000  \n",
       "max    663911.000000  "
      ]
     },
     "execution_count": 4,
     "metadata": {},
     "output_type": "execute_result"
    }
   ],
   "source": [
    "obs.show_stats(txs)"
   ]
  },
  {
   "cell_type": "markdown",
   "metadata": {},
   "source": [
    "[Back to menu](#Menu)\n",
    "\n",
    "---"
   ]
  },
  {
   "cell_type": "markdown",
   "metadata": {},
   "source": [
    "## Transaction explorer"
   ]
  },
  {
   "cell_type": "markdown",
   "metadata": {},
   "source": [
    "Run the cell below to display information about single transactions.\n",
    "\n",
    "If you set `display_all = True` the result will include every input and every output.  \n",
    "If the transaction is huge, or you are looking at more than one transanction. this could be slow or even freeze your browser."
   ]
  },
  {
   "cell_type": "code",
   "execution_count": 5,
   "metadata": {},
   "outputs": [
    {
     "data": {
      "text/html": [
       "<div>\n",
       "<style scoped>\n",
       "    .dataframe tbody tr th:only-of-type {\n",
       "        vertical-align: middle;\n",
       "    }\n",
       "\n",
       "    .dataframe tbody tr th {\n",
       "        vertical-align: top;\n",
       "    }\n",
       "\n",
       "    .dataframe thead th {\n",
       "        text-align: right;\n",
       "    }\n",
       "</style>\n",
       "<table border=\"1\" class=\"dataframe\">\n",
       "  <thead>\n",
       "    <tr style=\"text-align: right;\">\n",
       "      <th></th>\n",
       "      <th>version</th>\n",
       "      <th>size</th>\n",
       "      <th>vsize</th>\n",
       "      <th>weight</th>\n",
       "      <th>locktime</th>\n",
       "      <th>n_in</th>\n",
       "      <th>n_out</th>\n",
       "      <th>n_eq</th>\n",
       "      <th>den</th>\n",
       "      <th>abs_fee</th>\n",
       "      <th>rel_fee</th>\n",
       "      <th>height</th>\n",
       "      <th>date</th>\n",
       "    </tr>\n",
       "    <tr>\n",
       "      <th>txid</th>\n",
       "      <th></th>\n",
       "      <th></th>\n",
       "      <th></th>\n",
       "      <th></th>\n",
       "      <th></th>\n",
       "      <th></th>\n",
       "      <th></th>\n",
       "      <th></th>\n",
       "      <th></th>\n",
       "      <th></th>\n",
       "      <th></th>\n",
       "      <th></th>\n",
       "      <th></th>\n",
       "    </tr>\n",
       "  </thead>\n",
       "  <tbody>\n",
       "    <tr>\n",
       "      <th>4f2440996cb288dd11be28800a961f760135d698f3dce5fece3224a78a6fa38b</th>\n",
       "      <td>1</td>\n",
       "      <td>23501</td>\n",
       "      <td>14193</td>\n",
       "      <td>56771</td>\n",
       "      <td>0</td>\n",
       "      <td>116</td>\n",
       "      <td>204</td>\n",
       "      <td>98</td>\n",
       "      <td>0.095956</td>\n",
       "      <td>0.014639</td>\n",
       "      <td>103.1</td>\n",
       "      <td>659571</td>\n",
       "      <td>2020-12-02 05:42:00</td>\n",
       "    </tr>\n",
       "  </tbody>\n",
       "</table>\n",
       "</div>"
      ],
      "text/plain": [
       "                                                                  version  \\\n",
       "txid                                                                        \n",
       "4f2440996cb288dd11be28800a961f760135d698f3dce5fece3224a78a6fa38b        1   \n",
       "\n",
       "                                                                   size  \\\n",
       "txid                                                                      \n",
       "4f2440996cb288dd11be28800a961f760135d698f3dce5fece3224a78a6fa38b  23501   \n",
       "\n",
       "                                                                  vsize  \\\n",
       "txid                                                                      \n",
       "4f2440996cb288dd11be28800a961f760135d698f3dce5fece3224a78a6fa38b  14193   \n",
       "\n",
       "                                                                  weight  \\\n",
       "txid                                                                       \n",
       "4f2440996cb288dd11be28800a961f760135d698f3dce5fece3224a78a6fa38b   56771   \n",
       "\n",
       "                                                                  locktime  \\\n",
       "txid                                                                         \n",
       "4f2440996cb288dd11be28800a961f760135d698f3dce5fece3224a78a6fa38b         0   \n",
       "\n",
       "                                                                  n_in  n_out  \\\n",
       "txid                                                                            \n",
       "4f2440996cb288dd11be28800a961f760135d698f3dce5fece3224a78a6fa38b   116    204   \n",
       "\n",
       "                                                                  n_eq  \\\n",
       "txid                                                                     \n",
       "4f2440996cb288dd11be28800a961f760135d698f3dce5fece3224a78a6fa38b    98   \n",
       "\n",
       "                                                                       den  \\\n",
       "txid                                                                         \n",
       "4f2440996cb288dd11be28800a961f760135d698f3dce5fece3224a78a6fa38b  0.095956   \n",
       "\n",
       "                                                                   abs_fee  \\\n",
       "txid                                                                         \n",
       "4f2440996cb288dd11be28800a961f760135d698f3dce5fece3224a78a6fa38b  0.014639   \n",
       "\n",
       "                                                                  rel_fee  \\\n",
       "txid                                                                        \n",
       "4f2440996cb288dd11be28800a961f760135d698f3dce5fece3224a78a6fa38b    103.1   \n",
       "\n",
       "                                                                  height  \\\n",
       "txid                                                                       \n",
       "4f2440996cb288dd11be28800a961f760135d698f3dce5fece3224a78a6fa38b  659571   \n",
       "\n",
       "                                                                                date  \n",
       "txid                                                                                  \n",
       "4f2440996cb288dd11be28800a961f760135d698f3dce5fece3224a78a6fa38b 2020-12-02 05:42:00  "
      ]
     },
     "metadata": {},
     "output_type": "display_data"
    },
    {
     "data": {
      "text/markdown": [
       "### Inputs"
      ]
     },
     "metadata": {},
     "output_type": "display_data"
    },
    {
     "data": {
      "text/html": [
       "<div>\n",
       "<style scoped>\n",
       "    .dataframe tbody tr th:only-of-type {\n",
       "        vertical-align: middle;\n",
       "    }\n",
       "\n",
       "    .dataframe tbody tr th {\n",
       "        vertical-align: top;\n",
       "    }\n",
       "\n",
       "    .dataframe thead th {\n",
       "        text-align: right;\n",
       "    }\n",
       "</style>\n",
       "<table border=\"1\" class=\"dataframe\">\n",
       "  <thead>\n",
       "    <tr style=\"text-align: right;\">\n",
       "      <th></th>\n",
       "      <th>txid</th>\n",
       "      <th>height</th>\n",
       "      <th>value</th>\n",
       "      <th>vout</th>\n",
       "      <th>addresses</th>\n",
       "      <th>type</th>\n",
       "      <th>available</th>\n",
       "    </tr>\n",
       "  </thead>\n",
       "  <tbody>\n",
       "    <tr>\n",
       "      <th>0</th>\n",
       "      <td>41eb60a3a9ed55fdfa77f9faa99bb0585d48f557b93e6b251a5d4dadf8b5fa4a</td>\n",
       "      <td>657899</td>\n",
       "      <td>0.000623</td>\n",
       "      <td>3</td>\n",
       "      <td>[bc1qu5fcz70efqgckftcelmn2rqw9my0cgt7rke9rn]</td>\n",
       "      <td>witness_v0_keyhash</td>\n",
       "      <td>False</td>\n",
       "    </tr>\n",
       "    <tr>\n",
       "      <th>1</th>\n",
       "      <td>10e61f2b31da4480c497214d5d6be3c716171b299fdfbbe29a10358438ff701b</td>\n",
       "      <td>659571</td>\n",
       "      <td>0.000678</td>\n",
       "      <td>4</td>\n",
       "      <td>[bc1qz5jpa2yl9zrz86ekdfyunjwhuep9qkrg90x5wk]</td>\n",
       "      <td>witness_v0_keyhash</td>\n",
       "      <td>True</td>\n",
       "    </tr>\n",
       "    <tr>\n",
       "      <th>2</th>\n",
       "      <td>df840f1fcfd12b7223e938e8e8a3915f80f4afc89d7a78ccbef08eace182ea09</td>\n",
       "      <td>658895</td>\n",
       "      <td>0.000727</td>\n",
       "      <td>3</td>\n",
       "      <td>[bc1qxz982jsyulr7ujj04jadq3tjqy46d8jfpw9sl6]</td>\n",
       "      <td>witness_v0_keyhash</td>\n",
       "      <td>False</td>\n",
       "    </tr>\n",
       "    <tr>\n",
       "      <th>3</th>\n",
       "      <td>19416dda6e00d732716ec9460558c2fdd63cbd0389f45a1937f61a21d420d6da</td>\n",
       "      <td>658987</td>\n",
       "      <td>0.001308</td>\n",
       "      <td>8</td>\n",
       "      <td>[bc1q9eek503mhrjw7cf259tj8daz6483za4u0ce4xx]</td>\n",
       "      <td>witness_v0_keyhash</td>\n",
       "      <td>False</td>\n",
       "    </tr>\n",
       "    <tr>\n",
       "      <th>4</th>\n",
       "      <td>d5590333a3c058fe2f5162e7f167a67e82845f7134b0e13a965d7ad319aa50dd</td>\n",
       "      <td>658974</td>\n",
       "      <td>0.001395</td>\n",
       "      <td>8</td>\n",
       "      <td>[bc1qv9nhy9pug52a0rw5nfuh92l0fchw8ajrhafx62]</td>\n",
       "      <td>witness_v0_keyhash</td>\n",
       "      <td>False</td>\n",
       "    </tr>\n",
       "    <tr>\n",
       "      <th>...</th>\n",
       "      <td>...</td>\n",
       "      <td>...</td>\n",
       "      <td>...</td>\n",
       "      <td>...</td>\n",
       "      <td>...</td>\n",
       "      <td>...</td>\n",
       "      <td>...</td>\n",
       "    </tr>\n",
       "    <tr>\n",
       "      <th>111</th>\n",
       "      <td>948ab450aec2083eede2937cea1611165aee2fd0d0624691df2150898bd1179f</td>\n",
       "      <td>659477</td>\n",
       "      <td>1.000000</td>\n",
       "      <td>0</td>\n",
       "      <td>[bc1qkh2nny5j2hqmyf9slgkpsugs4qzd7y9cj4d2yl]</td>\n",
       "      <td>witness_v0_keyhash</td>\n",
       "      <td>False</td>\n",
       "    </tr>\n",
       "    <tr>\n",
       "      <th>112</th>\n",
       "      <td>b33faa5554691ae4a5ecf14357c2bae1e7568fa792866df9bbeceb9bca1bd806</td>\n",
       "      <td>659454</td>\n",
       "      <td>1.622540</td>\n",
       "      <td>0</td>\n",
       "      <td>[bc1qgeuzv0fpdae8f0w4hehgs5gelv6v6ep77eck5c]</td>\n",
       "      <td>witness_v0_keyhash</td>\n",
       "      <td>False</td>\n",
       "    </tr>\n",
       "    <tr>\n",
       "      <th>113</th>\n",
       "      <td>f4c86484d90e02e75e4acaf29f7282f370a34ebd9c34873d7cac60c631a538e6</td>\n",
       "      <td>659353</td>\n",
       "      <td>2.005861</td>\n",
       "      <td>0</td>\n",
       "      <td>[bc1qyktmtl822xp8s5e5k2a9flqjcfv44k8aqhu3hv]</td>\n",
       "      <td>witness_v0_keyhash</td>\n",
       "      <td>False</td>\n",
       "    </tr>\n",
       "    <tr>\n",
       "      <th>114</th>\n",
       "      <td>89951959e7af80f78924e80c5acb2e1143cb492669ade49c89b24279e32266af</td>\n",
       "      <td>659571</td>\n",
       "      <td>2.339591</td>\n",
       "      <td>213</td>\n",
       "      <td>[bc1qvfuwcgpu9s4vz5trvty4mvgju5d6knuszpe9a0]</td>\n",
       "      <td>witness_v0_keyhash</td>\n",
       "      <td>True</td>\n",
       "    </tr>\n",
       "    <tr>\n",
       "      <th>115</th>\n",
       "      <td>8943e13528ddf6603a24883b3c95711a8ed22ee525f7c03125bc89289c6a0a2a</td>\n",
       "      <td>659468</td>\n",
       "      <td>6.386673</td>\n",
       "      <td>1</td>\n",
       "      <td>[bc1qa6d0jgt5726772ge4ese0zvd9gyvll5dg0tp6a]</td>\n",
       "      <td>witness_v0_keyhash</td>\n",
       "      <td>False</td>\n",
       "    </tr>\n",
       "  </tbody>\n",
       "</table>\n",
       "<p>116 rows × 7 columns</p>\n",
       "</div>"
      ],
      "text/plain": [
       "                                                                 txid  height  \\\n",
       "0    41eb60a3a9ed55fdfa77f9faa99bb0585d48f557b93e6b251a5d4dadf8b5fa4a  657899   \n",
       "1    10e61f2b31da4480c497214d5d6be3c716171b299fdfbbe29a10358438ff701b  659571   \n",
       "2    df840f1fcfd12b7223e938e8e8a3915f80f4afc89d7a78ccbef08eace182ea09  658895   \n",
       "3    19416dda6e00d732716ec9460558c2fdd63cbd0389f45a1937f61a21d420d6da  658987   \n",
       "4    d5590333a3c058fe2f5162e7f167a67e82845f7134b0e13a965d7ad319aa50dd  658974   \n",
       "..                                                                ...     ...   \n",
       "111  948ab450aec2083eede2937cea1611165aee2fd0d0624691df2150898bd1179f  659477   \n",
       "112  b33faa5554691ae4a5ecf14357c2bae1e7568fa792866df9bbeceb9bca1bd806  659454   \n",
       "113  f4c86484d90e02e75e4acaf29f7282f370a34ebd9c34873d7cac60c631a538e6  659353   \n",
       "114  89951959e7af80f78924e80c5acb2e1143cb492669ade49c89b24279e32266af  659571   \n",
       "115  8943e13528ddf6603a24883b3c95711a8ed22ee525f7c03125bc89289c6a0a2a  659468   \n",
       "\n",
       "        value  vout                                     addresses  \\\n",
       "0    0.000623     3  [bc1qu5fcz70efqgckftcelmn2rqw9my0cgt7rke9rn]   \n",
       "1    0.000678     4  [bc1qz5jpa2yl9zrz86ekdfyunjwhuep9qkrg90x5wk]   \n",
       "2    0.000727     3  [bc1qxz982jsyulr7ujj04jadq3tjqy46d8jfpw9sl6]   \n",
       "3    0.001308     8  [bc1q9eek503mhrjw7cf259tj8daz6483za4u0ce4xx]   \n",
       "4    0.001395     8  [bc1qv9nhy9pug52a0rw5nfuh92l0fchw8ajrhafx62]   \n",
       "..        ...   ...                                           ...   \n",
       "111  1.000000     0  [bc1qkh2nny5j2hqmyf9slgkpsugs4qzd7y9cj4d2yl]   \n",
       "112  1.622540     0  [bc1qgeuzv0fpdae8f0w4hehgs5gelv6v6ep77eck5c]   \n",
       "113  2.005861     0  [bc1qyktmtl822xp8s5e5k2a9flqjcfv44k8aqhu3hv]   \n",
       "114  2.339591   213  [bc1qvfuwcgpu9s4vz5trvty4mvgju5d6knuszpe9a0]   \n",
       "115  6.386673     1  [bc1qa6d0jgt5726772ge4ese0zvd9gyvll5dg0tp6a]   \n",
       "\n",
       "                   type  available  \n",
       "0    witness_v0_keyhash      False  \n",
       "1    witness_v0_keyhash       True  \n",
       "2    witness_v0_keyhash      False  \n",
       "3    witness_v0_keyhash      False  \n",
       "4    witness_v0_keyhash      False  \n",
       "..                  ...        ...  \n",
       "111  witness_v0_keyhash      False  \n",
       "112  witness_v0_keyhash      False  \n",
       "113  witness_v0_keyhash      False  \n",
       "114  witness_v0_keyhash       True  \n",
       "115  witness_v0_keyhash      False  \n",
       "\n",
       "[116 rows x 7 columns]"
      ]
     },
     "metadata": {},
     "output_type": "display_data"
    },
    {
     "data": {
      "text/markdown": [
       "### Outputs"
      ]
     },
     "metadata": {},
     "output_type": "display_data"
    },
    {
     "data": {
      "text/html": [
       "<div>\n",
       "<style scoped>\n",
       "    .dataframe tbody tr th:only-of-type {\n",
       "        vertical-align: middle;\n",
       "    }\n",
       "\n",
       "    .dataframe tbody tr th {\n",
       "        vertical-align: top;\n",
       "    }\n",
       "\n",
       "    .dataframe thead th {\n",
       "        text-align: right;\n",
       "    }\n",
       "</style>\n",
       "<table border=\"1\" class=\"dataframe\">\n",
       "  <thead>\n",
       "    <tr style=\"text-align: right;\">\n",
       "      <th></th>\n",
       "      <th>value</th>\n",
       "      <th>addresses</th>\n",
       "      <th>type</th>\n",
       "    </tr>\n",
       "    <tr>\n",
       "      <th>vout</th>\n",
       "      <th></th>\n",
       "      <th></th>\n",
       "      <th></th>\n",
       "    </tr>\n",
       "  </thead>\n",
       "  <tbody>\n",
       "    <tr>\n",
       "      <th>0</th>\n",
       "      <td>0.000321</td>\n",
       "      <td>[bc1q0eu54y63xsqpp4ltqg39qnqxj76hh6c3c4la4p]</td>\n",
       "      <td>witness_v0_keyhash</td>\n",
       "    </tr>\n",
       "    <tr>\n",
       "      <th>1</th>\n",
       "      <td>0.000364</td>\n",
       "      <td>[bc1qpxf79d9mx4gqv9u35pqajvty7yps7tx6zzx3c2]</td>\n",
       "      <td>witness_v0_keyhash</td>\n",
       "    </tr>\n",
       "    <tr>\n",
       "      <th>2</th>\n",
       "      <td>0.000498</td>\n",
       "      <td>[bc1qlh8lgjzgl2zr0duylcdv5t6k2u8su7czktcn7p]</td>\n",
       "      <td>witness_v0_keyhash</td>\n",
       "    </tr>\n",
       "    <tr>\n",
       "      <th>3</th>\n",
       "      <td>0.000620</td>\n",
       "      <td>[bc1q7eqgxqsqzwmjcr6l04hmmy4mcwugk7kc40mshj]</td>\n",
       "      <td>witness_v0_keyhash</td>\n",
       "    </tr>\n",
       "    <tr>\n",
       "      <th>4</th>\n",
       "      <td>0.001048</td>\n",
       "      <td>[bc1qaumjumnpjw9qsyke2y6yrjcszwkl346mux7wqz]</td>\n",
       "      <td>witness_v0_keyhash</td>\n",
       "    </tr>\n",
       "    <tr>\n",
       "      <th>...</th>\n",
       "      <td>...</td>\n",
       "      <td>...</td>\n",
       "      <td>...</td>\n",
       "    </tr>\n",
       "    <tr>\n",
       "      <th>199</th>\n",
       "      <td>0.767558</td>\n",
       "      <td>[bc1qrdlpgmvf82cpma5pfwcw498s9z39f7z4zpqel8]</td>\n",
       "      <td>witness_v0_keyhash</td>\n",
       "    </tr>\n",
       "    <tr>\n",
       "      <th>200</th>\n",
       "      <td>0.767558</td>\n",
       "      <td>[bc1qc3afhju020vsfcayclepr2ypkcjqdswdd7ckl3]</td>\n",
       "      <td>witness_v0_keyhash</td>\n",
       "    </tr>\n",
       "    <tr>\n",
       "      <th>201</th>\n",
       "      <td>0.767558</td>\n",
       "      <td>[bc1q0kjnlq5x0x8plwesfcyayvdy0qdlhddhqqdj8c]</td>\n",
       "      <td>witness_v0_keyhash</td>\n",
       "    </tr>\n",
       "    <tr>\n",
       "      <th>202</th>\n",
       "      <td>0.899626</td>\n",
       "      <td>[bc1qz50azvytjcdf4j6x2rc0ku6y7hvaxmalgvan8x]</td>\n",
       "      <td>witness_v0_keyhash</td>\n",
       "    </tr>\n",
       "    <tr>\n",
       "      <th>203</th>\n",
       "      <td>4.946708</td>\n",
       "      <td>[bc1qvcd6f4kuvqqjsuwnw5083d7zht9pd406w3wjzs]</td>\n",
       "      <td>witness_v0_keyhash</td>\n",
       "    </tr>\n",
       "  </tbody>\n",
       "</table>\n",
       "<p>204 rows × 3 columns</p>\n",
       "</div>"
      ],
      "text/plain": [
       "         value                                     addresses  \\\n",
       "vout                                                           \n",
       "0     0.000321  [bc1q0eu54y63xsqpp4ltqg39qnqxj76hh6c3c4la4p]   \n",
       "1     0.000364  [bc1qpxf79d9mx4gqv9u35pqajvty7yps7tx6zzx3c2]   \n",
       "2     0.000498  [bc1qlh8lgjzgl2zr0duylcdv5t6k2u8su7czktcn7p]   \n",
       "3     0.000620  [bc1q7eqgxqsqzwmjcr6l04hmmy4mcwugk7kc40mshj]   \n",
       "4     0.001048  [bc1qaumjumnpjw9qsyke2y6yrjcszwkl346mux7wqz]   \n",
       "...        ...                                           ...   \n",
       "199   0.767558  [bc1qrdlpgmvf82cpma5pfwcw498s9z39f7z4zpqel8]   \n",
       "200   0.767558  [bc1qc3afhju020vsfcayclepr2ypkcjqdswdd7ckl3]   \n",
       "201   0.767558  [bc1q0kjnlq5x0x8plwesfcyayvdy0qdlhddhqqdj8c]   \n",
       "202   0.899626  [bc1qz50azvytjcdf4j6x2rc0ku6y7hvaxmalgvan8x]   \n",
       "203   4.946708  [bc1qvcd6f4kuvqqjsuwnw5083d7zht9pd406w3wjzs]   \n",
       "\n",
       "                    type  \n",
       "vout                      \n",
       "0     witness_v0_keyhash  \n",
       "1     witness_v0_keyhash  \n",
       "2     witness_v0_keyhash  \n",
       "3     witness_v0_keyhash  \n",
       "4     witness_v0_keyhash  \n",
       "...                  ...  \n",
       "199   witness_v0_keyhash  \n",
       "200   witness_v0_keyhash  \n",
       "201   witness_v0_keyhash  \n",
       "202   witness_v0_keyhash  \n",
       "203   witness_v0_keyhash  \n",
       "\n",
       "[204 rows x 3 columns]"
      ]
     },
     "metadata": {},
     "output_type": "display_data"
    }
   ],
   "source": [
    "### INSERT HERE ###\n",
    "txid = '4f2440996cb288dd11be28800a961f760135d698f3dce5fece3224a78a6fa38b'\n",
    "display_all = False\n",
    "\n",
    "obs.show_tx(txs, txid, display_all)"
   ]
  },
  {
   "cell_type": "markdown",
   "metadata": {},
   "source": [
    "[Back to menu](#Menu)\n",
    "\n",
    "---"
   ]
  },
  {
   "cell_type": "markdown",
   "metadata": {},
   "source": [
    "## Plot"
   ]
  },
  {
   "cell_type": "markdown",
   "metadata": {},
   "source": [
    "Run the cell below to plot the desired `column`.\n",
    "\n",
    "If you give it a `filepath`, the result graph will be saved."
   ]
  },
  {
   "cell_type": "code",
   "execution_count": 6,
   "metadata": {},
   "outputs": [
    {
     "data": {
      "image/png": "[encoded data removed]",
      "text/plain": [
       "<Figure size 1440x720 with 1 Axes>"
      ]
     },
     "metadata": {},
     "output_type": "display_data"
    }
   ],
   "source": [
    "### INSERT HERE ###\n",
    "column = 'n_eq'\n",
    "filepath = ''\n",
    "\n",
    "obs.show_graph(txs, column, filepath)"
   ]
  },
  {
   "cell_type": "markdown",
   "metadata": {},
   "source": [
    "[Back to menu](#Menu)\n",
    "\n",
    "---"
   ]
  },
  {
   "cell_type": "markdown",
   "metadata": {},
   "source": [
    "## Volume"
   ]
  },
  {
   "cell_type": "markdown",
   "metadata": {},
   "source": [
    "Run the cell below to show the volume graph.\n",
    "\n",
    "If you give it a filepath, the result graph will be saved."
   ]
  },
  {
   "cell_type": "code",
   "execution_count": 7,
   "metadata": {},
   "outputs": [
    {
     "data": {
      "text/markdown": [
       "**Input** volume: 25695.44878863"
      ]
     },
     "metadata": {},
     "output_type": "display_data"
    },
    {
     "data": {
      "text/markdown": [
       "**Equal output** volume: 14698.40272846"
      ]
     },
     "metadata": {},
     "output_type": "display_data"
    },
    {
     "data": {
      "image/png": "[encoded data removed]",
      "text/plain": [
       "<Figure size 1440x720 with 1 Axes>"
      ]
     },
     "metadata": {},
     "output_type": "display_data"
    }
   ],
   "source": [
    "filepath = ''\n",
    "\n",
    "obs.show_volume(txs, filepath)"
   ]
  },
  {
   "cell_type": "markdown",
   "metadata": {},
   "source": [
    "[Back to menu](#Menu)\n",
    "\n",
    "---"
   ]
  },
  {
   "cell_type": "markdown",
   "metadata": {},
   "source": [
    "## Daily"
   ]
  },
  {
   "cell_type": "markdown",
   "metadata": {},
   "source": [
    "Run the cell below to show the transanctions per day graph.\n",
    "\n",
    "If you give it a filepath, the result graph will be saved."
   ]
  },
  {
   "cell_type": "code",
   "execution_count": 8,
   "metadata": {},
   "outputs": [
    {
     "data": {
      "text/markdown": [
       "**Average daily**: 32.7"
      ]
     },
     "metadata": {},
     "output_type": "display_data"
    },
    {
     "data": {
      "image/png": "[encoded data removed]",
      "text/plain": [
       "<Figure size 1440x720 with 1 Axes>"
      ]
     },
     "metadata": {},
     "output_type": "display_data"
    }
   ],
   "source": [
    "filepath = ''\n",
    "\n",
    "obs.show_daily(txs, filepath)"
   ]
  },
  {
   "cell_type": "markdown",
   "metadata": {},
   "source": [
    "[Back to menu](#Menu)\n",
    "\n",
    "---"
   ]
  },
  {
   "cell_type": "markdown",
   "metadata": {},
   "source": [
    "## Advanced creation"
   ]
  },
  {
   "cell_type": "markdown",
   "metadata": {},
   "source": [
    "Here you can create a dataframe using your own filters.  \n",
    "You can also pass more than one filter and every transaction that matches at least one of them will be included in the dataframe.\n",
    "**Each and every** criteria has to be satisfied in order for a transaction to match a filter.\n",
    "\n",
    "Valid criteria are:\n",
    "* **txid**\n",
    "    * e.g., `txid='mytxid'` will scan for transactions that include 'mytxid' in the txid.\n",
    "* **address**\n",
    "    * e.g., `addresses=['myaddress']` will scan for transactions that include 'myaddress' in at least one of the addresses. Accept multiple addresses (each and every of them has to be part in a transaction for the transaction to match the filter).\n",
    "* **in_type**\n",
    "    * e.g., `in_type='scripthash'` will scan for transactions that have all the inputs of type 'scripthash'.\n",
    "* **out_type**\n",
    "    * e.g., `out_type='scripthash'` will scan for transactions that have all the outputs of type 'scripthash'.\n",
    "* **version**\n",
    "    * e.g., `version=(minversion, maxversion)` will scan for transactions that have a version number between minversion and maxversion included.\n",
    "* **size**\n",
    "    * e.g., `size=(minsize, maxsize)` will scan for transactions that have a size between minsize and maxsize included.\n",
    "* **vsize**\n",
    "    * e.g., `vsize=(minvsize, maxvsize)` will scan for transactions that have a virtual size between minvsize and maxvsize included.\n",
    "* **weight**\n",
    "    * e.g., `weight=(minweight, maxweight)` will scan for transactions that have a weight between minweight and maxweight included.\n",
    "* **locktime**\n",
    "    * e.g., `locktime=(minlocktime, maxlocktime)` will scan for transactions that have a locktime between minlocktime and maxlocktime included.\n",
    "* **n_in**\n",
    "    * e.g., `n_in=(minn_in, maxn_in)` will scan for transactions that have a number of inputs between minn_in and maxn_in included.\n",
    "* **n_out**\n",
    "    * e.g., `n_out=(minn_out, maxn_out)` will scan for transactions that have a number of outputs between minn_out and maxn_out included.\n",
    "* **n_eq**\n",
    "    * e.g., `n_eq=(minn_eq, maxn_out)` will scan for transactions that have a number of equally sized outputs between minn_eq and maxn_out included.\n",
    "* **den**\n",
    "    * e.g., `den=(minden, maxden)` will scan for transactions that have a denomination between minden and maxden included.\n",
    "* **abs_fee**\n",
    "    * e.g., `abs_fee=(minabs_fee, maxabs_fee)` will scan for transactions that have an absolute fee between minabs_fee and maxabs_fee included.\n",
    "* **rel_fee**\n",
    "    * e.g., `rel_fee=(minrel_fee, maxrel_fee)` will scan for transactions that have a relative fee between minrel_fee and maxrel_fee included.\n",
    "* **height**\n",
    "    * e.g., `height=(minheight, maxheight)` will scan for transactions that have a height between minheight and maxheight included.\n",
    "* **date**\n",
    "    * e.g., `date=('2020-09-18', '2020-09-19 19:00')` will scan for transactions that have a date between mindate and maxdate included.      \n",
    "    \n",
    "You can also pass arbitrary callables as long as they accept a Tx object as parameter and return True or False.  \n",
    "e.g., `callables=[mycallable]`\n",
    "\n",
    "Here's how a filter that searches for transactions that pay more than 100 sat/vbyte and have just 1 input and 1 output would look like.\n",
    "\n",
    "`tx_filter = filters.TxFilter(n_in=(1, 1), n_out=(1, 1), rel_fee=(100, 100000))`"
   ]
  },
  {
   "cell_type": "code",
   "execution_count": null,
   "metadata": {},
   "outputs": [],
   "source": [
    "import observatory as obs\n",
    "import advanced.filters as filters\n",
    "\n",
    "\n",
    "### INSERT HERE ###\n",
    "start = -10\n",
    "end = 0\n",
    "tx_filter = filters.TxFilter(n_in=(1, 1), n_out=(1, 1), rel_fee=(100, 100000))\n",
    "\n",
    "\n",
    "txs = await obs.create_dataframe(start, end, tx_filter)"
   ]
  },
  {
   "cell_type": "markdown",
   "metadata": {},
   "source": [
    "[Back to menu](#Menu)\n",
    "\n",
    "---"
   ]
  }
 ],
 "metadata": {
  "kernelspec": {
   "display_name": "Python 3",
   "language": "python",
   "name": "python3"
  },
  "language_info": {
   "codemirror_mode": {
    "name": "ipython",
    "version": 3
   },
   "file_extension": ".py",
   "mimetype": "text/x-python",
   "name": "python",
   "nbconvert_exporter": "python",
   "pygments_lexer": "ipython3",
   "version": "3.7.3"
  }
 },
 "nbformat": 4,
 "nbformat_minor": 4
}
